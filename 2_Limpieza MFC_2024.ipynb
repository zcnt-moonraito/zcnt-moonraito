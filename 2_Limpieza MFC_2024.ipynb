{
 "cells": [
  {
   "cell_type": "markdown",
   "metadata": {},
   "source": [
    "# Análisis y visualización de datos con python\n",
    "# 3. Limpieza de datos\n",
    "\n",
    "La limpieza de datos es el proceso de identificar, corregir o eliminar datos incorrectos, incompletos, irrelevantes o duplicados en un conjunto de datos. La limpieza de datos es importante para garantizar la precisión y la calidad de los datos y evitar errores en el análisis posterior. Algunas técnicas comunes de limpieza de datos incluyen la eliminación de valores atípicos, la eliminación de valores faltantes, la corrección de errores tipográficos y la eliminación de duplicados.\n",
    "\n",
    "Empezaremos cargando los datos."
   ]
  },
  {
   "cell_type": "code",
   "execution_count": 1,
   "metadata": {
    "tags": []
   },
   "outputs": [],
   "source": [
    "#pip install numpy"
   ]
  },
  {
   "cell_type": "code",
   "execution_count": 2,
   "metadata": {
    "tags": []
   },
   "outputs": [],
   "source": [
    "#!pip install openpyxl"
   ]
  },
  {
   "cell_type": "code",
   "execution_count": 3,
   "metadata": {
    "tags": []
   },
   "outputs": [
    {
     "data": {
      "text/html": [
       "<div>\n",
       "<style scoped>\n",
       "    .dataframe tbody tr th:only-of-type {\n",
       "        vertical-align: middle;\n",
       "    }\n",
       "\n",
       "    .dataframe tbody tr th {\n",
       "        vertical-align: top;\n",
       "    }\n",
       "\n",
       "    .dataframe thead th {\n",
       "        text-align: right;\n",
       "    }\n",
       "</style>\n",
       "<table border=\"1\" class=\"dataframe\">\n",
       "  <thead>\n",
       "    <tr style=\"text-align: right;\">\n",
       "      <th></th>\n",
       "      <th>Cargables</th>\n",
       "      <th>Estatus_FC</th>\n",
       "      <th>Fecha_inhumación</th>\n",
       "      <th>Fecha_defunción</th>\n",
       "      <th>Fecha_exhumación</th>\n",
       "      <th>Restos_tipo</th>\n",
       "      <th>Sexo</th>\n",
       "      <th>Edad</th>\n",
       "      <th>Zona</th>\n",
       "      <th>Línea</th>\n",
       "      <th>...</th>\n",
       "      <th>Apellido_materno</th>\n",
       "      <th>Nombre_completo</th>\n",
       "      <th>Nombre_alternativa</th>\n",
       "      <th>C.I._AVP</th>\n",
       "      <th>Institución_origen</th>\n",
       "      <th>Institución_expediente</th>\n",
       "      <th>Folio Boleta de inhumación</th>\n",
       "      <th>Folio Certificado de muerte fetal</th>\n",
       "      <th>Carpeta en donde se ubica la información</th>\n",
       "      <th>Observaciones</th>\n",
       "    </tr>\n",
       "    <tr>\n",
       "      <th>ID</th>\n",
       "      <th></th>\n",
       "      <th></th>\n",
       "      <th></th>\n",
       "      <th></th>\n",
       "      <th></th>\n",
       "      <th></th>\n",
       "      <th></th>\n",
       "      <th></th>\n",
       "      <th></th>\n",
       "      <th></th>\n",
       "      <th></th>\n",
       "      <th></th>\n",
       "      <th></th>\n",
       "      <th></th>\n",
       "      <th></th>\n",
       "      <th></th>\n",
       "      <th></th>\n",
       "      <th></th>\n",
       "      <th></th>\n",
       "      <th></th>\n",
       "      <th></th>\n",
       "    </tr>\n",
       "  </thead>\n",
       "  <tbody>\n",
       "    <tr>\n",
       "      <th>1</th>\n",
       "      <td>NaN</td>\n",
       "      <td>Inhumación</td>\n",
       "      <td>2015-12-12</td>\n",
       "      <td>2015-12-05 00:00:00</td>\n",
       "      <td>NaN</td>\n",
       "      <td>Cadáver</td>\n",
       "      <td>Masculino</td>\n",
       "      <td>45</td>\n",
       "      <td>5a  clase</td>\n",
       "      <td>1</td>\n",
       "      <td>...</td>\n",
       "      <td>NaN</td>\n",
       "      <td></td>\n",
       "      <td>NaN</td>\n",
       "      <td>FMED/JEF/DPM/193/2015</td>\n",
       "      <td>UNIVERSIDAD NACIONAL AUTONOMA DE MEXICO</td>\n",
       "      <td>10*15</td>\n",
       "      <td>4270</td>\n",
       "      <td>4856</td>\n",
       "      <td>30</td>\n",
       "      <td>NaN</td>\n",
       "    </tr>\n",
       "    <tr>\n",
       "      <th>2</th>\n",
       "      <td>NaN</td>\n",
       "      <td>Inhumación</td>\n",
       "      <td>2015-12-12</td>\n",
       "      <td>2015-12-05 00:00:00</td>\n",
       "      <td>NaN</td>\n",
       "      <td>Cadáver</td>\n",
       "      <td>Masculino</td>\n",
       "      <td>49</td>\n",
       "      <td>5a  clase</td>\n",
       "      <td>1</td>\n",
       "      <td>...</td>\n",
       "      <td>Hernandez</td>\n",
       "      <td>Sebastian  Martinez Hernandez</td>\n",
       "      <td>NaN</td>\n",
       "      <td>FMED/JEF/DPM/193/2015</td>\n",
       "      <td>UNIVERSIDAD NACIONAL AUTONOMA DE MEXICO</td>\n",
       "      <td>11*15</td>\n",
       "      <td>4271</td>\n",
       "      <td>4858</td>\n",
       "      <td>30</td>\n",
       "      <td>NaN</td>\n",
       "    </tr>\n",
       "    <tr>\n",
       "      <th>3</th>\n",
       "      <td>NaN</td>\n",
       "      <td>Inhumación</td>\n",
       "      <td>2015-12-12</td>\n",
       "      <td>2015-12-05 00:00:00</td>\n",
       "      <td>NaN</td>\n",
       "      <td>Cadáver</td>\n",
       "      <td>Masculino</td>\n",
       "      <td>35</td>\n",
       "      <td>5a  clase</td>\n",
       "      <td>1</td>\n",
       "      <td>...</td>\n",
       "      <td>NaN</td>\n",
       "      <td></td>\n",
       "      <td>NaN</td>\n",
       "      <td>FMED/JEF/DPM/193/2015</td>\n",
       "      <td>UNIVERSIDAD NACIONAL AUTONOMA DE MEXICO</td>\n",
       "      <td>12*15</td>\n",
       "      <td>4272</td>\n",
       "      <td>4860</td>\n",
       "      <td>30</td>\n",
       "      <td>NaN</td>\n",
       "    </tr>\n",
       "    <tr>\n",
       "      <th>4</th>\n",
       "      <td>NaN</td>\n",
       "      <td>Inhumación</td>\n",
       "      <td>2015-12-12</td>\n",
       "      <td>2015-12-05 00:00:00</td>\n",
       "      <td>NaN</td>\n",
       "      <td>Cadáver</td>\n",
       "      <td>Masculino</td>\n",
       "      <td>30</td>\n",
       "      <td>5a  clase</td>\n",
       "      <td>1</td>\n",
       "      <td>...</td>\n",
       "      <td>NaN</td>\n",
       "      <td></td>\n",
       "      <td>NaN</td>\n",
       "      <td>FMED/JEF/DPM/193/2015</td>\n",
       "      <td>UNIVERSIDAD NACIONAL AUTONOMA DE MEXICO</td>\n",
       "      <td>24*15</td>\n",
       "      <td>4273</td>\n",
       "      <td>4862</td>\n",
       "      <td>30</td>\n",
       "      <td>NaN</td>\n",
       "    </tr>\n",
       "    <tr>\n",
       "      <th>5</th>\n",
       "      <td>NaN</td>\n",
       "      <td>Inhumación</td>\n",
       "      <td>2015-12-12</td>\n",
       "      <td>2015-12-05 00:00:00</td>\n",
       "      <td>NaN</td>\n",
       "      <td>Cadáver</td>\n",
       "      <td>Masculino</td>\n",
       "      <td>48</td>\n",
       "      <td>5a  clase</td>\n",
       "      <td>1</td>\n",
       "      <td>...</td>\n",
       "      <td>Estrada</td>\n",
       "      <td>Juvencio  Gomez Estrada</td>\n",
       "      <td>NaN</td>\n",
       "      <td>FMED/JEF/DPM/193/2015</td>\n",
       "      <td>UNIVERSIDAD NACIONAL AUTONOMA DE MEXICO</td>\n",
       "      <td>25*15</td>\n",
       "      <td>4274</td>\n",
       "      <td>4864</td>\n",
       "      <td>30</td>\n",
       "      <td>NaN</td>\n",
       "    </tr>\n",
       "  </tbody>\n",
       "</table>\n",
       "<p>5 rows × 26 columns</p>\n",
       "</div>"
      ],
      "text/plain": [
       "    Cargables  Estatus_FC Fecha_inhumación      Fecha_defunción  \\\n",
       "ID                                                                \n",
       "1         NaN  Inhumación       2015-12-12  2015-12-05 00:00:00   \n",
       "2         NaN  Inhumación       2015-12-12  2015-12-05 00:00:00   \n",
       "3         NaN  Inhumación       2015-12-12  2015-12-05 00:00:00   \n",
       "4         NaN  Inhumación       2015-12-12  2015-12-05 00:00:00   \n",
       "5         NaN  Inhumación       2015-12-12  2015-12-05 00:00:00   \n",
       "\n",
       "    Fecha_exhumación Restos_tipo       Sexo Edad        Zona Línea  ...  \\\n",
       "ID                                                                  ...   \n",
       "1                NaN     Cadáver  Masculino   45  5a  clase      1  ...   \n",
       "2                NaN     Cadáver  Masculino   49  5a  clase      1  ...   \n",
       "3                NaN     Cadáver  Masculino   35  5a  clase      1  ...   \n",
       "4                NaN     Cadáver  Masculino   30  5a  clase      1  ...   \n",
       "5                NaN     Cadáver  Masculino   48  5a  clase      1  ...   \n",
       "\n",
       "   Apellido_materno                Nombre_completo Nombre_alternativa  \\\n",
       "ID                                                                      \n",
       "1               NaN                                               NaN   \n",
       "2         Hernandez  Sebastian  Martinez Hernandez                NaN   \n",
       "3               NaN                                               NaN   \n",
       "4               NaN                                               NaN   \n",
       "5           Estrada        Juvencio  Gomez Estrada                NaN   \n",
       "\n",
       "                 C.I._AVP                        Institución_origen  \\\n",
       "ID                                                                    \n",
       "1   FMED/JEF/DPM/193/2015  UNIVERSIDAD NACIONAL AUTONOMA DE MEXICO    \n",
       "2   FMED/JEF/DPM/193/2015  UNIVERSIDAD NACIONAL AUTONOMA DE MEXICO    \n",
       "3   FMED/JEF/DPM/193/2015  UNIVERSIDAD NACIONAL AUTONOMA DE MEXICO    \n",
       "4   FMED/JEF/DPM/193/2015  UNIVERSIDAD NACIONAL AUTONOMA DE MEXICO    \n",
       "5   FMED/JEF/DPM/193/2015  UNIVERSIDAD NACIONAL AUTONOMA DE MEXICO    \n",
       "\n",
       "   Institución_expediente Folio Boleta de inhumación  \\\n",
       "ID                                                     \n",
       "1                   10*15                       4270   \n",
       "2                   11*15                       4271   \n",
       "3                   12*15                       4272   \n",
       "4                   24*15                       4273   \n",
       "5                   25*15                       4274   \n",
       "\n",
       "   Folio Certificado de muerte fetal  \\\n",
       "ID                                     \n",
       "1                               4856   \n",
       "2                               4858   \n",
       "3                               4860   \n",
       "4                               4862   \n",
       "5                               4864   \n",
       "\n",
       "    Carpeta en donde se ubica la información Observaciones  \n",
       "ID                                                          \n",
       "1                                         30           NaN  \n",
       "2                                         30           NaN  \n",
       "3                                         30           NaN  \n",
       "4                                         30           NaN  \n",
       "5                                         30           NaN  \n",
       "\n",
       "[5 rows x 26 columns]"
      ]
     },
     "execution_count": 3,
     "metadata": {},
     "output_type": "execute_result"
    }
   ],
   "source": [
    "from numpy import nan\n",
    "import pandas as pd\n",
    "\n",
    "file_mfc = 'data_raw/MFC_PCDmayo2023.xlsx'\n",
    "df = pd.read_excel(file_mfc, index_col='ID' )\n",
    "df.head()"
   ]
  },
  {
   "cell_type": "markdown",
   "metadata": {
    "tags": []
   },
   "source": [
    "## 3.1 Tipos de datos\n",
    "\n",
    "Cómo vimos anteriormente hay varios tipos de datos como: texto, númerico, fecha, etc.\n",
    "De manera automática pandas infiere el tipo de datos al leer el archivo, de una manera muy similar a como Excel interpreta si un dato es texto o numérico.\n",
    "\n",
    "Los tipos de datos de pandas son:\n",
    "* `object`: texto o mezcla de varios tipos de datos, este es el tipo de dato por defecto\n",
    "* `category`: información categórica, similar a Factors en R\n",
    "* `int64`: números enteros\n",
    "* `float64`: números con punto decimal\n",
    "* `bool`: valores verdadero o falso\n",
    "* `datetime64`: fechas\n",
    "* `timedelta[ns]`: diferencias de tiempo\n",
    "\n",
    "Podemos ver los tipos de datos inferidos usando la opción `.dtypes`."
   ]
  },
  {
   "cell_type": "code",
   "execution_count": 4,
   "metadata": {
    "tags": []
   },
   "outputs": [
    {
     "data": {
      "text/plain": [
       "Cargables                                          float64\n",
       "Estatus_FC                                          object\n",
       "Fecha_inhumación                            datetime64[ns]\n",
       "Fecha_defunción                                     object\n",
       "Fecha_exhumación                                   float64\n",
       "Restos_tipo                                         object\n",
       "Sexo                                                object\n",
       "Edad                                                object\n",
       "Zona                                                object\n",
       "Línea                                               object\n",
       "Fosa                                                object\n",
       "Nivel                                              float64\n",
       "Profundidad                                         object\n",
       "Conocido o Desconocido                              object\n",
       "Nombre(s)                                           object\n",
       "Apellido_paterno                                    object\n",
       "Apellido_materno                                    object\n",
       "Nombre_completo                                     object\n",
       "Nombre_alternativa                                 float64\n",
       "C.I._AVP                                            object\n",
       "Institución_origen                                  object\n",
       "Institución_expediente                              object\n",
       "Folio Boleta de inhumación                          object\n",
       "Folio Certificado de muerte fetal                   object\n",
       "Carpeta en donde se ubica la información            object\n",
       "Observaciones                                       object\n",
       "dtype: object"
      ]
     },
     "execution_count": 4,
     "metadata": {},
     "output_type": "execute_result"
    }
   ],
   "source": [
    "df.dtypes"
   ]
  },
  {
   "cell_type": "markdown",
   "metadata": {},
   "source": [
    "Dependiendo del tipo de dato se pueden hacer diferentes operaciones y hay tipos de limpieza específica.\n",
    "\n",
    "Cómo vimos en la definición de datos ordenados o tidy data idealmente cada tabla tendrá solo datos de un tipo. Esto es para facilitar las operaciones. Si esto no es posible es importante que una columna o variable tenga datos de un solo tipo, ya que esto puede generar errores.\n",
    "\n",
    "Por ejemplo, si tratamos de obtener el promedio de las edades nos genera un error de `ValueError`, ya que hay valores de texto `str` y número `int` mezclados, además de datos faltantes."
   ]
  },
  {
   "cell_type": "code",
   "execution_count": 5,
   "metadata": {
    "tags": []
   },
   "outputs": [
    {
     "data": {
      "text/plain": [
       "array([45, 49, 35, 30, 48, 88, 51, 62, 67, 60, 40, 55, 34, 78, 99, 85, 74,\n",
       "       80, 46, 36, 79, 38, 53, 81, 70, 54, 42, 'Se Ignora',\n",
       "       '42  SEMANAS ', 32, 27, 17, 25, 44, 22, 77, 50, '24 SEMANAS ',\n",
       "       '38 SEMANAS ', 76, 33, 24, 15, 21, 4638, 4852, 4880, 4892, 4900,\n",
       "       4903, 4912, 4914, 4918, 8, 10, 23, 59, 71, 52, 72, '24.8 semanas',\n",
       "       19, 16, 28, 41, 2, 39, 65, 57, 75, '20 SEMANAS ', 12, 87, 96, 93,\n",
       "       37, 83, 86, 63, 68, 66, 64, 69, 58, 91, 90, 84, 82, '22 SEMANAS',\n",
       "       '25 SEMANAS ', 31, 3, 47, '05 SEMANAS ', '21 SEMANAS ',\n",
       "       '06 SEMANAS ', '20 SEMANA S', 20, 103, '32 semanas ',\n",
       "       '11.2 semanas ', '17  semanas ', 89, 26, 94, 73, 29, '40 Semanas ',\n",
       "       '20  Semanas ', 56, 18, '23 SEMANAS ', 61, '36 SEMANAS',\n",
       "       '38 SEMANAS', '31- SEMANAS ', 98, 97, 4, '37  SEMANAS ',\n",
       "       '21  SEMANAS ', '14  SEMANAS ', '24  SEMANAS ', '22  SEMANAS ',\n",
       "       '19 SEMANAS', 43, '28 SEMANAS ', 106, 9, '14 SEMANAS',\n",
       "       '39 SEMANAS', '15 SEMANAS', '18 SEMANAS', '14 SEMANAS ', 92,\n",
       "       '4 MESES', '26 SEMANAS', 13, '12 SEMANAS', '34 SEMANAS',\n",
       "       '24 SEMANAS', '1 dia ', '12 MESES', '7 MESES', '23 SEMANAS',\n",
       "       '33 SEMANAS ', '35  SEMANAS', '20 SEMANAS', '30 SEMANAS',\n",
       "       '35 SEMANAS', '17 SEMANAS ', '25 SEMANAS', '12 SEMANAS ',\n",
       "       '40 SEMANAS ', 95, 5, 1, 11, '26 Semanas', '22 Semanas',\n",
       "       '26  SEMANAS', nan, '36 SEMANAS ', '13 SEMANAS ', '15 SEMANAS ',\n",
       "       101, '29 SEMANAS', '40 SEMANAS', 6, '16 SEMANAS ', '18 SEMANAS ',\n",
       "       '26 SEMANAS ', 14, '32 SEMANAS', '21 SEMANAS', '42 SEMANAS ',\n",
       "       '9 SEMANAS', '6 SEMANAS', '19 SEMANAS ', '10 SEMANAS',\n",
       "       '13.6 SEMANAS ', '26  SEMANAS ', '17 SEMANAS', '29 SEMANAS ',\n",
       "       '11 SEMANAS', '27 SEMANAS ', '41 SEMANAS', '36.8 semanas',\n",
       "       '42 semanas', '34 SEMANAS ', '14.4 SEMANAS ', 110, '37 SEMANAS ',\n",
       "       '39 SEMANAS ', '33 SEMANAS', '1 HORA ', '11 SEMANAS ',\n",
       "       '30 SEMANAS ', '28  SEMANAS ', '13 SEMANAS', '8 SEMANAS ',\n",
       "       '8 DIAS', '28 SEMANAS', '4 SEMANAS ', '22 SEMANAS ', '31 SEMANAS ',\n",
       "       '9 SEMANAS ', '1 hora', '10 semanas', '06 SEMANAS', '5  DIAS ',\n",
       "       '37 SEMANAS', '16  SEMANAS ', '24 Semanas', '17 Semanas ',\n",
       "       '14 Semanas', '23 Semanas ', '27 SEMANAS', '10 SEMANAS ',\n",
       "       '19 SEMANA S'], dtype=object)"
      ]
     },
     "execution_count": 5,
     "metadata": {},
     "output_type": "execute_result"
    }
   ],
   "source": [
    "df['Edad'].unique()"
   ]
  },
  {
   "cell_type": "code",
   "execution_count": 6,
   "metadata": {
    "tags": []
   },
   "outputs": [
    {
     "data": {
      "text/html": [
       "<div>\n",
       "<style scoped>\n",
       "    .dataframe tbody tr th:only-of-type {\n",
       "        vertical-align: middle;\n",
       "    }\n",
       "\n",
       "    .dataframe tbody tr th {\n",
       "        vertical-align: top;\n",
       "    }\n",
       "\n",
       "    .dataframe thead th {\n",
       "        text-align: right;\n",
       "    }\n",
       "</style>\n",
       "<table border=\"1\" class=\"dataframe\">\n",
       "  <thead>\n",
       "    <tr style=\"text-align: right;\">\n",
       "      <th></th>\n",
       "      <th>Cargables</th>\n",
       "      <th>Estatus_FC</th>\n",
       "      <th>Fecha_inhumación</th>\n",
       "      <th>Fecha_defunción</th>\n",
       "      <th>Fecha_exhumación</th>\n",
       "      <th>Restos_tipo</th>\n",
       "      <th>Sexo</th>\n",
       "      <th>Edad</th>\n",
       "      <th>Zona</th>\n",
       "      <th>Línea</th>\n",
       "      <th>...</th>\n",
       "      <th>Apellido_materno</th>\n",
       "      <th>Nombre_completo</th>\n",
       "      <th>Nombre_alternativa</th>\n",
       "      <th>C.I._AVP</th>\n",
       "      <th>Institución_origen</th>\n",
       "      <th>Institución_expediente</th>\n",
       "      <th>Folio Boleta de inhumación</th>\n",
       "      <th>Folio Certificado de muerte fetal</th>\n",
       "      <th>Carpeta en donde se ubica la información</th>\n",
       "      <th>Observaciones</th>\n",
       "    </tr>\n",
       "    <tr>\n",
       "      <th>ID</th>\n",
       "      <th></th>\n",
       "      <th></th>\n",
       "      <th></th>\n",
       "      <th></th>\n",
       "      <th></th>\n",
       "      <th></th>\n",
       "      <th></th>\n",
       "      <th></th>\n",
       "      <th></th>\n",
       "      <th></th>\n",
       "      <th></th>\n",
       "      <th></th>\n",
       "      <th></th>\n",
       "      <th></th>\n",
       "      <th></th>\n",
       "      <th></th>\n",
       "      <th></th>\n",
       "      <th></th>\n",
       "      <th></th>\n",
       "      <th></th>\n",
       "      <th></th>\n",
       "    </tr>\n",
       "  </thead>\n",
       "  <tbody>\n",
       "    <tr>\n",
       "      <th>1</th>\n",
       "      <td>NaN</td>\n",
       "      <td>Inhumación</td>\n",
       "      <td>2015-12-12 00:00:00</td>\n",
       "      <td>2015-12-05 00:00:00</td>\n",
       "      <td>NaN</td>\n",
       "      <td>Cadáver</td>\n",
       "      <td>Masculino</td>\n",
       "      <td>45</td>\n",
       "      <td>5a  clase</td>\n",
       "      <td>1</td>\n",
       "      <td>...</td>\n",
       "      <td>NaN</td>\n",
       "      <td></td>\n",
       "      <td>NaN</td>\n",
       "      <td>FMED/JEF/DPM/193/2015</td>\n",
       "      <td>UNIVERSIDAD NACIONAL AUTONOMA DE MEXICO</td>\n",
       "      <td>10*15</td>\n",
       "      <td>4270</td>\n",
       "      <td>4856</td>\n",
       "      <td>30</td>\n",
       "      <td>NaN</td>\n",
       "    </tr>\n",
       "    <tr>\n",
       "      <th>2</th>\n",
       "      <td>NaN</td>\n",
       "      <td>Inhumación</td>\n",
       "      <td>2015-12-12 00:00:00</td>\n",
       "      <td>2015-12-05 00:00:00</td>\n",
       "      <td>NaN</td>\n",
       "      <td>Cadáver</td>\n",
       "      <td>Masculino</td>\n",
       "      <td>49</td>\n",
       "      <td>5a  clase</td>\n",
       "      <td>1</td>\n",
       "      <td>...</td>\n",
       "      <td>Hernandez</td>\n",
       "      <td>Sebastian  Martinez Hernandez</td>\n",
       "      <td>NaN</td>\n",
       "      <td>FMED/JEF/DPM/193/2015</td>\n",
       "      <td>UNIVERSIDAD NACIONAL AUTONOMA DE MEXICO</td>\n",
       "      <td>11*15</td>\n",
       "      <td>4271</td>\n",
       "      <td>4858</td>\n",
       "      <td>30</td>\n",
       "      <td>NaN</td>\n",
       "    </tr>\n",
       "    <tr>\n",
       "      <th>3</th>\n",
       "      <td>NaN</td>\n",
       "      <td>Inhumación</td>\n",
       "      <td>2015-12-12 00:00:00</td>\n",
       "      <td>2015-12-05 00:00:00</td>\n",
       "      <td>NaN</td>\n",
       "      <td>Cadáver</td>\n",
       "      <td>Masculino</td>\n",
       "      <td>35</td>\n",
       "      <td>5a  clase</td>\n",
       "      <td>1</td>\n",
       "      <td>...</td>\n",
       "      <td>NaN</td>\n",
       "      <td></td>\n",
       "      <td>NaN</td>\n",
       "      <td>FMED/JEF/DPM/193/2015</td>\n",
       "      <td>UNIVERSIDAD NACIONAL AUTONOMA DE MEXICO</td>\n",
       "      <td>12*15</td>\n",
       "      <td>4272</td>\n",
       "      <td>4860</td>\n",
       "      <td>30</td>\n",
       "      <td>NaN</td>\n",
       "    </tr>\n",
       "    <tr>\n",
       "      <th>4</th>\n",
       "      <td>NaN</td>\n",
       "      <td>Inhumación</td>\n",
       "      <td>2015-12-12 00:00:00</td>\n",
       "      <td>2015-12-05 00:00:00</td>\n",
       "      <td>NaN</td>\n",
       "      <td>Cadáver</td>\n",
       "      <td>Masculino</td>\n",
       "      <td>30</td>\n",
       "      <td>5a  clase</td>\n",
       "      <td>1</td>\n",
       "      <td>...</td>\n",
       "      <td>NaN</td>\n",
       "      <td></td>\n",
       "      <td>NaN</td>\n",
       "      <td>FMED/JEF/DPM/193/2015</td>\n",
       "      <td>UNIVERSIDAD NACIONAL AUTONOMA DE MEXICO</td>\n",
       "      <td>24*15</td>\n",
       "      <td>4273</td>\n",
       "      <td>4862</td>\n",
       "      <td>30</td>\n",
       "      <td>NaN</td>\n",
       "    </tr>\n",
       "    <tr>\n",
       "      <th>5</th>\n",
       "      <td>NaN</td>\n",
       "      <td>Inhumación</td>\n",
       "      <td>2015-12-12 00:00:00</td>\n",
       "      <td>2015-12-05 00:00:00</td>\n",
       "      <td>NaN</td>\n",
       "      <td>Cadáver</td>\n",
       "      <td>Masculino</td>\n",
       "      <td>48</td>\n",
       "      <td>5a  clase</td>\n",
       "      <td>1</td>\n",
       "      <td>...</td>\n",
       "      <td>Estrada</td>\n",
       "      <td>Juvencio  Gomez Estrada</td>\n",
       "      <td>NaN</td>\n",
       "      <td>FMED/JEF/DPM/193/2015</td>\n",
       "      <td>UNIVERSIDAD NACIONAL AUTONOMA DE MEXICO</td>\n",
       "      <td>25*15</td>\n",
       "      <td>4274</td>\n",
       "      <td>4864</td>\n",
       "      <td>30</td>\n",
       "      <td>NaN</td>\n",
       "    </tr>\n",
       "  </tbody>\n",
       "</table>\n",
       "<p>5 rows × 26 columns</p>\n",
       "</div>"
      ],
      "text/plain": [
       "   Cargables  Estatus_FC     Fecha_inhumación      Fecha_defunción  \\\n",
       "ID                                                                   \n",
       "1        NaN  Inhumación  2015-12-12 00:00:00  2015-12-05 00:00:00   \n",
       "2        NaN  Inhumación  2015-12-12 00:00:00  2015-12-05 00:00:00   \n",
       "3        NaN  Inhumación  2015-12-12 00:00:00  2015-12-05 00:00:00   \n",
       "4        NaN  Inhumación  2015-12-12 00:00:00  2015-12-05 00:00:00   \n",
       "5        NaN  Inhumación  2015-12-12 00:00:00  2015-12-05 00:00:00   \n",
       "\n",
       "   Fecha_exhumación Restos_tipo       Sexo Edad        Zona Línea  ...  \\\n",
       "ID                                                                 ...   \n",
       "1               NaN     Cadáver  Masculino   45  5a  clase      1  ...   \n",
       "2               NaN     Cadáver  Masculino   49  5a  clase      1  ...   \n",
       "3               NaN     Cadáver  Masculino   35  5a  clase      1  ...   \n",
       "4               NaN     Cadáver  Masculino   30  5a  clase      1  ...   \n",
       "5               NaN     Cadáver  Masculino   48  5a  clase      1  ...   \n",
       "\n",
       "   Apellido_materno                Nombre_completo Nombre_alternativa  \\\n",
       "ID                                                                      \n",
       "1               NaN                                               NaN   \n",
       "2         Hernandez  Sebastian  Martinez Hernandez                NaN   \n",
       "3               NaN                                               NaN   \n",
       "4               NaN                                               NaN   \n",
       "5           Estrada        Juvencio  Gomez Estrada                NaN   \n",
       "\n",
       "                 C.I._AVP                        Institución_origen  \\\n",
       "ID                                                                    \n",
       "1   FMED/JEF/DPM/193/2015  UNIVERSIDAD NACIONAL AUTONOMA DE MEXICO    \n",
       "2   FMED/JEF/DPM/193/2015  UNIVERSIDAD NACIONAL AUTONOMA DE MEXICO    \n",
       "3   FMED/JEF/DPM/193/2015  UNIVERSIDAD NACIONAL AUTONOMA DE MEXICO    \n",
       "4   FMED/JEF/DPM/193/2015  UNIVERSIDAD NACIONAL AUTONOMA DE MEXICO    \n",
       "5   FMED/JEF/DPM/193/2015  UNIVERSIDAD NACIONAL AUTONOMA DE MEXICO    \n",
       "\n",
       "   Institución_expediente Folio Boleta de inhumación  \\\n",
       "ID                                                     \n",
       "1                   10*15                       4270   \n",
       "2                   11*15                       4271   \n",
       "3                   12*15                       4272   \n",
       "4                   24*15                       4273   \n",
       "5                   25*15                       4274   \n",
       "\n",
       "   Folio Certificado de muerte fetal Carpeta en donde se ubica la información  \\\n",
       "ID                                                                              \n",
       "1                               4856                                       30   \n",
       "2                               4858                                       30   \n",
       "3                               4860                                       30   \n",
       "4                               4862                                       30   \n",
       "5                               4864                                       30   \n",
       "\n",
       "   Observaciones  \n",
       "ID                \n",
       "1            NaN  \n",
       "2            NaN  \n",
       "3            NaN  \n",
       "4            NaN  \n",
       "5            NaN  \n",
       "\n",
       "[5 rows x 26 columns]"
      ]
     },
     "execution_count": 6,
     "metadata": {},
     "output_type": "execute_result"
    }
   ],
   "source": [
    "df = pd.read_excel(file_mfc, index_col='ID', dtype='str' )\n",
    "df.head()"
   ]
  },
  {
   "cell_type": "markdown",
   "metadata": {},
   "source": [
    "Los tipos de datos aparecen cómo object"
   ]
  },
  {
   "cell_type": "code",
   "execution_count": 7,
   "metadata": {
    "tags": []
   },
   "outputs": [
    {
     "data": {
      "text/plain": [
       "Cargables                                   object\n",
       "Estatus_FC                                  object\n",
       "Fecha_inhumación                            object\n",
       "Fecha_defunción                             object\n",
       "Fecha_exhumación                            object\n",
       "Restos_tipo                                 object\n",
       "Sexo                                        object\n",
       "Edad                                        object\n",
       "Zona                                        object\n",
       "Línea                                       object\n",
       "Fosa                                        object\n",
       "Nivel                                       object\n",
       "Profundidad                                 object\n",
       "Conocido o Desconocido                      object\n",
       "Nombre(s)                                   object\n",
       "Apellido_paterno                            object\n",
       "Apellido_materno                            object\n",
       "Nombre_completo                             object\n",
       "Nombre_alternativa                          object\n",
       "C.I._AVP                                    object\n",
       "Institución_origen                          object\n",
       "Institución_expediente                      object\n",
       "Folio Boleta de inhumación                  object\n",
       "Folio Certificado de muerte fetal           object\n",
       "Carpeta en donde se ubica la información    object\n",
       "Observaciones                               object\n",
       "dtype: object"
      ]
     },
     "execution_count": 7,
     "metadata": {},
     "output_type": "execute_result"
    }
   ],
   "source": [
    "df.dtypes"
   ]
  },
  {
   "cell_type": "markdown",
   "metadata": {},
   "source": [
    "## 3.2 Eliminación de observaciones y variables\n",
    "\n",
    "Es posible que no todos los datos contenidos en el conjunto de datos sean de interes. Eliminarlos facilita el análisis y eficientiza el uso de memoria.\n",
    "\n",
    "Podemos eliminar filas o columnas si:\n",
    "* Baja variabilidad, por ejemplo una columna donde todos los valores son iguales\n",
    "* Información repetida, por ejemplo filas idénticas\n",
    "* Existe una gran cantidad de datos faltantes\n",
    "* Información no relevante para el análisis.\n",
    "\n",
    "Mucha de esta información se puede obtener del diccionario de datos y el profile."
   ]
  },
  {
   "cell_type": "markdown",
   "metadata": {},
   "source": [
    "Para determinar filas duplicadas usamos el comando `duplicated()`."
   ]
  },
  {
   "cell_type": "code",
   "execution_count": 8,
   "metadata": {
    "tags": []
   },
   "outputs": [
    {
     "data": {
      "text/html": [
       "<div>\n",
       "<style scoped>\n",
       "    .dataframe tbody tr th:only-of-type {\n",
       "        vertical-align: middle;\n",
       "    }\n",
       "\n",
       "    .dataframe tbody tr th {\n",
       "        vertical-align: top;\n",
       "    }\n",
       "\n",
       "    .dataframe thead th {\n",
       "        text-align: right;\n",
       "    }\n",
       "</style>\n",
       "<table border=\"1\" class=\"dataframe\">\n",
       "  <thead>\n",
       "    <tr style=\"text-align: right;\">\n",
       "      <th></th>\n",
       "      <th>Cargables</th>\n",
       "      <th>Estatus_FC</th>\n",
       "      <th>Fecha_inhumación</th>\n",
       "      <th>Fecha_defunción</th>\n",
       "      <th>Fecha_exhumación</th>\n",
       "      <th>Restos_tipo</th>\n",
       "      <th>Sexo</th>\n",
       "      <th>Edad</th>\n",
       "      <th>Zona</th>\n",
       "      <th>Línea</th>\n",
       "      <th>...</th>\n",
       "      <th>Apellido_materno</th>\n",
       "      <th>Nombre_completo</th>\n",
       "      <th>Nombre_alternativa</th>\n",
       "      <th>C.I._AVP</th>\n",
       "      <th>Institución_origen</th>\n",
       "      <th>Institución_expediente</th>\n",
       "      <th>Folio Boleta de inhumación</th>\n",
       "      <th>Folio Certificado de muerte fetal</th>\n",
       "      <th>Carpeta en donde se ubica la información</th>\n",
       "      <th>Observaciones</th>\n",
       "    </tr>\n",
       "    <tr>\n",
       "      <th>ID</th>\n",
       "      <th></th>\n",
       "      <th></th>\n",
       "      <th></th>\n",
       "      <th></th>\n",
       "      <th></th>\n",
       "      <th></th>\n",
       "      <th></th>\n",
       "      <th></th>\n",
       "      <th></th>\n",
       "      <th></th>\n",
       "      <th></th>\n",
       "      <th></th>\n",
       "      <th></th>\n",
       "      <th></th>\n",
       "      <th></th>\n",
       "      <th></th>\n",
       "      <th></th>\n",
       "      <th></th>\n",
       "      <th></th>\n",
       "      <th></th>\n",
       "      <th></th>\n",
       "    </tr>\n",
       "  </thead>\n",
       "  <tbody>\n",
       "    <tr>\n",
       "      <th>3263</th>\n",
       "      <td>NaN</td>\n",
       "      <td>NaN</td>\n",
       "      <td>NaN</td>\n",
       "      <td>NaN</td>\n",
       "      <td>NaN</td>\n",
       "      <td>NaN</td>\n",
       "      <td>NaN</td>\n",
       "      <td>NaN</td>\n",
       "      <td>NaN</td>\n",
       "      <td>NaN</td>\n",
       "      <td>...</td>\n",
       "      <td>NaN</td>\n",
       "      <td></td>\n",
       "      <td>NaN</td>\n",
       "      <td>NaN</td>\n",
       "      <td>NaN</td>\n",
       "      <td>NaN</td>\n",
       "      <td>NaN</td>\n",
       "      <td>NaN</td>\n",
       "      <td>NaN</td>\n",
       "      <td>NaN</td>\n",
       "    </tr>\n",
       "    <tr>\n",
       "      <th>4084</th>\n",
       "      <td>NaN</td>\n",
       "      <td>NaN</td>\n",
       "      <td>NaN</td>\n",
       "      <td>NaN</td>\n",
       "      <td>NaN</td>\n",
       "      <td>NaN</td>\n",
       "      <td>NaN</td>\n",
       "      <td>NaN</td>\n",
       "      <td>NaN</td>\n",
       "      <td>NaN</td>\n",
       "      <td>...</td>\n",
       "      <td>NaN</td>\n",
       "      <td></td>\n",
       "      <td>NaN</td>\n",
       "      <td>NaN</td>\n",
       "      <td>NaN</td>\n",
       "      <td>NaN</td>\n",
       "      <td>NaN</td>\n",
       "      <td>NaN</td>\n",
       "      <td>NaN</td>\n",
       "      <td>NaN</td>\n",
       "    </tr>\n",
       "    <tr>\n",
       "      <th>5258</th>\n",
       "      <td>NaN</td>\n",
       "      <td>NaN</td>\n",
       "      <td>NaN</td>\n",
       "      <td>NaN</td>\n",
       "      <td>NaN</td>\n",
       "      <td>NaN</td>\n",
       "      <td>NaN</td>\n",
       "      <td>NaN</td>\n",
       "      <td>NaN</td>\n",
       "      <td>NaN</td>\n",
       "      <td>...</td>\n",
       "      <td>NaN</td>\n",
       "      <td></td>\n",
       "      <td>NaN</td>\n",
       "      <td>NaN</td>\n",
       "      <td>NaN</td>\n",
       "      <td>NaN</td>\n",
       "      <td>NaN</td>\n",
       "      <td>NaN</td>\n",
       "      <td>NaN</td>\n",
       "      <td>NaN</td>\n",
       "    </tr>\n",
       "  </tbody>\n",
       "</table>\n",
       "<p>3 rows × 26 columns</p>\n",
       "</div>"
      ],
      "text/plain": [
       "     Cargables Estatus_FC Fecha_inhumación Fecha_defunción Fecha_exhumación  \\\n",
       "ID                                                                            \n",
       "3263       NaN        NaN              NaN             NaN              NaN   \n",
       "4084       NaN        NaN              NaN             NaN              NaN   \n",
       "5258       NaN        NaN              NaN             NaN              NaN   \n",
       "\n",
       "     Restos_tipo Sexo Edad Zona Línea  ... Apellido_materno Nombre_completo  \\\n",
       "ID                                     ...                                    \n",
       "3263         NaN  NaN  NaN  NaN   NaN  ...              NaN                   \n",
       "4084         NaN  NaN  NaN  NaN   NaN  ...              NaN                   \n",
       "5258         NaN  NaN  NaN  NaN   NaN  ...              NaN                   \n",
       "\n",
       "     Nombre_alternativa C.I._AVP Institución_origen Institución_expediente  \\\n",
       "ID                                                                           \n",
       "3263                NaN      NaN                NaN                    NaN   \n",
       "4084                NaN      NaN                NaN                    NaN   \n",
       "5258                NaN      NaN                NaN                    NaN   \n",
       "\n",
       "     Folio Boleta de inhumación Folio Certificado de muerte fetal  \\\n",
       "ID                                                                  \n",
       "3263                        NaN                               NaN   \n",
       "4084                        NaN                               NaN   \n",
       "5258                        NaN                               NaN   \n",
       "\n",
       "     Carpeta en donde se ubica la información Observaciones  \n",
       "ID                                                           \n",
       "3263                                      NaN           NaN  \n",
       "4084                                      NaN           NaN  \n",
       "5258                                      NaN           NaN  \n",
       "\n",
       "[3 rows x 26 columns]"
      ]
     },
     "execution_count": 8,
     "metadata": {},
     "output_type": "execute_result"
    }
   ],
   "source": [
    "df[ df.duplicated() ]"
   ]
  },
  {
   "cell_type": "code",
   "execution_count": 9,
   "metadata": {
    "tags": []
   },
   "outputs": [],
   "source": [
    "#!pip install ydata_profiling"
   ]
  },
  {
   "cell_type": "code",
   "execution_count": 10,
   "metadata": {
    "tags": []
   },
   "outputs": [
    {
     "data": {
      "application/vnd.jupyter.widget-view+json": {
       "model_id": "783110597f4344c1bf679429f140dc0e",
       "version_major": 2,
       "version_minor": 0
      },
      "text/plain": [
       "Summarize dataset:   0%|          | 0/5 [00:00<?, ?it/s]"
      ]
     },
     "metadata": {},
     "output_type": "display_data"
    },
    {
     "data": {
      "application/vnd.jupyter.widget-view+json": {
       "model_id": "a1eb82dd4ea1437cb471ac8d5c9f7b01",
       "version_major": 2,
       "version_minor": 0
      },
      "text/plain": [
       "Generate report structure:   0%|          | 0/1 [00:00<?, ?it/s]"
      ]
     },
     "metadata": {},
     "output_type": "display_data"
    },
    {
     "data": {
      "application/vnd.jupyter.widget-view+json": {
       "model_id": "e0e89e49d97f4a43a71e0a2d3b6ee82c",
       "version_major": 2,
       "version_minor": 0
      },
      "text/plain": [
       "Render HTML:   0%|          | 0/1 [00:00<?, ?it/s]"
      ]
     },
     "metadata": {},
     "output_type": "display_data"
    },
    {
     "data": {
      "application/vnd.jupyter.widget-view+json": {
       "model_id": "a27d1cef375a4bf591d131e8965e049d",
       "version_major": 2,
       "version_minor": 0
      },
      "text/plain": [
       "Export report to file:   0%|          | 0/1 [00:00<?, ?it/s]"
      ]
     },
     "metadata": {},
     "output_type": "display_data"
    }
   ],
   "source": [
    "from ydata_profiling import ProfileReport\n",
    "\n",
    "file_profile = \"profiles/MFC_profile_short.html\"\n",
    "prof = ProfileReport(df) \n",
    "prof.to_file(output_file=file_profile)"
   ]
  },
  {
   "cell_type": "code",
   "execution_count": 11,
   "metadata": {
    "tags": []
   },
   "outputs": [
    {
     "data": {
      "text/plain": [
       "ID\n",
       "1       NaN\n",
       "2       NaN\n",
       "3       NaN\n",
       "4       NaN\n",
       "5       NaN\n",
       "       ... \n",
       "7067      1\n",
       "7068      1\n",
       "7069      1\n",
       "7070      1\n",
       "7071      1\n",
       "Name: Cargables, Length: 7071, dtype: object"
      ]
     },
     "execution_count": 11,
     "metadata": {},
     "output_type": "execute_result"
    }
   ],
   "source": [
    "df['Cargables']"
   ]
  },
  {
   "cell_type": "code",
   "execution_count": 12,
   "metadata": {
    "tags": []
   },
   "outputs": [
    {
     "data": {
      "text/plain": [
       "ID\n",
       "5933    1\n",
       "5934    1\n",
       "5935    1\n",
       "5936    1\n",
       "5937    1\n",
       "       ..\n",
       "7067    1\n",
       "7068    1\n",
       "7069    1\n",
       "7070    1\n",
       "7071    1\n",
       "Name: Cargables, Length: 1139, dtype: object"
      ]
     },
     "execution_count": 12,
     "metadata": {},
     "output_type": "execute_result"
    }
   ],
   "source": [
    "df['Cargables'].dropna()"
   ]
  },
  {
   "cell_type": "code",
   "execution_count": 13,
   "metadata": {
    "tags": []
   },
   "outputs": [],
   "source": [
    "df.drop_duplicates(keep=False, inplace=True, ignore_index=True)"
   ]
  },
  {
   "cell_type": "code",
   "execution_count": 14,
   "metadata": {
    "tags": []
   },
   "outputs": [
    {
     "data": {
      "text/html": [
       "<div>\n",
       "<style scoped>\n",
       "    .dataframe tbody tr th:only-of-type {\n",
       "        vertical-align: middle;\n",
       "    }\n",
       "\n",
       "    .dataframe tbody tr th {\n",
       "        vertical-align: top;\n",
       "    }\n",
       "\n",
       "    .dataframe thead th {\n",
       "        text-align: right;\n",
       "    }\n",
       "</style>\n",
       "<table border=\"1\" class=\"dataframe\">\n",
       "  <thead>\n",
       "    <tr style=\"text-align: right;\">\n",
       "      <th></th>\n",
       "      <th>Cargables</th>\n",
       "      <th>Estatus_FC</th>\n",
       "      <th>Fecha_inhumación</th>\n",
       "      <th>Fecha_defunción</th>\n",
       "      <th>Fecha_exhumación</th>\n",
       "      <th>Restos_tipo</th>\n",
       "      <th>Sexo</th>\n",
       "      <th>Edad</th>\n",
       "      <th>Zona</th>\n",
       "      <th>Línea</th>\n",
       "      <th>...</th>\n",
       "      <th>Apellido_materno</th>\n",
       "      <th>Nombre_completo</th>\n",
       "      <th>Nombre_alternativa</th>\n",
       "      <th>C.I._AVP</th>\n",
       "      <th>Institución_origen</th>\n",
       "      <th>Institución_expediente</th>\n",
       "      <th>Folio Boleta de inhumación</th>\n",
       "      <th>Folio Certificado de muerte fetal</th>\n",
       "      <th>Carpeta en donde se ubica la información</th>\n",
       "      <th>Observaciones</th>\n",
       "    </tr>\n",
       "  </thead>\n",
       "  <tbody>\n",
       "  </tbody>\n",
       "</table>\n",
       "<p>0 rows × 26 columns</p>\n",
       "</div>"
      ],
      "text/plain": [
       "Empty DataFrame\n",
       "Columns: [Cargables, Estatus_FC, Fecha_inhumación, Fecha_defunción, Fecha_exhumación, Restos_tipo, Sexo, Edad, Zona, Línea, Fosa, Nivel, Profundidad, Conocido o Desconocido, Nombre(s), Apellido_paterno, Apellido_materno, Nombre_completo, Nombre_alternativa, C.I._AVP, Institución_origen, Institución_expediente, Folio Boleta de inhumación, Folio Certificado de muerte fetal, Carpeta en donde se ubica la información, Observaciones]\n",
       "Index: []\n",
       "\n",
       "[0 rows x 26 columns]"
      ]
     },
     "execution_count": 14,
     "metadata": {},
     "output_type": "execute_result"
    }
   ],
   "source": [
    "df[ df.duplicated() ]"
   ]
  },
  {
   "cell_type": "code",
   "execution_count": 15,
   "metadata": {
    "tags": []
   },
   "outputs": [
    {
     "data": {
      "text/plain": [
       "0       NaN\n",
       "1       NaN\n",
       "2       NaN\n",
       "3       NaN\n",
       "4       NaN\n",
       "       ... \n",
       "7062      1\n",
       "7063      1\n",
       "7064      1\n",
       "7065      1\n",
       "7066      1\n",
       "Name: Cargables, Length: 7067, dtype: object"
      ]
     },
     "execution_count": 15,
     "metadata": {},
     "output_type": "execute_result"
    }
   ],
   "source": [
    "df['Cargables']"
   ]
  },
  {
   "cell_type": "code",
   "execution_count": 16,
   "metadata": {
    "tags": []
   },
   "outputs": [
    {
     "data": {
      "text/plain": [
       "5928    1\n",
       "5929    1\n",
       "5930    1\n",
       "5931    1\n",
       "5932    1\n",
       "       ..\n",
       "7062    1\n",
       "7063    1\n",
       "7064    1\n",
       "7065    1\n",
       "7066    1\n",
       "Name: Cargables, Length: 1139, dtype: object"
      ]
     },
     "execution_count": 16,
     "metadata": {},
     "output_type": "execute_result"
    }
   ],
   "source": [
    "df['Cargables'].dropna()"
   ]
  },
  {
   "cell_type": "markdown",
   "metadata": {},
   "source": [
    "### Profile"
   ]
  },
  {
   "cell_type": "code",
   "execution_count": 17,
   "metadata": {
    "tags": []
   },
   "outputs": [
    {
     "data": {
      "application/vnd.jupyter.widget-view+json": {
       "model_id": "ac727391cb7f485780fa595bf904dbbc",
       "version_major": 2,
       "version_minor": 0
      },
      "text/plain": [
       "Summarize dataset:   0%|          | 0/5 [00:00<?, ?it/s]"
      ]
     },
     "metadata": {},
     "output_type": "display_data"
    },
    {
     "data": {
      "application/vnd.jupyter.widget-view+json": {
       "model_id": "d2b4d441ab52428d8507597a13bad005",
       "version_major": 2,
       "version_minor": 0
      },
      "text/plain": [
       "Generate report structure:   0%|          | 0/1 [00:00<?, ?it/s]"
      ]
     },
     "metadata": {},
     "output_type": "display_data"
    },
    {
     "data": {
      "application/vnd.jupyter.widget-view+json": {
       "model_id": "3ef9aa00299d40aab319311f4f7b816f",
       "version_major": 2,
       "version_minor": 0
      },
      "text/plain": [
       "Render HTML:   0%|          | 0/1 [00:00<?, ?it/s]"
      ]
     },
     "metadata": {},
     "output_type": "display_data"
    },
    {
     "data": {
      "application/vnd.jupyter.widget-view+json": {
       "model_id": "71fab672597e4fa6835d77ad1b015832",
       "version_major": 2,
       "version_minor": 0
      },
      "text/plain": [
       "Export report to file:   0%|          | 0/1 [00:00<?, ?it/s]"
      ]
     },
     "metadata": {},
     "output_type": "display_data"
    }
   ],
   "source": [
    "from ydata_profiling import ProfileReport\n",
    "\n",
    "file_profile = \"profiles/MFC_profile_short-moddropduplicates.html\"\n",
    "prof = ProfileReport(df) \n",
    "prof.to_file(output_file=file_profile)"
   ]
  },
  {
   "cell_type": "code",
   "execution_count": 18,
   "metadata": {
    "tags": []
   },
   "outputs": [
    {
     "data": {
      "text/plain": [
       "0              45\n",
       "1              49\n",
       "2              35\n",
       "3              30\n",
       "4              48\n",
       "          ...    \n",
       "7062    Se Ignora\n",
       "7063    Se Ignora\n",
       "7064    Se Ignora\n",
       "7065           67\n",
       "7066           64\n",
       "Name: Edad, Length: 7067, dtype: object"
      ]
     },
     "execution_count": 18,
     "metadata": {},
     "output_type": "execute_result"
    }
   ],
   "source": [
    "df['Edad']"
   ]
  },
  {
   "cell_type": "code",
   "execution_count": 19,
   "metadata": {
    "tags": []
   },
   "outputs": [
    {
     "data": {
      "text/plain": [
       "0              45\n",
       "1              49\n",
       "2              35\n",
       "3              30\n",
       "4              48\n",
       "          ...    \n",
       "7062    Se Ignora\n",
       "7063    Se Ignora\n",
       "7064    Se Ignora\n",
       "7065           67\n",
       "7066           64\n",
       "Name: Edad, Length: 7064, dtype: object"
      ]
     },
     "execution_count": 19,
     "metadata": {},
     "output_type": "execute_result"
    }
   ],
   "source": [
    "df['Edad'].dropna()"
   ]
  },
  {
   "cell_type": "markdown",
   "metadata": {},
   "source": [
    "## 3.3 Valores faltantes\n",
    "\n",
    "Un valor faltante es un valor que falta o está incompleto en un conjunto de datos. A menudo, los valores faltantes se deben a errores de entrada de datos, fallas en la recolección de datos o problemas técnicos. Los valores faltantes pueden aparecer como espacios en blanco, ceros, letras u otros caracteres. La presencia de valores faltantes en un conjunto de datos puede afectar la precisión y la calidad del análisis de los datos, por lo que es importante identificarlos y manejarlos adecuadamente durante la limpieza y el preprocesamiento de los datos."
   ]
  },
  {
   "cell_type": "markdown",
   "metadata": {},
   "source": [
    "Otra razón para quitar datos es por que hay una gran cantidad de faltantes. El comando `dropna()` sirve para quitar estas filas (`axis=0`) o columnas (`axis=1`).\n",
    "Existen varias opciones:\n",
    "\n",
    "* `how='any'` quita las filas o columnas donde hay al menos un nan, este parametró es el default\n",
    "* `how='all'` quita las filas o columnas donde todos son nan\n",
    "* `thresh=numero` quita las filas o columnas con más de cierto número de nans, esto es útil para detectar automáticamente columnas donde faltan muchos datos\n",
    "\n",
    "Quitemos las columnas donde todos los valores son nan, en este caso 'Datos alternativos':"
   ]
  },
  {
   "cell_type": "markdown",
   "metadata": {},
   "source": [
    "Para determinar si debemos de quitar filas por nan en primer lugar hay que análizar la cantidad de faltantes y su distribución.\n",
    "\n",
    "**Nota** Explicación del comando\n",
    "```\n",
    "df.isna()         <-- determinar si las celdas son na\n",
    "  .sum(axis=1)    <-- sumar los faltantes por fila\n",
    "  .value_counts() <-- contar cuantas veces aparece cada número\n",
    "  .sort_index()   <-- ordenar por el indice, que en este caso es el número de faltantes\n",
    "```\n"
   ]
  },
  {
   "cell_type": "code",
   "execution_count": 20,
   "metadata": {
    "tags": []
   },
   "outputs": [
    {
     "data": {
      "text/plain": [
       "2     143\n",
       "3    2041\n",
       "4    1433\n",
       "5     439\n",
       "6    1753\n",
       "7    1217\n",
       "8      29\n",
       "9      12\n",
       "dtype: int64"
      ]
     },
     "execution_count": 20,
     "metadata": {},
     "output_type": "execute_result"
    }
   ],
   "source": [
    "df.isna().sum(axis=1).value_counts().sort_index()"
   ]
  },
  {
   "cell_type": "code",
   "execution_count": 21,
   "metadata": {
    "tags": []
   },
   "outputs": [
    {
     "data": {
      "text/html": [
       "<div>\n",
       "<style scoped>\n",
       "    .dataframe tbody tr th:only-of-type {\n",
       "        vertical-align: middle;\n",
       "    }\n",
       "\n",
       "    .dataframe tbody tr th {\n",
       "        vertical-align: top;\n",
       "    }\n",
       "\n",
       "    .dataframe thead th {\n",
       "        text-align: right;\n",
       "    }\n",
       "</style>\n",
       "<table border=\"1\" class=\"dataframe\">\n",
       "  <thead>\n",
       "    <tr style=\"text-align: right;\">\n",
       "      <th></th>\n",
       "      <th>Cargables</th>\n",
       "      <th>Estatus_FC</th>\n",
       "      <th>Fecha_inhumación</th>\n",
       "      <th>Fecha_defunción</th>\n",
       "      <th>Fecha_exhumación</th>\n",
       "      <th>Restos_tipo</th>\n",
       "      <th>Sexo</th>\n",
       "      <th>Edad</th>\n",
       "      <th>Zona</th>\n",
       "      <th>Línea</th>\n",
       "      <th>...</th>\n",
       "      <th>Apellido_materno</th>\n",
       "      <th>Nombre_completo</th>\n",
       "      <th>Nombre_alternativa</th>\n",
       "      <th>C.I._AVP</th>\n",
       "      <th>Institución_origen</th>\n",
       "      <th>Institución_expediente</th>\n",
       "      <th>Folio Boleta de inhumación</th>\n",
       "      <th>Folio Certificado de muerte fetal</th>\n",
       "      <th>Carpeta en donde se ubica la información</th>\n",
       "      <th>Observaciones</th>\n",
       "    </tr>\n",
       "  </thead>\n",
       "  <tbody>\n",
       "    <tr>\n",
       "      <th>0</th>\n",
       "      <td>NaN</td>\n",
       "      <td>Inhumación</td>\n",
       "      <td>2015-12-12 00:00:00</td>\n",
       "      <td>2015-12-05 00:00:00</td>\n",
       "      <td>NaN</td>\n",
       "      <td>Cadáver</td>\n",
       "      <td>Masculino</td>\n",
       "      <td>45</td>\n",
       "      <td>5a  clase</td>\n",
       "      <td>1</td>\n",
       "      <td>...</td>\n",
       "      <td>NaN</td>\n",
       "      <td></td>\n",
       "      <td>NaN</td>\n",
       "      <td>FMED/JEF/DPM/193/2015</td>\n",
       "      <td>UNIVERSIDAD NACIONAL AUTONOMA DE MEXICO</td>\n",
       "      <td>10*15</td>\n",
       "      <td>4270</td>\n",
       "      <td>4856</td>\n",
       "      <td>30</td>\n",
       "      <td>NaN</td>\n",
       "    </tr>\n",
       "    <tr>\n",
       "      <th>1</th>\n",
       "      <td>NaN</td>\n",
       "      <td>Inhumación</td>\n",
       "      <td>2015-12-12 00:00:00</td>\n",
       "      <td>2015-12-05 00:00:00</td>\n",
       "      <td>NaN</td>\n",
       "      <td>Cadáver</td>\n",
       "      <td>Masculino</td>\n",
       "      <td>49</td>\n",
       "      <td>5a  clase</td>\n",
       "      <td>1</td>\n",
       "      <td>...</td>\n",
       "      <td>Hernandez</td>\n",
       "      <td>Sebastian  Martinez Hernandez</td>\n",
       "      <td>NaN</td>\n",
       "      <td>FMED/JEF/DPM/193/2015</td>\n",
       "      <td>UNIVERSIDAD NACIONAL AUTONOMA DE MEXICO</td>\n",
       "      <td>11*15</td>\n",
       "      <td>4271</td>\n",
       "      <td>4858</td>\n",
       "      <td>30</td>\n",
       "      <td>NaN</td>\n",
       "    </tr>\n",
       "    <tr>\n",
       "      <th>2</th>\n",
       "      <td>NaN</td>\n",
       "      <td>Inhumación</td>\n",
       "      <td>2015-12-12 00:00:00</td>\n",
       "      <td>2015-12-05 00:00:00</td>\n",
       "      <td>NaN</td>\n",
       "      <td>Cadáver</td>\n",
       "      <td>Masculino</td>\n",
       "      <td>35</td>\n",
       "      <td>5a  clase</td>\n",
       "      <td>1</td>\n",
       "      <td>...</td>\n",
       "      <td>NaN</td>\n",
       "      <td></td>\n",
       "      <td>NaN</td>\n",
       "      <td>FMED/JEF/DPM/193/2015</td>\n",
       "      <td>UNIVERSIDAD NACIONAL AUTONOMA DE MEXICO</td>\n",
       "      <td>12*15</td>\n",
       "      <td>4272</td>\n",
       "      <td>4860</td>\n",
       "      <td>30</td>\n",
       "      <td>NaN</td>\n",
       "    </tr>\n",
       "    <tr>\n",
       "      <th>3</th>\n",
       "      <td>NaN</td>\n",
       "      <td>Inhumación</td>\n",
       "      <td>2015-12-12 00:00:00</td>\n",
       "      <td>2015-12-05 00:00:00</td>\n",
       "      <td>NaN</td>\n",
       "      <td>Cadáver</td>\n",
       "      <td>Masculino</td>\n",
       "      <td>30</td>\n",
       "      <td>5a  clase</td>\n",
       "      <td>1</td>\n",
       "      <td>...</td>\n",
       "      <td>NaN</td>\n",
       "      <td></td>\n",
       "      <td>NaN</td>\n",
       "      <td>FMED/JEF/DPM/193/2015</td>\n",
       "      <td>UNIVERSIDAD NACIONAL AUTONOMA DE MEXICO</td>\n",
       "      <td>24*15</td>\n",
       "      <td>4273</td>\n",
       "      <td>4862</td>\n",
       "      <td>30</td>\n",
       "      <td>NaN</td>\n",
       "    </tr>\n",
       "    <tr>\n",
       "      <th>4</th>\n",
       "      <td>NaN</td>\n",
       "      <td>Inhumación</td>\n",
       "      <td>2015-12-12 00:00:00</td>\n",
       "      <td>2015-12-05 00:00:00</td>\n",
       "      <td>NaN</td>\n",
       "      <td>Cadáver</td>\n",
       "      <td>Masculino</td>\n",
       "      <td>48</td>\n",
       "      <td>5a  clase</td>\n",
       "      <td>1</td>\n",
       "      <td>...</td>\n",
       "      <td>Estrada</td>\n",
       "      <td>Juvencio  Gomez Estrada</td>\n",
       "      <td>NaN</td>\n",
       "      <td>FMED/JEF/DPM/193/2015</td>\n",
       "      <td>UNIVERSIDAD NACIONAL AUTONOMA DE MEXICO</td>\n",
       "      <td>25*15</td>\n",
       "      <td>4274</td>\n",
       "      <td>4864</td>\n",
       "      <td>30</td>\n",
       "      <td>NaN</td>\n",
       "    </tr>\n",
       "    <tr>\n",
       "      <th>...</th>\n",
       "      <td>...</td>\n",
       "      <td>...</td>\n",
       "      <td>...</td>\n",
       "      <td>...</td>\n",
       "      <td>...</td>\n",
       "      <td>...</td>\n",
       "      <td>...</td>\n",
       "      <td>...</td>\n",
       "      <td>...</td>\n",
       "      <td>...</td>\n",
       "      <td>...</td>\n",
       "      <td>...</td>\n",
       "      <td>...</td>\n",
       "      <td>...</td>\n",
       "      <td>...</td>\n",
       "      <td>...</td>\n",
       "      <td>...</td>\n",
       "      <td>...</td>\n",
       "      <td>...</td>\n",
       "      <td>...</td>\n",
       "      <td>...</td>\n",
       "    </tr>\n",
       "    <tr>\n",
       "      <th>7049</th>\n",
       "      <td>1</td>\n",
       "      <td>Inhumación</td>\n",
       "      <td>2023-07-25 00:00:00</td>\n",
       "      <td>2023-07-03 00:00:00</td>\n",
       "      <td>NaN</td>\n",
       "      <td>Cadáver</td>\n",
       "      <td>Masculino</td>\n",
       "      <td>Se Ignora</td>\n",
       "      <td>5 clase</td>\n",
       "      <td>2</td>\n",
       "      <td>...</td>\n",
       "      <td>NaN</td>\n",
       "      <td></td>\n",
       "      <td>NaN</td>\n",
       "      <td>CI-FICUH/UAT-CUH-6/UI-1S/D/01004/07-2023</td>\n",
       "      <td>CIENCIAS FORENSES DEL PODER JUDICIAL</td>\n",
       "      <td>2787</td>\n",
       "      <td>428</td>\n",
       "      <td>15683</td>\n",
       "      <td>NaN</td>\n",
       "      <td>TRAUMATISMO CRANEO ENCEFALICO</td>\n",
       "    </tr>\n",
       "    <tr>\n",
       "      <th>7050</th>\n",
       "      <td>1</td>\n",
       "      <td>Inhumación</td>\n",
       "      <td>2023-07-25 00:00:00</td>\n",
       "      <td>2023-07-04 00:00:00</td>\n",
       "      <td>NaN</td>\n",
       "      <td>Cadáver</td>\n",
       "      <td>Masculino</td>\n",
       "      <td>Se Ignora</td>\n",
       "      <td>5 clase</td>\n",
       "      <td>2</td>\n",
       "      <td>...</td>\n",
       "      <td>NaN</td>\n",
       "      <td></td>\n",
       "      <td>NaN</td>\n",
       "      <td>CI-FIVC/UAT-VC-2/UI-1S/D/01053/07-2023</td>\n",
       "      <td>CIENCIAS FORENSES DEL PODER JUDICIAL</td>\n",
       "      <td>2799</td>\n",
       "      <td>430</td>\n",
       "      <td>15680</td>\n",
       "      <td>NaN</td>\n",
       "      <td>INFARTO AGUDO DEL MIOCARDIO</td>\n",
       "    </tr>\n",
       "    <tr>\n",
       "      <th>7051</th>\n",
       "      <td>1</td>\n",
       "      <td>Inhumación</td>\n",
       "      <td>2023-07-25 00:00:00</td>\n",
       "      <td>2023-07-06 00:00:00</td>\n",
       "      <td>NaN</td>\n",
       "      <td>Cadáver</td>\n",
       "      <td>Masculino</td>\n",
       "      <td>Se Ignora</td>\n",
       "      <td>5 clase</td>\n",
       "      <td>2</td>\n",
       "      <td>...</td>\n",
       "      <td>NaN</td>\n",
       "      <td></td>\n",
       "      <td>NaN</td>\n",
       "      <td>CI-FIIZP/IZP-4/UI-1S/D/03014/07-2023</td>\n",
       "      <td>CIENCIAS FORENSES DEL PODER JUDICIAL</td>\n",
       "      <td>2827</td>\n",
       "      <td>429</td>\n",
       "      <td>15681</td>\n",
       "      <td>NaN</td>\n",
       "      <td>TRAUMATISMO PELVICO</td>\n",
       "    </tr>\n",
       "    <tr>\n",
       "      <th>7057</th>\n",
       "      <td>1</td>\n",
       "      <td>Inhumación</td>\n",
       "      <td>2023-07-25 00:00:00</td>\n",
       "      <td>2023-06-30 00:00:00</td>\n",
       "      <td>NaN</td>\n",
       "      <td>Cadáver</td>\n",
       "      <td>Masculino</td>\n",
       "      <td>Se Ignora</td>\n",
       "      <td>5 clase</td>\n",
       "      <td>2</td>\n",
       "      <td>...</td>\n",
       "      <td>NaN</td>\n",
       "      <td></td>\n",
       "      <td>NaN</td>\n",
       "      <td>CI-FIBJ/UAT-BJ-3/UI-1S/D/02269/06-2023</td>\n",
       "      <td>CIENCIAS FORENSES DEL PODER JUDICIAL</td>\n",
       "      <td>2740</td>\n",
       "      <td>416</td>\n",
       "      <td>15686</td>\n",
       "      <td>NaN</td>\n",
       "      <td>NEUMONIA</td>\n",
       "    </tr>\n",
       "    <tr>\n",
       "      <th>7060</th>\n",
       "      <td>1</td>\n",
       "      <td>Inhumación</td>\n",
       "      <td>2023-07-25 00:00:00</td>\n",
       "      <td>2023-07-02 00:00:00</td>\n",
       "      <td>NaN</td>\n",
       "      <td>Cadáver</td>\n",
       "      <td>Masculino</td>\n",
       "      <td>Se Ignora</td>\n",
       "      <td>5 clase</td>\n",
       "      <td>2</td>\n",
       "      <td>...</td>\n",
       "      <td>NaN</td>\n",
       "      <td></td>\n",
       "      <td>NaN</td>\n",
       "      <td>CI-FIMA/MIL-1/UI-3C/D/00184/07-2023</td>\n",
       "      <td>CIENCIAS FORENSES DEL PODER JUDICIAL</td>\n",
       "      <td>2769</td>\n",
       "      <td>419</td>\n",
       "      <td>15690</td>\n",
       "      <td>NaN</td>\n",
       "      <td>NEUMOPNIA EN UNA PERSONA CON CIROSIS HEPATICA</td>\n",
       "    </tr>\n",
       "  </tbody>\n",
       "</table>\n",
       "<p>4883 rows × 26 columns</p>\n",
       "</div>"
      ],
      "text/plain": [
       "     Cargables  Estatus_FC     Fecha_inhumación      Fecha_defunción  \\\n",
       "0          NaN  Inhumación  2015-12-12 00:00:00  2015-12-05 00:00:00   \n",
       "1          NaN  Inhumación  2015-12-12 00:00:00  2015-12-05 00:00:00   \n",
       "2          NaN  Inhumación  2015-12-12 00:00:00  2015-12-05 00:00:00   \n",
       "3          NaN  Inhumación  2015-12-12 00:00:00  2015-12-05 00:00:00   \n",
       "4          NaN  Inhumación  2015-12-12 00:00:00  2015-12-05 00:00:00   \n",
       "...        ...         ...                  ...                  ...   \n",
       "7049         1  Inhumación  2023-07-25 00:00:00  2023-07-03 00:00:00   \n",
       "7050         1  Inhumación  2023-07-25 00:00:00  2023-07-04 00:00:00   \n",
       "7051         1  Inhumación  2023-07-25 00:00:00  2023-07-06 00:00:00   \n",
       "7057         1  Inhumación  2023-07-25 00:00:00  2023-06-30 00:00:00   \n",
       "7060         1  Inhumación  2023-07-25 00:00:00  2023-07-02 00:00:00   \n",
       "\n",
       "     Fecha_exhumación Restos_tipo       Sexo       Edad        Zona Línea  \\\n",
       "0                 NaN     Cadáver  Masculino         45  5a  clase      1   \n",
       "1                 NaN     Cadáver  Masculino         49  5a  clase      1   \n",
       "2                 NaN     Cadáver  Masculino         35  5a  clase      1   \n",
       "3                 NaN     Cadáver  Masculino         30  5a  clase      1   \n",
       "4                 NaN     Cadáver  Masculino         48  5a  clase      1   \n",
       "...               ...         ...        ...        ...         ...   ...   \n",
       "7049              NaN     Cadáver  Masculino  Se Ignora     5 clase     2   \n",
       "7050              NaN     Cadáver  Masculino  Se Ignora     5 clase     2   \n",
       "7051              NaN     Cadáver  Masculino  Se Ignora     5 clase     2   \n",
       "7057              NaN     Cadáver  Masculino  Se Ignora     5 clase     2   \n",
       "7060              NaN     Cadáver  Masculino  Se Ignora     5 clase     2   \n",
       "\n",
       "      ... Apellido_materno                Nombre_completo Nombre_alternativa  \\\n",
       "0     ...              NaN                                               NaN   \n",
       "1     ...        Hernandez  Sebastian  Martinez Hernandez                NaN   \n",
       "2     ...              NaN                                               NaN   \n",
       "3     ...              NaN                                               NaN   \n",
       "4     ...          Estrada        Juvencio  Gomez Estrada                NaN   \n",
       "...   ...              ...                            ...                ...   \n",
       "7049  ...              NaN                                               NaN   \n",
       "7050  ...              NaN                                               NaN   \n",
       "7051  ...              NaN                                               NaN   \n",
       "7057  ...              NaN                                               NaN   \n",
       "7060  ...              NaN                                               NaN   \n",
       "\n",
       "                                      C.I._AVP  \\\n",
       "0                        FMED/JEF/DPM/193/2015   \n",
       "1                        FMED/JEF/DPM/193/2015   \n",
       "2                        FMED/JEF/DPM/193/2015   \n",
       "3                        FMED/JEF/DPM/193/2015   \n",
       "4                        FMED/JEF/DPM/193/2015   \n",
       "...                                        ...   \n",
       "7049  CI-FICUH/UAT-CUH-6/UI-1S/D/01004/07-2023   \n",
       "7050    CI-FIVC/UAT-VC-2/UI-1S/D/01053/07-2023   \n",
       "7051      CI-FIIZP/IZP-4/UI-1S/D/03014/07-2023   \n",
       "7057   CI-FIBJ/UAT-BJ-3/UI-1S/D/02269/06-2023    \n",
       "7060       CI-FIMA/MIL-1/UI-3C/D/00184/07-2023   \n",
       "\n",
       "                            Institución_origen Institución_expediente  \\\n",
       "0     UNIVERSIDAD NACIONAL AUTONOMA DE MEXICO                   10*15   \n",
       "1     UNIVERSIDAD NACIONAL AUTONOMA DE MEXICO                   11*15   \n",
       "2     UNIVERSIDAD NACIONAL AUTONOMA DE MEXICO                   12*15   \n",
       "3     UNIVERSIDAD NACIONAL AUTONOMA DE MEXICO                   24*15   \n",
       "4     UNIVERSIDAD NACIONAL AUTONOMA DE MEXICO                   25*15   \n",
       "...                                        ...                    ...   \n",
       "7049      CIENCIAS FORENSES DEL PODER JUDICIAL                   2787   \n",
       "7050      CIENCIAS FORENSES DEL PODER JUDICIAL                   2799   \n",
       "7051      CIENCIAS FORENSES DEL PODER JUDICIAL                   2827   \n",
       "7057      CIENCIAS FORENSES DEL PODER JUDICIAL                   2740   \n",
       "7060      CIENCIAS FORENSES DEL PODER JUDICIAL                   2769   \n",
       "\n",
       "     Folio Boleta de inhumación Folio Certificado de muerte fetal  \\\n",
       "0                          4270                              4856   \n",
       "1                          4271                              4858   \n",
       "2                          4272                              4860   \n",
       "3                          4273                              4862   \n",
       "4                          4274                              4864   \n",
       "...                         ...                               ...   \n",
       "7049                        428                             15683   \n",
       "7050                        430                             15680   \n",
       "7051                        429                             15681   \n",
       "7057                        416                             15686   \n",
       "7060                        419                             15690   \n",
       "\n",
       "     Carpeta en donde se ubica la información  \\\n",
       "0                                          30   \n",
       "1                                          30   \n",
       "2                                          30   \n",
       "3                                          30   \n",
       "4                                          30   \n",
       "...                                       ...   \n",
       "7049                                      NaN   \n",
       "7050                                      NaN   \n",
       "7051                                      NaN   \n",
       "7057                                      NaN   \n",
       "7060                                      NaN   \n",
       "\n",
       "                                       Observaciones  \n",
       "0                                                NaN  \n",
       "1                                                NaN  \n",
       "2                                                NaN  \n",
       "3                                                NaN  \n",
       "4                                                NaN  \n",
       "...                                              ...  \n",
       "7049                  TRAUMATISMO CRANEO ENCEFALICO   \n",
       "7050                    INFARTO AGUDO DEL MIOCARDIO   \n",
       "7051                            TRAUMATISMO PELVICO   \n",
       "7057                                        NEUMONIA  \n",
       "7060  NEUMOPNIA EN UNA PERSONA CON CIROSIS HEPATICA   \n",
       "\n",
       "[4883 rows x 26 columns]"
      ]
     },
     "execution_count": 21,
     "metadata": {},
     "output_type": "execute_result"
    }
   ],
   "source": [
    "df[  df.isna().sum(axis=1)>=4  ]"
   ]
  },
  {
   "cell_type": "markdown",
   "metadata": {},
   "source": [
    "En este caso son desconocidos donde no se sabe la edad, por lo que no es necesario quitarlas."
   ]
  },
  {
   "cell_type": "markdown",
   "metadata": {},
   "source": [
    "### Valores especiales\n",
    "\n",
    "Otra opción es llenar los faltantes con un valor específico o especial. Por ejemplo, veamos la columna `Fecha_defunción`.\n",
    "En esta columna hay varios tipos de valores faltantes, los cuales son representados no por `nan`, sino por 'S/D' y '??'\n",
    "\n",
    "Esta es una forma de representar incertidumbre en los datos. Los datos faltantes pueden provenir de varias fuentes. Por ejemplo, en este caso el MFC incluye transcripciones de los registros de las fosas comunes del país. Es diferente que un dato no este en la fuente original a que no haya sido capturado al MFC. \n",
    "\n",
    "Existen varias formas de tratar estos datos faltantes, por ejemplo en este caso no se tiene la hora de defunción, por lo que por convención se representa la hora cómo 00:00:00, esto no significa que la persona haya muerto a esa hora, sino que es un valor default. El llenar los datos con valores default puede sesgar la distribución de los datos."
   ]
  },
  {
   "cell_type": "code",
   "execution_count": 22,
   "metadata": {
    "tags": []
   },
   "outputs": [
    {
     "data": {
      "text/plain": [
       "array(['2015-12-05 00:00:00', '2014-10-20 00:00:00',\n",
       "       '2014-10-21 00:00:00', '2014-10-25 00:00:00',\n",
       "       '2014-10-29 00:00:00', '2014-12-16 00:00:00',\n",
       "       '2014-12-03 00:00:00', '2014-12-18 00:00:00',\n",
       "       '2015-01-03 00:00:00', '2015-01-04 00:00:00',\n",
       "       '2015-01-16 00:00:00', '2015-01-17 00:00:00',\n",
       "       '2015-01-23 00:00:00', '2015-02-01 00:00:00',\n",
       "       '2015-02-27 00:00:00'], dtype=object)"
      ]
     },
     "execution_count": 22,
     "metadata": {},
     "output_type": "execute_result"
    }
   ],
   "source": [
    "df['Fecha_defunción'].unique() [0:15]"
   ]
  },
  {
   "cell_type": "code",
   "execution_count": 23,
   "metadata": {
    "tags": []
   },
   "outputs": [
    {
     "data": {
      "text/plain": [
       "array([nan], dtype=object)"
      ]
     },
     "execution_count": 23,
     "metadata": {},
     "output_type": "execute_result"
    }
   ],
   "source": [
    "df['Fecha_exhumación'].unique() [0:15]"
   ]
  },
  {
   "cell_type": "code",
   "execution_count": 24,
   "metadata": {
    "tags": []
   },
   "outputs": [
    {
     "data": {
      "text/plain": [
       "array(['45', '49', '35', '30', '48', '88', '51', '62', '67', '60', '40',\n",
       "       '55', '34', '78', '99', '85', '74', '80', '46', '36', '79', '38',\n",
       "       '53', '81', '70', '54', '42', 'Se Ignora', '42  SEMANAS ', '32',\n",
       "       '27', '17', '25', '44', '22', '77', '50', '24 SEMANAS ',\n",
       "       '38 SEMANAS ', '76', '33', '24', '15', '21', '4638', '4852',\n",
       "       '4880', '4892', '4900', '4903', '4912', '4914', '4918', '8', '10',\n",
       "       '23', '59', '71', '52', '72', '24.8 semanas', '19', '16', '28',\n",
       "       '41', '2', '39', '65', '57', '75', '20 SEMANAS ', '12', '87', '96',\n",
       "       '93', '37', '83', '86', '63', '68', '66', '64', '69', '58', '91',\n",
       "       '90', '84', '82', '22 SEMANAS', '25 SEMANAS ', '31', '3', '47',\n",
       "       '05 SEMANAS ', '21 SEMANAS ', '06 SEMANAS ', '20 SEMANA S', '20',\n",
       "       '103', '32 semanas ', '11.2 semanas ', '17  semanas ', '89', '26',\n",
       "       '94', '73', '29', '40 Semanas ', '20  Semanas ', '56', '18',\n",
       "       '23 SEMANAS ', '61', '36 SEMANAS', '38 SEMANAS', '31- SEMANAS ',\n",
       "       '98', '97', '4', '37  SEMANAS ', '21  SEMANAS ', '14  SEMANAS ',\n",
       "       '24  SEMANAS ', '22  SEMANAS ', '19 SEMANAS', '43', '28 SEMANAS ',\n",
       "       '106', '9', '14 SEMANAS', '39 SEMANAS', '15 SEMANAS', '18 SEMANAS',\n",
       "       '14 SEMANAS ', '92', '4 MESES', '26 SEMANAS', '13', '12 SEMANAS',\n",
       "       '34 SEMANAS', '24 SEMANAS', '1 dia ', '12 MESES', '7 MESES',\n",
       "       '23 SEMANAS', '33 SEMANAS ', '35  SEMANAS', '20 SEMANAS',\n",
       "       '30 SEMANAS', '35 SEMANAS', '17 SEMANAS ', '25 SEMANAS',\n",
       "       '12 SEMANAS ', '40 SEMANAS ', '95', '5', '1', '11', '26 Semanas',\n",
       "       '22 Semanas', '26  SEMANAS', '36 SEMANAS ', '13 SEMANAS ',\n",
       "       '15 SEMANAS ', '101', '29 SEMANAS', '40 SEMANAS', '6',\n",
       "       '16 SEMANAS ', '18 SEMANAS ', '26 SEMANAS ', '14', '32 SEMANAS',\n",
       "       '21 SEMANAS', '42 SEMANAS ', '9 SEMANAS', '6 SEMANAS',\n",
       "       '19 SEMANAS ', '10 SEMANAS', '13.6 SEMANAS ', '26  SEMANAS ',\n",
       "       '17 SEMANAS', nan, '29 SEMANAS ', '11 SEMANAS', '27 SEMANAS ',\n",
       "       '41 SEMANAS', '36.8 semanas', '42 semanas', '34 SEMANAS ',\n",
       "       '14.4 SEMANAS ', '110', '37 SEMANAS ', '39 SEMANAS ', '33 SEMANAS',\n",
       "       '1 HORA ', '11 SEMANAS ', '30 SEMANAS ', '28  SEMANAS ',\n",
       "       '13 SEMANAS', '8 SEMANAS ', '8 DIAS', '28 SEMANAS', '4 SEMANAS ',\n",
       "       '22 SEMANAS ', '31 SEMANAS ', '9 SEMANAS ', '1 hora', '10 semanas',\n",
       "       '06 SEMANAS', '5  DIAS ', '37 SEMANAS', '16  SEMANAS ',\n",
       "       '24 Semanas', '17 Semanas ', '14 Semanas', '23 Semanas ',\n",
       "       '27 SEMANAS', '10 SEMANAS ', '19 SEMANA S'], dtype=object)"
      ]
     },
     "execution_count": 24,
     "metadata": {},
     "output_type": "execute_result"
    }
   ],
   "source": [
    "df['Edad'].unique()"
   ]
  },
  {
   "cell_type": "code",
   "execution_count": 25,
   "metadata": {
    "tags": []
   },
   "outputs": [
    {
     "data": {
      "text/plain": [
       "array(['5a  clase ', '1900-02-14 00:00:00', '5 clase'], dtype=object)"
      ]
     },
     "execution_count": 25,
     "metadata": {},
     "output_type": "execute_result"
    }
   ],
   "source": [
    "df['Zona'].unique() [0:15]"
   ]
  },
  {
   "cell_type": "markdown",
   "metadata": {},
   "source": [
    "Otro ejemplo es lo que sucede con los nombres. En este caso tenemos varios valores especiales, ya que hay nombres de desconocidos que se representan con un espacio '  ', con `nan` o con el texto 'Nombre de particular que se encuentra con vida, se clasifica como confidencial con fundamento en el artículo 116 de la LGTAIP.  '. Cada uno de estos representa diferentes tipos de falta de información y amerita un tratamiento diferente."
   ]
  },
  {
   "cell_type": "code",
   "execution_count": 26,
   "metadata": {
    "tags": []
   },
   "outputs": [
    {
     "data": {
      "text/plain": [
       "Cargables                                   object\n",
       "Estatus_FC                                  object\n",
       "Fecha_inhumación                            object\n",
       "Fecha_defunción                             object\n",
       "Fecha_exhumación                            object\n",
       "Restos_tipo                                 object\n",
       "Sexo                                        object\n",
       "Edad                                        object\n",
       "Zona                                        object\n",
       "Línea                                       object\n",
       "Fosa                                        object\n",
       "Nivel                                       object\n",
       "Profundidad                                 object\n",
       "Conocido o Desconocido                      object\n",
       "Nombre(s)                                   object\n",
       "Apellido_paterno                            object\n",
       "Apellido_materno                            object\n",
       "Nombre_completo                             object\n",
       "Nombre_alternativa                          object\n",
       "C.I._AVP                                    object\n",
       "Institución_origen                          object\n",
       "Institución_expediente                      object\n",
       "Folio Boleta de inhumación                  object\n",
       "Folio Certificado de muerte fetal           object\n",
       "Carpeta en donde se ubica la información    object\n",
       "Observaciones                               object\n",
       "dtype: object"
      ]
     },
     "execution_count": 26,
     "metadata": {},
     "output_type": "execute_result"
    }
   ],
   "source": [
    "df.dtypes"
   ]
  },
  {
   "cell_type": "code",
   "execution_count": 27,
   "metadata": {
    "scrolled": true,
    "tags": []
   },
   "outputs": [
    {
     "data": {
      "text/plain": [
       "Index(['  ', 'DESCONOCIDO  ', 'N N N', '  Sanchez', '  Vazquez', '  Martinez',\n",
       "       'Vanesa Hernandez Bustos', 'N  N N', 'Celia  Guzman  Soto',\n",
       "       'Alberto Granados  Isaias', 'Carlos  Hernandez ', '  Hernandez',\n",
       "       'Carmen  N N', '  Gonzalez', 'Daniel Sanchez   Otero', 'Roberto N N',\n",
       "       'Jose Luis  N N', 'Jesus Fernando Vazquez  Gonzalez ', 'Juan  N N',\n",
       "       'Erick Renato Padilla Perez', 'Edith Ibañez  Valerio ', 'Javier N N',\n",
       "       '  Tapia ', 'Diana Maybet Ramirez ', 'Hector Samuel  Flores   Muñoz'],\n",
       "      dtype='object')"
      ]
     },
     "execution_count": 27,
     "metadata": {},
     "output_type": "execute_result"
    }
   ],
   "source": [
    "df['Nombre_completo'].value_counts(dropna=False)[0:25].index"
   ]
  },
  {
   "cell_type": "code",
   "execution_count": 28,
   "metadata": {
    "tags": []
   },
   "outputs": [
    {
     "data": {
      "text/plain": [
       "Index([            nan,          'Jose',         'Juan ',    'Jose Luis ',\n",
       "          'Francisco ',       'Carlos ', 'Miguel Angel ',      'Antonio ',\n",
       "           'Fernando ',       'Manuel ',        'Jesus ',        'Jorge ',\n",
       "            'Enrique ',       'Antonio',      'Ricardo ',        'Javier',\n",
       "              'Pedro ',         'Jose ',      'Roberto ',        'Mario '],\n",
       "      dtype='object')"
      ]
     },
     "execution_count": 28,
     "metadata": {},
     "output_type": "execute_result"
    }
   ],
   "source": [
    "df['Nombre(s)'].value_counts(dropna=False)[0:20].index"
   ]
  },
  {
   "cell_type": "code",
   "execution_count": 29,
   "metadata": {
    "tags": []
   },
   "outputs": [
    {
     "data": {
      "text/plain": [
       "Index([         nan,          'N',   'Martinez',  'Hernandez',    'Garcia ',\n",
       "        'Gonzalez ', 'Hernandez ',      'Lopez',  'Rodriguez',    'Sanchez',\n",
       "            'Perez',   'Ramirez ',    'Ramirez',      'Gomez',       'Cruz',\n",
       "           'Garcia',  'Gutierrez',   'Gonzalez',       'Diaz',    'Jimenez'],\n",
       "      dtype='object')"
      ]
     },
     "execution_count": 29,
     "metadata": {},
     "output_type": "execute_result"
    }
   ],
   "source": [
    "df['Apellido_paterno'].value_counts(dropna=False)[0:20].index"
   ]
  },
  {
   "cell_type": "code",
   "execution_count": 30,
   "metadata": {
    "tags": []
   },
   "outputs": [
    {
     "data": {
      "text/plain": [
       "Index([         nan,          'N',  'Hernandez',   'Martinez',      'Lopez',\n",
       "            'Perez',    'Sanchez',  'Rodriguez',  'Gonzalez ',     'Garcia',\n",
       "          'Garcia ',       'Cruz',   'Gonzalez',    'Ramirez',     'Flores',\n",
       "       'Hernandez ',      'Gomez',     'Chavez',     'Torres',    'Vazquez'],\n",
       "      dtype='object')"
      ]
     },
     "execution_count": 30,
     "metadata": {},
     "output_type": "execute_result"
    }
   ],
   "source": [
    "df['Apellido_materno'].value_counts(dropna=False)[0:20].index"
   ]
  },
  {
   "cell_type": "markdown",
   "metadata": {},
   "source": [
    "En el caso de datos númericos se puede sustituir con 'nan', cero, el promedio de los datos o un dato aleatorio de la población (un proceso similar a bootstrapping). Estas últimas opciones estan mas alla del alcance de este tutorial."
   ]
  },
  {
   "cell_type": "markdown",
   "metadata": {
    "tags": []
   },
   "source": [
    "## 3.4 Limpieza de texto\n",
    "\n",
    "En este conjunto las columnas de texto son:\n",
    "* 'Primer apellido'\n",
    "* 'Segundo Apellido'\n",
    "* 'Nombre(s)'\n",
    "* 'Nombre completo'\n",
    "* 'Institución_origen'\n",
    "* 'Rdoc'"
   ]
  },
  {
   "cell_type": "code",
   "execution_count": 31,
   "metadata": {
    "tags": []
   },
   "outputs": [
    {
     "data": {
      "text/plain": [
       "Index(['Cargables', 'Estatus_FC', 'Fecha_inhumación', 'Fecha_defunción',\n",
       "       'Fecha_exhumación', 'Restos_tipo', 'Sexo', 'Edad', 'Zona', 'Línea',\n",
       "       'Fosa', 'Nivel', 'Profundidad', 'Conocido o Desconocido', 'Nombre(s)',\n",
       "       'Apellido_paterno', 'Apellido_materno', 'Nombre_completo',\n",
       "       'Nombre_alternativa', 'C.I._AVP', 'Institución_origen',\n",
       "       'Institución_expediente', 'Folio Boleta de inhumación',\n",
       "       'Folio Certificado de muerte fetal',\n",
       "       'Carpeta en donde se ubica la información', 'Observaciones'],\n",
       "      dtype='object')"
      ]
     },
     "execution_count": 31,
     "metadata": {},
     "output_type": "execute_result"
    }
   ],
   "source": [
    "df.columns"
   ]
  },
  {
   "cell_type": "code",
   "execution_count": 32,
   "metadata": {
    "tags": []
   },
   "outputs": [
    {
     "name": "stdout",
     "output_type": "stream",
     "text": [
      "Nombre(s)\n"
     ]
    },
    {
     "data": {
      "text/plain": [
       "[nan, 'Jose', 'Juan ', 'Jose Luis ', 'Francisco ']"
      ]
     },
     "metadata": {},
     "output_type": "display_data"
    },
    {
     "name": "stdout",
     "output_type": "stream",
     "text": [
      "Apellido_paterno\n"
     ]
    },
    {
     "data": {
      "text/plain": [
       "[nan, 'N', 'Martinez', 'Hernandez', 'Garcia ']"
      ]
     },
     "metadata": {},
     "output_type": "display_data"
    },
    {
     "name": "stdout",
     "output_type": "stream",
     "text": [
      "Apellido_materno\n"
     ]
    },
    {
     "data": {
      "text/plain": [
       "[nan, 'N', 'Hernandez', 'Martinez', 'Lopez']"
      ]
     },
     "metadata": {},
     "output_type": "display_data"
    },
    {
     "name": "stdout",
     "output_type": "stream",
     "text": [
      "Nombre_completo\n"
     ]
    },
    {
     "data": {
      "text/plain": [
       "['  ', 'DESCONOCIDO  ', 'N N N', '  Sanchez', '  Vazquez']"
      ]
     },
     "metadata": {},
     "output_type": "display_data"
    },
    {
     "name": "stdout",
     "output_type": "stream",
     "text": [
      "Estatus_FC\n"
     ]
    },
    {
     "data": {
      "text/plain": [
       "['Inhumación']"
      ]
     },
     "metadata": {},
     "output_type": "display_data"
    },
    {
     "name": "stdout",
     "output_type": "stream",
     "text": [
      "Conocido o Desconocido\n"
     ]
    },
    {
     "data": {
      "text/plain": [
       "['Conocido', 'Desconocido', 'Desconocido  ', 'Desconocido ', nan]"
      ]
     },
     "metadata": {},
     "output_type": "display_data"
    }
   ],
   "source": [
    "col_str = ['Nombre(s)', 'Apellido_paterno', 'Apellido_materno', 'Nombre_completo',\n",
    "           'Estatus_FC', 'Conocido o Desconocido']\n",
    "\n",
    "# Este comando obtiene para cada columna de interes los cinco valores mas comunes\n",
    "# y los despliega para poder revisar los datos\n",
    "for col in col_str:\n",
    "    print(col)\n",
    "    display( df[col].value_counts(dropna=False).index.tolist()[0:5] )"
   ]
  },
  {
   "cell_type": "code",
   "execution_count": 33,
   "metadata": {
    "tags": []
   },
   "outputs": [
    {
     "name": "stdout",
     "output_type": "stream",
     "text": [
      "Nombre(s)\n"
     ]
    },
    {
     "data": {
      "text/plain": [
       "['',\n",
       " 'Jose',\n",
       " 'Juan ',\n",
       " 'Jose Luis ',\n",
       " 'Francisco ',\n",
       " 'Carlos ',\n",
       " 'Miguel Angel ',\n",
       " 'Antonio ',\n",
       " 'Fernando ',\n",
       " 'Manuel ']"
      ]
     },
     "metadata": {},
     "output_type": "display_data"
    },
    {
     "name": "stdout",
     "output_type": "stream",
     "text": [
      "Apellido_paterno\n"
     ]
    },
    {
     "data": {
      "text/plain": [
       "['',\n",
       " 'N',\n",
       " 'Martinez',\n",
       " 'Hernandez',\n",
       " 'Garcia ',\n",
       " 'Gonzalez ',\n",
       " 'Hernandez ',\n",
       " 'Lopez',\n",
       " 'Rodriguez',\n",
       " 'Sanchez']"
      ]
     },
     "metadata": {},
     "output_type": "display_data"
    },
    {
     "name": "stdout",
     "output_type": "stream",
     "text": [
      "Apellido_materno\n"
     ]
    },
    {
     "data": {
      "text/plain": [
       "['',\n",
       " 'N',\n",
       " 'Hernandez',\n",
       " 'Martinez',\n",
       " 'Lopez',\n",
       " 'Perez',\n",
       " 'Sanchez',\n",
       " 'Rodriguez',\n",
       " 'Gonzalez ',\n",
       " 'Garcia']"
      ]
     },
     "metadata": {},
     "output_type": "display_data"
    },
    {
     "name": "stdout",
     "output_type": "stream",
     "text": [
      "Nombre_completo\n"
     ]
    },
    {
     "data": {
      "text/plain": [
       "['  ',\n",
       " 'DESCONOCIDO  ',\n",
       " 'N N N',\n",
       " '  Sanchez',\n",
       " '  Vazquez',\n",
       " '  Martinez',\n",
       " 'Vanesa Hernandez Bustos',\n",
       " 'N  N N',\n",
       " 'Celia  Guzman  Soto',\n",
       " 'Alberto Granados  Isaias']"
      ]
     },
     "metadata": {},
     "output_type": "display_data"
    },
    {
     "name": "stdout",
     "output_type": "stream",
     "text": [
      "Estatus_FC\n"
     ]
    },
    {
     "data": {
      "text/plain": [
       "['Inhumación']"
      ]
     },
     "metadata": {},
     "output_type": "display_data"
    },
    {
     "name": "stdout",
     "output_type": "stream",
     "text": [
      "Conocido o Desconocido\n"
     ]
    },
    {
     "data": {
      "text/plain": [
       "['Conocido',\n",
       " 'Desconocido',\n",
       " 'Desconocido  ',\n",
       " 'Desconocido ',\n",
       " '',\n",
       " 'Desconocido Indeterminado',\n",
       " 'Se Ignora']"
      ]
     },
     "metadata": {},
     "output_type": "display_data"
    }
   ],
   "source": [
    "# esta operación solo se aplica y guarda sobre las columnas de texto\n",
    "df[col_str] = df[col_str].fillna('')\n",
    "\n",
    "for col in col_str:\n",
    "    print(col)\n",
    "    display( df[col].value_counts(dropna=False).index.tolist()[0:10] )"
   ]
  },
  {
   "cell_type": "code",
   "execution_count": 34,
   "metadata": {
    "tags": []
   },
   "outputs": [
    {
     "name": "stdout",
     "output_type": "stream",
     "text": [
      "Remplazando columna: Nombre(s)\n"
     ]
    },
    {
     "data": {
      "text/plain": [
       "['',\n",
       " 'Jose',\n",
       " 'Juan ',\n",
       " 'Jose Luis ',\n",
       " 'Francisco ',\n",
       " 'Carlos ',\n",
       " 'Miguel Angel ',\n",
       " 'Antonio ',\n",
       " 'Fernando ',\n",
       " 'Manuel ',\n",
       " 'Jesus ',\n",
       " 'Jorge ',\n",
       " 'Enrique ',\n",
       " 'Antonio',\n",
       " 'Ricardo ']"
      ]
     },
     "metadata": {},
     "output_type": "display_data"
    },
    {
     "name": "stdout",
     "output_type": "stream",
     "text": [
      "Remplazando columna: Apellido_paterno\n"
     ]
    },
    {
     "data": {
      "text/plain": [
       "['',\n",
       " 'Martinez',\n",
       " 'Hernandez',\n",
       " 'Garcia ',\n",
       " 'Gonzalez ',\n",
       " 'Hernandez ',\n",
       " 'Lopez',\n",
       " 'Rodriguez',\n",
       " 'Sanchez',\n",
       " 'Perez',\n",
       " 'Gomez',\n",
       " 'Ramirez ',\n",
       " 'Ramirez',\n",
       " 'Cruz',\n",
       " 'Garcia']"
      ]
     },
     "metadata": {},
     "output_type": "display_data"
    },
    {
     "name": "stdout",
     "output_type": "stream",
     "text": [
      "Remplazando columna: Apellido_materno\n"
     ]
    },
    {
     "data": {
      "text/plain": [
       "['',\n",
       " 'Hernandez',\n",
       " 'Martinez',\n",
       " 'Lopez',\n",
       " 'Perez',\n",
       " 'Sanchez',\n",
       " 'Rodriguez',\n",
       " 'Gonzalez ',\n",
       " 'Garcia',\n",
       " 'Garcia ',\n",
       " 'Cruz',\n",
       " 'Gonzalez',\n",
       " 'Ramirez',\n",
       " 'Flores',\n",
       " 'Hernandez ']"
      ]
     },
     "metadata": {},
     "output_type": "display_data"
    },
    {
     "name": "stdout",
     "output_type": "stream",
     "text": [
      "Remplazando columna: Nombre_completo\n"
     ]
    },
    {
     "data": {
      "text/plain": [
       "['',\n",
       " 'N N N',\n",
       " '  Vazquez',\n",
       " '  Sanchez',\n",
       " '  Martinez',\n",
       " 'Vanesa Hernandez Bustos',\n",
       " 'Daniel Sanchez   Otero',\n",
       " 'N  N N',\n",
       " 'Celia  Guzman  Soto',\n",
       " 'Alberto Granados  Isaias',\n",
       " 'Carlos  Hernandez ',\n",
       " '  Hernandez',\n",
       " 'Carmen  N N',\n",
       " 'Jose Luis  N N',\n",
       " 'Javier N N']"
      ]
     },
     "metadata": {},
     "output_type": "display_data"
    },
    {
     "name": "stdout",
     "output_type": "stream",
     "text": [
      "Remplazando columna: Estatus_FC\n"
     ]
    },
    {
     "data": {
      "text/plain": [
       "['Inhumación']"
      ]
     },
     "metadata": {},
     "output_type": "display_data"
    },
    {
     "name": "stdout",
     "output_type": "stream",
     "text": [
      "Remplazando columna: Conocido o Desconocido\n"
     ]
    },
    {
     "data": {
      "text/plain": [
       "['Conocido', '', 'Desconocido']"
      ]
     },
     "metadata": {},
     "output_type": "display_data"
    }
   ],
   "source": [
    "replace_str = {'  ':'',\n",
    "               'N':'',\n",
    "               'N ':'',\n",
    "               ' N':'',\n",
    "               'DESCONOCIDO  ':'',\n",
    "              '5a  clase ':'5a clase',\n",
    "              '1900-02-14 00:00:00':'',\n",
    "               '2 BIS ':'2 BIS',\n",
    "               '2b':'2 BIS',\n",
    "               'Desconocido  ':'Desconocido',\n",
    "               'Desconocido ':'Desconocido',\n",
    "               'Desconocido Indeterminado':'Desconocido',\n",
    "               'Se Ignora':'Desconocido',\n",
    "               'Se Ignora ':'',\n",
    "               'Desconocido':'',\n",
    "              }\n",
    "\n",
    "# remplazamos con un for loop columna por columna, en lugar de usar selección\n",
    "# esto es solo por ejemplo\n",
    "\n",
    "for col in col_str:\n",
    "    print('Remplazando columna:', col)\n",
    "    df[col] = df[col].replace(replace_str)\n",
    "    # veamos los cinco valores mas comunes de la columna despúes de la sustitución\n",
    "    display( df[col].value_counts(dropna=False).index.tolist()[0:15] )"
   ]
  },
  {
   "cell_type": "code",
   "execution_count": 35,
   "metadata": {},
   "outputs": [
    {
     "data": {
      "text/plain": [
       "array(['150', '200', 'Se Ignora ', '250', '240', '180', '350', '3000',\n",
       "       '100', '900', '80', '280', '90', '220', '300'], dtype=object)"
      ]
     },
     "execution_count": 35,
     "metadata": {},
     "output_type": "execute_result"
    }
   ],
   "source": [
    "df['Profundidad'].unique() [0:15]"
   ]
  },
  {
   "cell_type": "code",
   "execution_count": 36,
   "metadata": {
    "tags": []
   },
   "outputs": [
    {
     "name": "stdout",
     "output_type": "stream",
     "text": [
      "Remplazando columna: Profundidad\n"
     ]
    },
    {
     "data": {
      "text/plain": [
       "['200',\n",
       " '250',\n",
       " '150',\n",
       " '180',\n",
       " '280',\n",
       " '100',\n",
       " '300',\n",
       " nan,\n",
       " '350',\n",
       " '90',\n",
       " '',\n",
       " '80',\n",
       " '290',\n",
       " '190',\n",
       " 'Desconocido']"
      ]
     },
     "metadata": {},
     "output_type": "display_data"
    }
   ],
   "source": [
    "col_prof = ['Profundidad']\n",
    "\n",
    "replace_prof = {'Desconocido':'',\n",
    "                'Se Ignora ':'',\n",
    "              }\n",
    "\n",
    "for col in col_prof:\n",
    "    print('Remplazando columna:', col)\n",
    "    df[col] = df[col].replace(replace_str)\n",
    "    # veamos los cinco valores mas comunes de la columna despúes de la sustitución\n",
    "    display( df[col].value_counts(dropna=False).index.tolist()[0:15] )"
   ]
  },
  {
   "cell_type": "code",
   "execution_count": 37,
   "metadata": {
    "tags": []
   },
   "outputs": [
    {
     "data": {
      "text/html": [
       "<div>\n",
       "<style scoped>\n",
       "    .dataframe tbody tr th:only-of-type {\n",
       "        vertical-align: middle;\n",
       "    }\n",
       "\n",
       "    .dataframe tbody tr th {\n",
       "        vertical-align: top;\n",
       "    }\n",
       "\n",
       "    .dataframe thead th {\n",
       "        text-align: right;\n",
       "    }\n",
       "</style>\n",
       "<table border=\"1\" class=\"dataframe\">\n",
       "  <thead>\n",
       "    <tr style=\"text-align: right;\">\n",
       "      <th></th>\n",
       "      <th>Cargables</th>\n",
       "      <th>Estatus_FC</th>\n",
       "      <th>Fecha_inhumación</th>\n",
       "      <th>Fecha_defunción</th>\n",
       "      <th>Fecha_exhumación</th>\n",
       "      <th>Restos_tipo</th>\n",
       "      <th>Sexo</th>\n",
       "      <th>Edad</th>\n",
       "      <th>Zona</th>\n",
       "      <th>Línea</th>\n",
       "      <th>...</th>\n",
       "      <th>Apellido_materno</th>\n",
       "      <th>Nombre_completo</th>\n",
       "      <th>Nombre_alternativa</th>\n",
       "      <th>C.I._AVP</th>\n",
       "      <th>Institución_origen</th>\n",
       "      <th>Institución_expediente</th>\n",
       "      <th>Folio Boleta de inhumación</th>\n",
       "      <th>Folio Certificado de muerte fetal</th>\n",
       "      <th>Carpeta en donde se ubica la información</th>\n",
       "      <th>Observaciones</th>\n",
       "    </tr>\n",
       "  </thead>\n",
       "  <tbody>\n",
       "    <tr>\n",
       "      <th>0</th>\n",
       "      <td>NaN</td>\n",
       "      <td>Inhumación</td>\n",
       "      <td>2015-12-12 00:00:00</td>\n",
       "      <td>2015-12-05 00:00:00</td>\n",
       "      <td>NaN</td>\n",
       "      <td>Cadáver</td>\n",
       "      <td>Masculino</td>\n",
       "      <td>45</td>\n",
       "      <td>5a  clase</td>\n",
       "      <td>1</td>\n",
       "      <td>...</td>\n",
       "      <td></td>\n",
       "      <td></td>\n",
       "      <td>NaN</td>\n",
       "      <td>FMED/JEF/DPM/193/2015</td>\n",
       "      <td>UNIVERSIDAD NACIONAL AUTONOMA DE MEXICO</td>\n",
       "      <td>10*15</td>\n",
       "      <td>4270</td>\n",
       "      <td>4856</td>\n",
       "      <td>30</td>\n",
       "      <td>NaN</td>\n",
       "    </tr>\n",
       "    <tr>\n",
       "      <th>1</th>\n",
       "      <td>NaN</td>\n",
       "      <td>Inhumación</td>\n",
       "      <td>2015-12-12 00:00:00</td>\n",
       "      <td>2015-12-05 00:00:00</td>\n",
       "      <td>NaN</td>\n",
       "      <td>Cadáver</td>\n",
       "      <td>Masculino</td>\n",
       "      <td>49</td>\n",
       "      <td>5a  clase</td>\n",
       "      <td>1</td>\n",
       "      <td>...</td>\n",
       "      <td>Hernandez</td>\n",
       "      <td>Sebastian  Martinez Hernandez</td>\n",
       "      <td>NaN</td>\n",
       "      <td>FMED/JEF/DPM/193/2015</td>\n",
       "      <td>UNIVERSIDAD NACIONAL AUTONOMA DE MEXICO</td>\n",
       "      <td>11*15</td>\n",
       "      <td>4271</td>\n",
       "      <td>4858</td>\n",
       "      <td>30</td>\n",
       "      <td>NaN</td>\n",
       "    </tr>\n",
       "    <tr>\n",
       "      <th>2</th>\n",
       "      <td>NaN</td>\n",
       "      <td>Inhumación</td>\n",
       "      <td>2015-12-12 00:00:00</td>\n",
       "      <td>2015-12-05 00:00:00</td>\n",
       "      <td>NaN</td>\n",
       "      <td>Cadáver</td>\n",
       "      <td>Masculino</td>\n",
       "      <td>35</td>\n",
       "      <td>5a  clase</td>\n",
       "      <td>1</td>\n",
       "      <td>...</td>\n",
       "      <td></td>\n",
       "      <td></td>\n",
       "      <td>NaN</td>\n",
       "      <td>FMED/JEF/DPM/193/2015</td>\n",
       "      <td>UNIVERSIDAD NACIONAL AUTONOMA DE MEXICO</td>\n",
       "      <td>12*15</td>\n",
       "      <td>4272</td>\n",
       "      <td>4860</td>\n",
       "      <td>30</td>\n",
       "      <td>NaN</td>\n",
       "    </tr>\n",
       "    <tr>\n",
       "      <th>3</th>\n",
       "      <td>NaN</td>\n",
       "      <td>Inhumación</td>\n",
       "      <td>2015-12-12 00:00:00</td>\n",
       "      <td>2015-12-05 00:00:00</td>\n",
       "      <td>NaN</td>\n",
       "      <td>Cadáver</td>\n",
       "      <td>Masculino</td>\n",
       "      <td>30</td>\n",
       "      <td>5a  clase</td>\n",
       "      <td>1</td>\n",
       "      <td>...</td>\n",
       "      <td></td>\n",
       "      <td></td>\n",
       "      <td>NaN</td>\n",
       "      <td>FMED/JEF/DPM/193/2015</td>\n",
       "      <td>UNIVERSIDAD NACIONAL AUTONOMA DE MEXICO</td>\n",
       "      <td>24*15</td>\n",
       "      <td>4273</td>\n",
       "      <td>4862</td>\n",
       "      <td>30</td>\n",
       "      <td>NaN</td>\n",
       "    </tr>\n",
       "    <tr>\n",
       "      <th>4</th>\n",
       "      <td>NaN</td>\n",
       "      <td>Inhumación</td>\n",
       "      <td>2015-12-12 00:00:00</td>\n",
       "      <td>2015-12-05 00:00:00</td>\n",
       "      <td>NaN</td>\n",
       "      <td>Cadáver</td>\n",
       "      <td>Masculino</td>\n",
       "      <td>48</td>\n",
       "      <td>5a  clase</td>\n",
       "      <td>1</td>\n",
       "      <td>...</td>\n",
       "      <td>Estrada</td>\n",
       "      <td>Juvencio  Gomez Estrada</td>\n",
       "      <td>NaN</td>\n",
       "      <td>FMED/JEF/DPM/193/2015</td>\n",
       "      <td>UNIVERSIDAD NACIONAL AUTONOMA DE MEXICO</td>\n",
       "      <td>25*15</td>\n",
       "      <td>4274</td>\n",
       "      <td>4864</td>\n",
       "      <td>30</td>\n",
       "      <td>NaN</td>\n",
       "    </tr>\n",
       "  </tbody>\n",
       "</table>\n",
       "<p>5 rows × 26 columns</p>\n",
       "</div>"
      ],
      "text/plain": [
       "  Cargables  Estatus_FC     Fecha_inhumación      Fecha_defunción  \\\n",
       "0       NaN  Inhumación  2015-12-12 00:00:00  2015-12-05 00:00:00   \n",
       "1       NaN  Inhumación  2015-12-12 00:00:00  2015-12-05 00:00:00   \n",
       "2       NaN  Inhumación  2015-12-12 00:00:00  2015-12-05 00:00:00   \n",
       "3       NaN  Inhumación  2015-12-12 00:00:00  2015-12-05 00:00:00   \n",
       "4       NaN  Inhumación  2015-12-12 00:00:00  2015-12-05 00:00:00   \n",
       "\n",
       "  Fecha_exhumación Restos_tipo       Sexo Edad        Zona Línea  ...  \\\n",
       "0              NaN     Cadáver  Masculino   45  5a  clase      1  ...   \n",
       "1              NaN     Cadáver  Masculino   49  5a  clase      1  ...   \n",
       "2              NaN     Cadáver  Masculino   35  5a  clase      1  ...   \n",
       "3              NaN     Cadáver  Masculino   30  5a  clase      1  ...   \n",
       "4              NaN     Cadáver  Masculino   48  5a  clase      1  ...   \n",
       "\n",
       "  Apellido_materno                Nombre_completo Nombre_alternativa  \\\n",
       "0                                                                NaN   \n",
       "1        Hernandez  Sebastian  Martinez Hernandez                NaN   \n",
       "2                                                                NaN   \n",
       "3                                                                NaN   \n",
       "4          Estrada        Juvencio  Gomez Estrada                NaN   \n",
       "\n",
       "                C.I._AVP                        Institución_origen  \\\n",
       "0  FMED/JEF/DPM/193/2015  UNIVERSIDAD NACIONAL AUTONOMA DE MEXICO    \n",
       "1  FMED/JEF/DPM/193/2015  UNIVERSIDAD NACIONAL AUTONOMA DE MEXICO    \n",
       "2  FMED/JEF/DPM/193/2015  UNIVERSIDAD NACIONAL AUTONOMA DE MEXICO    \n",
       "3  FMED/JEF/DPM/193/2015  UNIVERSIDAD NACIONAL AUTONOMA DE MEXICO    \n",
       "4  FMED/JEF/DPM/193/2015  UNIVERSIDAD NACIONAL AUTONOMA DE MEXICO    \n",
       "\n",
       "  Institución_expediente Folio Boleta de inhumación  \\\n",
       "0                  10*15                       4270   \n",
       "1                  11*15                       4271   \n",
       "2                  12*15                       4272   \n",
       "3                  24*15                       4273   \n",
       "4                  25*15                       4274   \n",
       "\n",
       "  Folio Certificado de muerte fetal Carpeta en donde se ubica la información  \\\n",
       "0                              4856                                       30   \n",
       "1                              4858                                       30   \n",
       "2                              4860                                       30   \n",
       "3                              4862                                       30   \n",
       "4                              4864                                       30   \n",
       "\n",
       "  Observaciones  \n",
       "0           NaN  \n",
       "1           NaN  \n",
       "2           NaN  \n",
       "3           NaN  \n",
       "4           NaN  \n",
       "\n",
       "[5 rows x 26 columns]"
      ]
     },
     "execution_count": 37,
     "metadata": {},
     "output_type": "execute_result"
    }
   ],
   "source": [
    "df.head()"
   ]
  },
  {
   "cell_type": "markdown",
   "metadata": {},
   "source": [
    "Vamos a reemplazar los datos de la ubicación, origen de datos e instituciones."
   ]
  },
  {
   "cell_type": "code",
   "execution_count": 38,
   "metadata": {},
   "outputs": [
    {
     "data": {
      "text/plain": [
       "array(['UNIVERSIDAD NACIONAL AUTONOMA DE MEXICO ',\n",
       "       'INSTITUTO POLITECNICO NACIONAL ', 'CIENCIAS FORENCES  TSJDF ',\n",
       "       'CIENCIAS FORENSES DEL PODER JUDICIAL',\n",
       "       'UNIVERSIDAD NACIONAL AUTONOMA DE MEXICO',\n",
       "       'SUBPROCURADURIA ESPECIALIZADA EN DELINCUENCIA ORGANIZADA',\n",
       "       'INSTITUTO POLITECNICO NACIONAL',\n",
       "       'INSTITUTO DE CIENCIAS  FORENSES  DEL  D.F.',\n",
       "       'UNIVERSIDAD  ANAHUAC ', 'UNIVERSIDAD  TOMINADA  NAKAMOTO ',\n",
       "       'UNIVERSIDAD  WESTHILL', 'UNIVERSIDAD AUTONOMA DE MEXICO',\n",
       "       'UNIVERSIDAD TOMINAGA TOMINAGA', 'UPAEP',\n",
       "       'ESCUELA LIBRE DE HOMEOPATIA DE MEXICO ',\n",
       "       'CENTRO CULTURAL UNIVERSITARIO JUSTO SIERRA ',\n",
       "       'UNIVERSIDAD DE CELAYA ', 'ESCUELA  MEDICO  MILITAR ',\n",
       "       'UNIVERSIDAD WESTILL', 'UNIVERSIDAD ANAHUAC ',\n",
       "       'INSTITUTO DE CIENCIAS FORENSES DE LA CDMX',\n",
       "       'UNIVERSIDAD WESTHILL', 'CENTRO MEDICO , A. B. C. ',\n",
       "       'UNIVERSIDAD ANAHUAC', 'SECRETARIA DE EDUCACION PUBLICA',\n",
       "       'UNIVERSIDAD TOMINAGA NAKAMOTO',\n",
       "       'UNIVERSIDAD TOMINAGA NAKAMOTO, S.C. ',\n",
       "       'SECRETARIA DE LA DEFENSA NACIONAL ',\n",
       "       'PROCURADURIA GENERAL DE LA REPUBLICA ',\n",
       "       'UNIVERSIDAD POPULAR AUTONOMA DEL ESTADO DE PUEBLA ',\n",
       "       'UNIVERSIDAD NACIONAL  AUTONOMA  DE  MEXICO  ',\n",
       "       'CENTRO  MEDICO  ABC ', 'UNIVERSIDAD DEL EJERCITO Y FUERZA AEREA ',\n",
       "       'CENTRO CULTURAL UNIVERSITARIO',\n",
       "       'UNIVERSIDAD TOMINAGA NAKAMOTO,S.C.',\n",
       "       'CENTRO CULTURAL UNIVERSITYARIO JUSTO SIERRA ',\n",
       "       'UNIVERSIDAD NACIONAL AUTONIOMA DE MEXICO ',\n",
       "       'UNIVERSIDAD ANAHUAC MEXICO',\n",
       "       'UNIVERSIDAD TOMINAGA NAKAMOTO S.C. ',\n",
       "       'SECRETARIA DE EDUCACION PUBLICA ',\n",
       "       'UNIVERSIDAD NACIONAL AUTONOMA DE MEXICO  ',\n",
       "       'ESCUELA DE MEDICINA SAINT LUKE', 'UNIVERSIDAD ANAHUAC MEXICO ',\n",
       "       'UNIVERSIDAD WESTHILL ', 'UNIVERSIDAD TOMINAGA NAKAMOTO,S.C. ',\n",
       "       'ESCUELA MILITAR DE MEDICINA ',\n",
       "       'UNIVERSIDAD TOMINAGA NAKAMOTO, S. C. ',\n",
       "       'ST. LUKE ESCUELA DE MEDICINA ',\n",
       "       'CENTRO CULTURAL UNIVERSITARIO JUSTO SIERRA',\n",
       "       'INSTITUTO DE CIENCIAS FORENSES DE LA CDMX COVID -19',\n",
       "       'UNIVERSIDAD TOMINAGA NAKAMOTO ',\n",
       "       'ESCUELA LIBRE DE HOMEOPATIA DE MEXICO',\n",
       "       'UNIVESIDAD TOMINAGA NAKAMOTO '], dtype=object)"
      ]
     },
     "execution_count": 38,
     "metadata": {},
     "output_type": "execute_result"
    }
   ],
   "source": [
    "df['Institución_origen'].unique()"
   ]
  },
  {
   "cell_type": "code",
   "execution_count": 39,
   "metadata": {},
   "outputs": [
    {
     "data": {
      "text/plain": [
       "array(['10*15', '11*15', '12*15', ..., '2760', '13/2022', '14/2022'],\n",
       "      dtype=object)"
      ]
     },
     "execution_count": 39,
     "metadata": {},
     "output_type": "execute_result"
    }
   ],
   "source": [
    "df['Institución_expediente'].unique()"
   ]
  },
  {
   "cell_type": "code",
   "execution_count": 40,
   "metadata": {},
   "outputs": [
    {
     "data": {
      "text/plain": [
       "array(['4270', '4271', '4272', ..., '418', '419', '10054'], dtype=object)"
      ]
     },
     "execution_count": 40,
     "metadata": {},
     "output_type": "execute_result"
    }
   ],
   "source": [
    "df['Folio Boleta de inhumación'].unique()"
   ]
  },
  {
   "cell_type": "code",
   "execution_count": 41,
   "metadata": {},
   "outputs": [
    {
     "data": {
      "text/plain": [
       "array(['4856', '4858', '4860', ..., '15710', '16589', '16588'],\n",
       "      dtype=object)"
      ]
     },
     "execution_count": 41,
     "metadata": {},
     "output_type": "execute_result"
    }
   ],
   "source": [
    "df['Folio Certificado de muerte fetal'].unique()"
   ]
  },
  {
   "cell_type": "code",
   "execution_count": 42,
   "metadata": {},
   "outputs": [
    {
     "data": {
      "text/plain": [
       "array(['30', '31', '32', '33', '34', '36', '37', '38', '39', '40',\n",
       "       'No va ', '41', '42', '43', '44', '45', '46', '47', '50', '49',\n",
       "       '51', '52', '53', '54', '55', '56', nan], dtype=object)"
      ]
     },
     "execution_count": 42,
     "metadata": {},
     "output_type": "execute_result"
    }
   ],
   "source": [
    "df['Carpeta en donde se ubica la información'].unique()"
   ]
  },
  {
   "cell_type": "code",
   "execution_count": 43,
   "metadata": {
    "tags": []
   },
   "outputs": [
    {
     "name": "stdout",
     "output_type": "stream",
     "text": [
      "Institución_origen\n"
     ]
    },
    {
     "data": {
      "text/plain": [
       "INSTITUTO DE CIENCIAS FORENSES DE LA CDMX                   2776\n",
       "CIENCIAS FORENSES DEL PODER JUDICIAL                        1662\n",
       "INSTITUTO POLITECNICO NACIONAL                               886\n",
       "UNIVERSIDAD NACIONAL AUTONOMA DE MEXICO                      455\n",
       "UNIVERSIDAD NACIONAL AUTONOMA DE MEXICO                      334\n",
       "INSTITUTO POLITECNICO NACIONAL                               302\n",
       "UNIVERSIDAD AUTONOMA DE MEXICO                               140\n",
       "CIENCIAS FORENCES  TSJDF                                      80\n",
       "UNIVERSIDAD WESTHILL                                          44\n",
       "CENTRO CULTURAL UNIVERSITYARIO JUSTO SIERRA                   38\n",
       "UNIVERSIDAD NACIONAL AUTONIOMA DE MEXICO                      33\n",
       "CENTRO CULTURAL UNIVERSITARIO JUSTO SIERRA                    32\n",
       "INSTITUTO DE CIENCIAS  FORENSES  DEL  D.F.                    31\n",
       "UNIVERSIDAD ANAHUAC                                           27\n",
       "SECRETARIA DE EDUCACION PUBLICA                               18\n",
       "UNIVERSIDAD NACIONAL  AUTONOMA  DE  MEXICO                    18\n",
       "UNIVERSIDAD ANAHUAC MEXICO                                    16\n",
       "INSTITUTO DE CIENCIAS FORENSES DE LA CDMX COVID -19           11\n",
       "ESCUELA MILITAR DE MEDICINA                                   11\n",
       "UNIVERSIDAD NACIONAL AUTONOMA DE MEXICO                       10\n",
       "ESCUELA  MEDICO  MILITAR                                      10\n",
       "SECRETARIA DE EDUCACION PUBLICA                                9\n",
       "UNIVERSIDAD WESTHILL                                           8\n",
       "UNIVERSIDAD TOMINAGA NAKAMOTO                                  8\n",
       "ESCUELA LIBRE DE HOMEOPATIA DE MEXICO                          7\n",
       "CENTRO CULTURAL UNIVERSITARIO JUSTO SIERRA                     7\n",
       "UNIVERSIDAD TOMINAGA NAKAMOTO,S.C.                             7\n",
       "UNIVERSIDAD POPULAR AUTONOMA DEL ESTADO DE PUEBLA              7\n",
       "UNIVERSIDAD ANAHUAC MEXICO                                     6\n",
       "UPAEP                                                          6\n",
       "UNIVERSIDAD DEL EJERCITO Y FUERZA AEREA                        6\n",
       "ST. LUKE ESCUELA DE MEDICINA                                   6\n",
       "UNIVERSIDAD DE CELAYA                                          6\n",
       "CENTRO CULTURAL UNIVERSITARIO                                  5\n",
       "UNIVERSIDAD ANAHUAC                                            5\n",
       "UNIVERSIDAD  WESTHILL                                          5\n",
       "UNIVERSIDAD  ANAHUAC                                           5\n",
       "ESCUELA DE MEDICINA SAINT LUKE                                 4\n",
       "UNIVERSIDAD WESTILL                                            3\n",
       "UNIVERSIDAD TOMINAGA NAKAMOTO,S.C.                             3\n",
       "ESCUELA LIBRE DE HOMEOPATIA DE MEXICO                          2\n",
       "UNIVERSIDAD TOMINAGA NAKAMOTO, S.C.                            2\n",
       "PROCURADURIA GENERAL DE LA REPUBLICA                           2\n",
       "SECRETARIA DE LA DEFENSA NACIONAL                              2\n",
       "CENTRO MEDICO , A. B. C.                                       2\n",
       "UNIVERSIDAD TOMINAGA TOMINAGA                                  2\n",
       "SUBPROCURADURIA ESPECIALIZADA EN DELINCUENCIA ORGANIZADA       2\n",
       "UNIVERSIDAD TOMINAGA NAKAMOTO S.C.                             1\n",
       "CENTRO  MEDICO  ABC                                            1\n",
       "UNIVERSIDAD TOMINAGA NAKAMOTO, S. C.                           1\n",
       "UNIVERSIDAD  TOMINADA  NAKAMOTO                                1\n",
       "UNIVERSIDAD TOMINAGA NAKAMOTO                                  1\n",
       "UNIVESIDAD TOMINAGA NAKAMOTO                                   1\n",
       "Name: Institución_origen, dtype: int64"
      ]
     },
     "metadata": {},
     "output_type": "display_data"
    },
    {
     "name": "stdout",
     "output_type": "stream",
     "text": [
      "Institución_expediente\n"
     ]
    },
    {
     "data": {
      "text/plain": [
       "S/N        12\n",
       "1          10\n",
       "4          10\n",
       "3          10\n",
       "7           9\n",
       "           ..\n",
       "331/19      1\n",
       "415/19      1\n",
       "67`18       1\n",
       "69`18       1\n",
       "14/2022     1\n",
       "Name: Institución_expediente, Length: 5462, dtype: int64"
      ]
     },
     "metadata": {},
     "output_type": "display_data"
    },
    {
     "name": "stdout",
     "output_type": "stream",
     "text": [
      "Folio Boleta de inhumación\n"
     ]
    },
    {
     "data": {
      "text/plain": [
       "Se Ignora    25\n",
       "             16\n",
       "0            13\n",
       "10967         4\n",
       "S/N           4\n",
       "             ..\n",
       "1984          1\n",
       "1983          1\n",
       "1982          1\n",
       "2058          1\n",
       "10054         1\n",
       "Name: Folio Boleta de inhumación, Length: 6054, dtype: int64"
      ]
     },
     "metadata": {},
     "output_type": "display_data"
    },
    {
     "name": "stdout",
     "output_type": "stream",
     "text": [
      "Folio Certificado de muerte fetal\n"
     ]
    },
    {
     "data": {
      "text/plain": [
       "Se Ignora     56\n",
       "Se Ignora     28\n",
       "              15\n",
       "0             13\n",
       "S/N           11\n",
       "              ..\n",
       "2607           1\n",
       "2598           1\n",
       "2524           1\n",
       "2518           1\n",
       "16588          1\n",
       "Name: Folio Certificado de muerte fetal, Length: 6218, dtype: int64"
      ]
     },
     "metadata": {},
     "output_type": "display_data"
    },
    {
     "name": "stdout",
     "output_type": "stream",
     "text": [
      "Carpeta en donde se ubica la información\n"
     ]
    },
    {
     "data": {
      "text/plain": [
       "          918\n",
       "55        840\n",
       "51        374\n",
       "50        368\n",
       "47        324\n",
       "52        313\n",
       "43        280\n",
       "41        261\n",
       "31        258\n",
       "42        246\n",
       "46        236\n",
       "40        221\n",
       "39        219\n",
       "38        202\n",
       "33        201\n",
       "30        198\n",
       "44        193\n",
       "45        188\n",
       "36        188\n",
       "32        187\n",
       "53        176\n",
       "49        174\n",
       "34        160\n",
       "37        150\n",
       "54        136\n",
       "56         55\n",
       "No va       1\n",
       "Name: Carpeta en donde se ubica la información, dtype: int64"
      ]
     },
     "metadata": {},
     "output_type": "display_data"
    }
   ],
   "source": [
    "col_fuente = ['Institución_origen', 'Institución_expediente', 'Folio Boleta de inhumación', \n",
    "              'Folio Certificado de muerte fetal', 'Carpeta en donde se ubica la información']\n",
    "\n",
    "df[col_fuente] = df[col_fuente].fillna('')\n",
    "\n",
    "for col in col_fuente:\n",
    "    print(col)\n",
    "    display( df[col].value_counts(dropna=False) )"
   ]
  },
  {
   "cell_type": "code",
   "execution_count": 44,
   "metadata": {
    "tags": []
   },
   "outputs": [
    {
     "name": "stdout",
     "output_type": "stream",
     "text": [
      "Remplazando columna: Institución_origen\n"
     ]
    },
    {
     "data": {
      "text/plain": [
       "['INSTITUTO DE CIENCIAS FORENSES - TRIBUNAL SUPERIOR DE JUSTICIA DE LA CIUDAD DE MÉXICO',\n",
       " 'INSTITUTO POLITÉCNICO NACIONAL - ESCUELA NACIONAL DE MEDICINA Y HOMEOPATÍA',\n",
       " 'UNIVERSIDAD NACIONAL AUTÓNOMA DE MÉXICO - FACULTAD DE MEDICINA',\n",
       " 'CENTRO CULTURAL UNIVERSITARIO JUSTO SIERRA',\n",
       " 'UNIVERSIDAD WESTHILL - FACULTAD DE MEDICINA',\n",
       " 'UNIVERSIDAD ANÁHUAC - FACULTAD DE CIENCIAS DE LA SALUD',\n",
       " 'SECRETARÍA DE LA DEFENSA NACIONAL - ESCUELA MILITAR DE MEDICINA',\n",
       " 'UNIVERSIDAD TOMINAGA NAKAMOTO S.C. ESCUELA DE MEDICINA CIENCIAS BÁSICAS',\n",
       " 'SECRETARÍA DE EDUCACIÓN PÚBLICA',\n",
       " 'UNIVERSIDAD POPULAR AUTÓNOMA DEL ESTADO DE PUEBLA',\n",
       " 'ESCUELA DE MEDICINA SAINT LUKE',\n",
       " 'INSTITUCIÓN DE ASISTENCIA PRIVADA - ESCUELA LIBRE DE HOMEOPATÍA DE MÉXICO',\n",
       " 'ESCUELA DE MEDICINA DE LA UNIVERSIDAD DE CELAYA',\n",
       " 'THE AMERICAN BRITISH COWDRAY MEDICAL CENTER LA.P.',\n",
       " 'SUBPROCURADURÍA ESPECIALIZADA EN DELINCUENCIA ORGANIZADA (SEIDO)',\n",
       " 'PROCURADURÍA GENERAL DE LA REPÚBLICA']"
      ]
     },
     "metadata": {},
     "output_type": "display_data"
    },
    {
     "name": "stdout",
     "output_type": "stream",
     "text": [
      "Remplazando columna: Institución_expediente\n"
     ]
    },
    {
     "data": {
      "text/plain": [
       "['',\n",
       " '1',\n",
       " '3',\n",
       " '4',\n",
       " '5',\n",
       " '7',\n",
       " '6',\n",
       " '2',\n",
       " '10',\n",
       " '1699',\n",
       " '9',\n",
       " '11',\n",
       " '3803',\n",
       " '4716',\n",
       " '8',\n",
       " '4474',\n",
       " '3192',\n",
       " '1540',\n",
       " '2767',\n",
       " '3047',\n",
       " '1709',\n",
       " '4482',\n",
       " '2616',\n",
       " '599',\n",
       " '449']"
      ]
     },
     "metadata": {},
     "output_type": "display_data"
    },
    {
     "name": "stdout",
     "output_type": "stream",
     "text": [
      "Remplazando columna: Folio Boleta de inhumación\n"
     ]
    },
    {
     "data": {
      "text/plain": [
       "['',\n",
       " '4608',\n",
       " '193',\n",
       " '6617',\n",
       " '4567',\n",
       " '384',\n",
       " '3768',\n",
       " '10967',\n",
       " '245',\n",
       " '4092',\n",
       " '7450',\n",
       " '7166',\n",
       " '10968',\n",
       " '6878',\n",
       " '152',\n",
       " '7451',\n",
       " '2969',\n",
       " '43010',\n",
       " '661',\n",
       " '1779',\n",
       " '2565',\n",
       " '14478',\n",
       " '1144',\n",
       " '14370',\n",
       " '3402']"
      ]
     },
     "metadata": {},
     "output_type": "display_data"
    },
    {
     "name": "stdout",
     "output_type": "stream",
     "text": [
      "Remplazando columna: Folio Certificado de muerte fetal\n"
     ]
    },
    {
     "data": {
      "text/plain": [
       "['',\n",
       " '9903',\n",
       " '2604',\n",
       " '3777',\n",
       " '1144',\n",
       " '2616',\n",
       " '1985',\n",
       " '2553',\n",
       " '2552',\n",
       " '4061',\n",
       " '1380',\n",
       " '6548',\n",
       " '5198',\n",
       " '10527',\n",
       " '5199',\n",
       " '14112',\n",
       " '3538',\n",
       " '1988',\n",
       " '32808',\n",
       " '5191',\n",
       " '15414',\n",
       " '15420',\n",
       " '4193',\n",
       " '1086',\n",
       " '25119']"
      ]
     },
     "metadata": {},
     "output_type": "display_data"
    },
    {
     "name": "stdout",
     "output_type": "stream",
     "text": [
      "Remplazando columna: Carpeta en donde se ubica la información\n"
     ]
    },
    {
     "data": {
      "text/plain": [
       "['',\n",
       " '55',\n",
       " '51',\n",
       " '50',\n",
       " '47',\n",
       " '52',\n",
       " '43',\n",
       " '41',\n",
       " '31',\n",
       " '42',\n",
       " '46',\n",
       " '40',\n",
       " '39',\n",
       " '38',\n",
       " '33',\n",
       " '30',\n",
       " '44',\n",
       " '45',\n",
       " '36',\n",
       " '32',\n",
       " '53',\n",
       " '49',\n",
       " '34',\n",
       " '37',\n",
       " '54']"
      ]
     },
     "metadata": {},
     "output_type": "display_data"
    }
   ],
   "source": [
    "col_inst = ['Institución_origen', 'Institución_expediente']\n",
    "\n",
    "replace_inst = {'INSTITUTO DE CIENCIAS FORENSES DE LA CDMX':'INSTITUTO DE CIENCIAS FORENSES - TRIBUNAL SUPERIOR DE JUSTICIA DE LA CIUDAD DE MÉXICO',\n",
    "                  'CIENCIAS FORENSES DEL PODER JUDICIAL':'INSTITUTO DE CIENCIAS FORENSES - TRIBUNAL SUPERIOR DE JUSTICIA DE LA CIUDAD DE MÉXICO',\n",
    "                  'INSTITUTO DE CIENCIAS FORENSES DE LA CDMX COVID -19':'INSTITUTO DE CIENCIAS FORENSES - TRIBUNAL SUPERIOR DE JUSTICIA DE LA CIUDAD DE MÉXICO',\n",
    "                  'INSTITUTO POLITECNICO NACIONAL ':'INSTITUTO POLITÉCNICO NACIONAL - ESCUELA NACIONAL DE MEDICINA Y HOMEOPATÍA',\n",
    "                  'UNIVERSIDAD NACIONAL AUTONOMA DE MEXICO ':'UNIVERSIDAD NACIONAL AUTÓNOMA DE MÉXICO - FACULTAD DE MEDICINA',\n",
    "                  'UNIVERSIDAD NACIONAL AUTONOMA DE MEXICO':'UNIVERSIDAD NACIONAL AUTÓNOMA DE MÉXICO - FACULTAD DE MEDICINA',\n",
    "                  'INSTITUTO POLITECNICO NACIONAL':'INSTITUTO POLITÉCNICO NACIONAL - ESCUELA NACIONAL DE MEDICINA Y HOMEOPATÍA',\n",
    "                  'UNIVERSIDAD AUTONOMA DE MEXICO':'UNIVERSIDAD NACIONAL AUTÓNOMA DE MÉXICO - FACULTAD DE MEDICINA',\n",
    "                  'CIENCIAS FORENCES  TSJDF ':'INSTITUTO DE CIENCIAS FORENSES - TRIBUNAL SUPERIOR DE JUSTICIA DE LA CIUDAD DE MÉXICO',\n",
    "                  'UNIVERSIDAD WESTHILL':'UNIVERSIDAD WESTHILL - FACULTAD DE MEDICINA',\n",
    "                  'CENTRO CULTURAL UNIVERSITYARIO JUSTO SIERRA ':'CENTRO CULTURAL UNIVERSITARIO JUSTO SIERRA',\n",
    "                  'UNIVERSIDAD NACIONAL AUTONIOMA DE MEXICO ':'UNIVERSIDAD NACIONAL AUTÓNOMA DE MÉXICO - FACULTAD DE MEDICINA',\n",
    "                  'CENTRO CULTURAL UNIVERSITARIO JUSTO SIERRA ':'CENTRO CULTURAL UNIVERSITARIO JUSTO SIERRA',\n",
    "                  'INSTITUTO DE CIENCIAS  FORENSES  DEL  D.F.':'INSTITUTO DE CIENCIAS FORENSES - TRIBUNAL SUPERIOR DE JUSTICIA DE LA CIUDAD DE MÉXICO',\n",
    "                  'UNIVERSIDAD ANAHUAC ':'UNIVERSIDAD ANÁHUAC - FACULTAD DE CIENCIAS DE LA SALUD',\n",
    "                  'SECRETARIA DE EDUCACION PUBLICA ':'SECRETARÍA DE EDUCACIÓN PÚBLICA',\n",
    "                  'UPAEP':'UNIVERSIDAD POPULAR AUTÓNOMA DEL ESTADO DE PUEBLA',\n",
    "                  'UNIVERSIDAD DE CELAYA ':'ESCUELA DE MEDICINA DE LA UNIVERSIDAD DE CELAYA',\n",
    "                  'CENTRO CULTURAL UNIVERSITARIO':'CENTRO CULTURAL UNIVERSITARIO JUSTO SIERRA',\n",
    "                  'S/N ':'',\n",
    "                  'Se Ignora':'',\n",
    "                  '':'',\n",
    "                  '0':'',\n",
    "                  'S/N ':'',\n",
    "                  '?':'',\n",
    "                  'Se Ignora':'',\n",
    "                  'Se Ignora ':'',\n",
    "                  '':'',\n",
    "                  '0':'',\n",
    "                  'S/N ':'',\n",
    "                  'S/F':'',\n",
    "                'No va ':'',\n",
    "                  'UNIVERSIDAD NACIONAL  AUTONOMA  DE  MEXICO  ':'UNIVERSIDAD NACIONAL AUTÓNOMA DE MÉXICO - FACULTAD DE MEDICINA',\n",
    "                  'UNIVERSIDAD ANAHUAC MEXICO ':'UNIVERSIDAD ANÁHUAC - FACULTAD DE CIENCIAS DE LA SALUD',\n",
    "                  'ESCUELA MILITAR DE MEDICINA ':'SECRETARÍA DE LA DEFENSA NACIONAL - ESCUELA MILITAR DE MEDICINA',\n",
    "                  'UNIVERSIDAD NACIONAL AUTONOMA DE MEXICO  ':'UNIVERSIDAD NACIONAL AUTÓNOMA DE MÉXICO - FACULTAD DE MEDICINA',\n",
    "                  'ESCUELA  MEDICO  MILITAR ':'SECRETARÍA DE LA DEFENSA NACIONAL - ESCUELA MILITAR DE MEDICINA',\n",
    "                  'SECRETARIA DE EDUCACION PUBLICA':'SECRETARÍA DE EDUCACIÓN PÚBLICA',\n",
    "                  'UNIVERSIDAD TOMINAGA NAKAMOTO':'UNIVERSIDAD TOMINAGA NAKAMOTO S.C. ESCUELA DE MEDICINA CIENCIAS BÁSICAS',\n",
    "                  'UNIVERSIDAD WESTHILL ':'UNIVERSIDAD WESTHILL - FACULTAD DE MEDICINA',\n",
    "                  'ESCUELA LIBRE DE HOMEOPATIA DE MEXICO ':'INSTITUCIÓN DE ASISTENCIA PRIVADA - ESCUELA LIBRE DE HOMEOPATÍA DE MÉXICO',\n",
    "                  'UNIVERSIDAD TOMINAGA NAKAMOTO,S.C.':'UNIVERSIDAD TOMINAGA NAKAMOTO S.C. ESCUELA DE MEDICINA CIENCIAS BÁSICAS',\n",
    "                  'UNIVERSIDAD POPULAR AUTONOMA DEL ESTADO DE PUEBLA ':'UNIVERSIDAD POPULAR AUTÓNOMA DEL ESTADO DE PUEBLA',\n",
    "                  'UNIVERSIDAD DEL EJERCITO Y FUERZA AEREA ':'SECRETARÍA DE LA DEFENSA NACIONAL - ESCUELA MILITAR DE MEDICINA',\n",
    "                  'ST. LUKE ESCUELA DE MEDICINA ':'ESCUELA DE MEDICINA SAINT LUKE',\n",
    "                  'UNIVERSIDAD ANAHUAC MEXICO':'UNIVERSIDAD ANÁHUAC - FACULTAD DE CIENCIAS DE LA SALUD',\n",
    "                  'UNIVERSIDAD ANAHUAC':'UNIVERSIDAD ANÁHUAC - FACULTAD DE CIENCIAS DE LA SALUD',\n",
    "                  'UNIVERSIDAD  ANAHUAC ':'UNIVERSIDAD ANÁHUAC - FACULTAD DE CIENCIAS DE LA SALUD',\n",
    "                   'UNIVERSIDAD  WESTHILL':'UNIVERSIDAD WESTHILL - FACULTAD DE MEDICINA',\n",
    "                  'UNIVERSIDAD WESTILL':'UNIVERSIDAD WESTHILL - FACULTAD DE MEDICINA',\n",
    "                  'UNIVERSIDAD TOMINAGA NAKAMOTO,S.C.':'UNIVERSIDAD TOMINAGA NAKAMOTO S.C. ESCUELA DE MEDICINA CIENCIAS BÁSICAS',\n",
    "                  'SECRETARIA DE LA DEFENSA NACIONAL ':'SECRETARÍA DE LA DEFENSA NACIONAL - ESCUELA MILITAR DE MEDICINA',\n",
    "                  'ESCUELA LIBRE DE HOMEOPATIA DE MEXICO':'INSTITUCIÓN DE ASISTENCIA PRIVADA - ESCUELA LIBRE DE HOMEOPATÍA DE MÉXICO',\n",
    "                  'PROCURADURIA GENERAL DE LA REPUBLICA ':'PROCURADURÍA GENERAL DE LA REPÚBLICA',\n",
    "                  'UNIVERSIDAD TOMINAGA NAKAMOTO, S.C. ':'UNIVERSIDAD TOMINAGA NAKAMOTO S.C. ESCUELA DE MEDICINA CIENCIAS BÁSICAS',\n",
    "                  'UNIVERSIDAD TOMINAGA NAKAMOTO,S.C. ':'UNIVERSIDAD TOMINAGA NAKAMOTO S.C. ESCUELA DE MEDICINA CIENCIAS BÁSICAS',\n",
    "                  'UNIVERSIDAD TOMINAGA TOMINAGA':'UNIVERSIDAD TOMINAGA NAKAMOTO S.C. ESCUELA DE MEDICINA CIENCIAS BÁSICAS',\n",
    "                  'CENTRO MEDICO , A. B. C. ':'THE AMERICAN BRITISH COWDRAY MEDICAL CENTER LA.P.',\n",
    "                  'SUBPROCURADURIA ESPECIALIZADA EN DELINCUENCIA ORGANIZADA':'SUBPROCURADURÍA ESPECIALIZADA EN DELINCUENCIA ORGANIZADA (SEIDO)',\n",
    "                  'UNIVERSIDAD  TOMINADA  NAKAMOTO ':'UNIVERSIDAD TOMINAGA NAKAMOTO S.C. ESCUELA DE MEDICINA CIENCIAS BÁSICAS',\n",
    "                  'CENTRO  MEDICO  ABC ':'THE AMERICAN BRITISH COWDRAY MEDICAL CENTER LA.P.',\n",
    "                  'UNIVERSIDAD TOMINAGA NAKAMOTO S.C. ':'UNIVERSIDAD TOMINAGA NAKAMOTO S.C. ESCUELA DE MEDICINA CIENCIAS BÁSICAS',\n",
    "                  'UNIVERSIDAD TOMINAGA NAKAMOTO, S. C. ':'UNIVERSIDAD TOMINAGA NAKAMOTO S.C. ESCUELA DE MEDICINA CIENCIAS BÁSICAS',\n",
    "                   'UNIVERSIDAD TOMINAGA NAKAMOTO ':'UNIVERSIDAD TOMINAGA NAKAMOTO S.C. ESCUELA DE MEDICINA CIENCIAS BÁSICAS',\n",
    "                  'UNIVESIDAD TOMINAGA NAKAMOTO ':'UNIVERSIDAD TOMINAGA NAKAMOTO S.C. ESCUELA DE MEDICINA CIENCIAS BÁSICAS',\n",
    "                 }\n",
    "\n",
    "# remplazamos con un for loop columna por columna, en lugar de usar selección\n",
    "# esto es solo por ejemplo\n",
    "\n",
    "for col in col_fuente:\n",
    "    print('Remplazando columna:', col)\n",
    "    df[col] = df[col].replace(replace_inst)\n",
    "    # veamos los cinco valores mas comunes de la columna despúes de la sustitución\n",
    "    display( df[col].value_counts(dropna=False).index.tolist()[0:25] )"
   ]
  },
  {
   "cell_type": "code",
   "execution_count": 45,
   "metadata": {
    "tags": []
   },
   "outputs": [
    {
     "data": {
      "text/plain": [
       "array(['5a  clase ', '1900-02-14 00:00:00', '5 clase'], dtype=object)"
      ]
     },
     "execution_count": 45,
     "metadata": {},
     "output_type": "execute_result"
    }
   ],
   "source": [
    "df['Zona'].unique()"
   ]
  },
  {
   "cell_type": "code",
   "execution_count": 46,
   "metadata": {},
   "outputs": [
    {
     "name": "stdout",
     "output_type": "stream",
     "text": [
      "Remplazando columna: Zona\n"
     ]
    },
    {
     "data": {
      "text/plain": [
       "['5a clase']"
      ]
     },
     "metadata": {},
     "output_type": "display_data"
    }
   ],
   "source": [
    "col_zona = [ 'Zona']\n",
    "\n",
    "replace_zona = {'5a  clase ':'5a clase',\n",
    "                '1900-02-14 00:00:00':'5a clase',\n",
    "                '5 clase':'5a clase',\n",
    "              }\n",
    "    \n",
    "# remplazamos con un for loop columna por columna, en lugar de usar selección\n",
    "# esto es solo por ejemplo\n",
    "\n",
    "for col in col_zona:\n",
    "    print('Remplazando columna:', col)\n",
    "    df[col] = df[col].replace(replace_zona)\n",
    "    # veamos los cinco valores mas comunes de la columna despúes de la sustitución\n",
    "    display( df[col].value_counts(dropna=False).index.tolist()[0:25] )"
   ]
  },
  {
   "cell_type": "code",
   "execution_count": 47,
   "metadata": {},
   "outputs": [
    {
     "data": {
      "text/plain": [
       "array(['1', '2 BIS', '2 Bis', '2BIS', '2 Bis ', '2 BIS ', '2 B IS',\n",
       "       '2  BIS', '80', '2 bis', '2', '21', '3', '15', '2 B ', '2 b ',\n",
       "       '2b', '26', '2b '], dtype=object)"
      ]
     },
     "execution_count": 47,
     "metadata": {},
     "output_type": "execute_result"
    }
   ],
   "source": [
    "df['Línea'].unique()"
   ]
  },
  {
   "cell_type": "code",
   "execution_count": 48,
   "metadata": {},
   "outputs": [
    {
     "name": "stdout",
     "output_type": "stream",
     "text": [
      "Remplazando columna: Línea\n"
     ]
    },
    {
     "data": {
      "text/plain": [
       "['1', '2 BIS', '2', '3', '80', '15', '21', '26']"
      ]
     },
     "metadata": {},
     "output_type": "display_data"
    }
   ],
   "source": [
    "col_linea = ['Línea']\n",
    "\n",
    "replace_linea = {'2 BIS':'2 BIS',\n",
    "                 '2 Bis':'2 BIS',\n",
    "                 '2BIS':'2 BIS',\n",
    "                 '2 Bis ':'2 BIS',\n",
    "                 '2 BIS ':'2 BIS',\n",
    "                 '2 B IS':'2 BIS',\n",
    "                 '2  BIS':'2 BIS',\n",
    "                 '2 bis':'2 BIS',\n",
    "                 '2 B ':'2 BIS',\n",
    "                 '2 b ':'2 BIS',\n",
    "                 '2b':'2 BIS',\n",
    "                 '2b ':'2 BIS',\n",
    "              }\n",
    "    \n",
    "# remplazamos con un for loop columna por columna, en lugar de usar selección\n",
    "# esto es solo por ejemplo\n",
    "\n",
    "for col in col_linea:\n",
    "    print('Remplazando columna:', col)\n",
    "    df[col] = df[col].replace(replace_linea)\n",
    "    # veamos los cinco valores mas comunes de la columna despúes de la sustitución\n",
    "    display( df[col].value_counts(dropna=False).index.tolist()[0:25] )"
   ]
  },
  {
   "cell_type": "code",
   "execution_count": 49,
   "metadata": {},
   "outputs": [
    {
     "data": {
      "text/plain": [
       "array(['61', '65', '66', '69', '34', '40', '37', '38', '32', '36', '70',\n",
       "       '30', '71', '73', '72', '75', '43', '42', '47', '7', '80', '49',\n",
       "       '41', '83', '46', '40 BIS', '81', '4 bis', '4 BIS', '44', '76',\n",
       "       '51', '48', '45', '50', '35', '25', '24', '33', '23', '31', '22',\n",
       "       '29', '21', '1', '18', '20', '26', '17', '16', '19', '15', '12',\n",
       "       '4', '14', '3', '10', '11', '2', '9', '8', '5'], dtype=object)"
      ]
     },
     "execution_count": 49,
     "metadata": {},
     "output_type": "execute_result"
    }
   ],
   "source": [
    "df['Fosa'].unique()"
   ]
  },
  {
   "cell_type": "code",
   "execution_count": 50,
   "metadata": {},
   "outputs": [
    {
     "name": "stdout",
     "output_type": "stream",
     "text": [
      "Remplazando columna: Fosa\n"
     ]
    },
    {
     "data": {
      "text/plain": [
       "['16',\n",
       " '15',\n",
       " '14',\n",
       " '42',\n",
       " '17',\n",
       " '71',\n",
       " '73',\n",
       " '83',\n",
       " '80',\n",
       " '4',\n",
       " '43',\n",
       " '40',\n",
       " '66',\n",
       " '31',\n",
       " '19',\n",
       " '2',\n",
       " '38',\n",
       " '70',\n",
       " '30',\n",
       " '75',\n",
       " '47',\n",
       " '41',\n",
       " '11',\n",
       " '21',\n",
       " '34']"
      ]
     },
     "metadata": {},
     "output_type": "display_data"
    }
   ],
   "source": [
    "col_fosa = ['Fosa']\n",
    "\n",
    "replace_fosa = {'4 bis':'4 BIS',\n",
    "              }\n",
    "    \n",
    "# remplazamos con un for loop columna por columna, en lugar de usar selección\n",
    "# esto es solo por ejemplo\n",
    "\n",
    "for col in col_fosa:\n",
    "    print('Remplazando columna:', col)\n",
    "    df[col] = df[col].replace(replace_fosa)\n",
    "    # veamos los cinco valores mas comunes de la columna despúes de la sustitución\n",
    "    display( df[col].value_counts(dropna=False).index.tolist()[0:25] )"
   ]
  },
  {
   "cell_type": "code",
   "execution_count": 51,
   "metadata": {},
   "outputs": [
    {
     "data": {
      "text/plain": [
       "array(['21', '22', '3', '1', '2', '4', '5', '6', '7', '8', '10', '11',\n",
       "       '60', '12', '13', '9', '14', '16', '15', '17', '18', '19', '20',\n",
       "       '70'], dtype=object)"
      ]
     },
     "execution_count": 51,
     "metadata": {},
     "output_type": "execute_result"
    }
   ],
   "source": [
    "df['Nivel'].unique()"
   ]
  },
  {
   "cell_type": "code",
   "execution_count": 52,
   "metadata": {},
   "outputs": [
    {
     "data": {
      "text/plain": [
       "array(['150', '200', '', '250', '240', '180', '350', '3000', '100', '900',\n",
       "       '80', '280', '90', '220', '300', '190', '3', '290', '228',\n",
       "       'Desconocido', '260', '\"', nan, '160', '2', '1800', '120', '170',\n",
       "       '340', '320', '400', '50', '40', '4', '1.7', '2.2', '2.3', '2.5',\n",
       "       '1.9', '1.5', '1.2'], dtype=object)"
      ]
     },
     "execution_count": 52,
     "metadata": {},
     "output_type": "execute_result"
    }
   ],
   "source": [
    "df['Profundidad'].unique()"
   ]
  },
  {
   "cell_type": "code",
   "execution_count": 53,
   "metadata": {},
   "outputs": [
    {
     "data": {
      "text/plain": [
       "array(['150', '200', '', '250', '240', '180', '350', '3000', '100', '900',\n",
       "       '80', '280', '90', '220', '300', '190', '3', '290', '228',\n",
       "       'Desconocido', '260', '\"', '160', '2', '1800', '120', '170', '340',\n",
       "       '320', '400', '50', '40', '4', '1.7', '2.2', '2.3', '2.5', '1.9',\n",
       "       '1.5', '1.2'], dtype=object)"
      ]
     },
     "execution_count": 53,
     "metadata": {},
     "output_type": "execute_result"
    }
   ],
   "source": [
    "col_profundidad = ['Profundidad']\n",
    "\n",
    "df[col_profundidad] = df[col_profundidad].fillna('')\n",
    "\n",
    "df['Profundidad'].unique()"
   ]
  },
  {
   "cell_type": "code",
   "execution_count": 54,
   "metadata": {},
   "outputs": [
    {
     "name": "stdout",
     "output_type": "stream",
     "text": [
      "Remplazando columna: Profundidad\n"
     ]
    },
    {
     "data": {
      "text/plain": [
       "['200',\n",
       " '250',\n",
       " '',\n",
       " '150',\n",
       " '180',\n",
       " '280',\n",
       " '100',\n",
       " '300',\n",
       " '350',\n",
       " '90',\n",
       " '80',\n",
       " '290',\n",
       " '190',\n",
       " '\"',\n",
       " '240',\n",
       " '3',\n",
       " '220',\n",
       " '120',\n",
       " '50',\n",
       " '3000',\n",
       " '170',\n",
       " '160',\n",
       " '230',\n",
       " '320',\n",
       " '400']"
      ]
     },
     "metadata": {},
     "output_type": "display_data"
    }
   ],
   "source": [
    "replace_porf = { '1.7':'170', \n",
    "                        '2.2':'220', \n",
    "                        '2.3':'230', \n",
    "                        '2.5':'250', \n",
    "                        '1.9':'190', \n",
    "                        '1.5':'150', \n",
    "                        '1.2':'120',\n",
    "                'Desconocido':'',\n",
    "              }\n",
    "    \n",
    "# remplazamos con un for loop columna por columna, en lugar de usar selección\n",
    "# esto es solo por ejemplo\n",
    "\n",
    "for col in col_profundidad:\n",
    "    print('Remplazando columna:', col)\n",
    "    df[col] = df[col].replace(replace_porf)\n",
    "    # veamos los cinco valores mas comunes de la columna despúes de la sustitución\n",
    "    display( df[col].value_counts(dropna=False).index.tolist()[0:25] )"
   ]
  },
  {
   "cell_type": "code",
   "execution_count": 55,
   "metadata": {
    "tags": []
   },
   "outputs": [
    {
     "data": {
      "text/plain": [
       "array(['Masculino', 'Femenino', 'Indeterminado', nan, 'Se Ignora',\n",
       "       'Indeterminado ', 'Se ignora ', 'Desconocido', 'Se desconoce'],\n",
       "      dtype=object)"
      ]
     },
     "execution_count": 55,
     "metadata": {},
     "output_type": "execute_result"
    }
   ],
   "source": [
    "df['Sexo'].unique()"
   ]
  },
  {
   "cell_type": "code",
   "execution_count": 56,
   "metadata": {},
   "outputs": [
    {
     "data": {
      "text/plain": [
       "array(['Masculino', 'Femenino', 'Indeterminado', '', 'Se Ignora',\n",
       "       'Indeterminado ', 'Se ignora ', 'Desconocido', 'Se desconoce'],\n",
       "      dtype=object)"
      ]
     },
     "execution_count": 56,
     "metadata": {},
     "output_type": "execute_result"
    }
   ],
   "source": [
    "col_sexo = ['Sexo']\n",
    "\n",
    "df[col_sexo] = df[col_sexo].fillna('')\n",
    "\n",
    "df['Sexo'].unique()"
   ]
  },
  {
   "cell_type": "code",
   "execution_count": 57,
   "metadata": {},
   "outputs": [
    {
     "name": "stdout",
     "output_type": "stream",
     "text": [
      "Remplazando columna: Sexo\n"
     ]
    },
    {
     "data": {
      "text/plain": [
       "['Masculino', 'Femenino', 'Indeterminado']"
      ]
     },
     "metadata": {},
     "output_type": "display_data"
    }
   ],
   "source": [
    "replace_sexo = { 'Masculino':'Masculino',\n",
    "                'Femenino':'Femenino',\n",
    "                'Indeterminado':'Indeterminado',\n",
    "                '':'Indeterminado',\n",
    "                'Se Ignora':'Indeterminado',\n",
    "                'Indeterminado ':'Indeterminado',\n",
    "                'Se ignora ':'Indeterminado',\n",
    "                'Desconocido':'Indeterminado',\n",
    "                'Se desconoce':'Indeterminado',\n",
    "              }\n",
    "    \n",
    "# remplazamos con un for loop columna por columna, en lugar de usar selección\n",
    "# esto es solo por ejemplo\n",
    "\n",
    "for col in col_sexo:\n",
    "    print('Remplazando columna:', col)\n",
    "    df[col] = df[col].replace(replace_sexo)\n",
    "    # veamos los cinco valores mas comunes de la columna despúes de la sustitución\n",
    "    display( df[col].value_counts(dropna=False).index.tolist()[0:25] )"
   ]
  },
  {
   "cell_type": "markdown",
   "metadata": {},
   "source": [
    "## Limpiando nombres"
   ]
  },
  {
   "cell_type": "markdown",
   "metadata": {
    "tags": []
   },
   "source": [
    "Dependiendo del tipo de dato se pueden hacer diferentes operaciones. Por ejemplo, se puede pasar a mayusculas un texto pero no un número, se puede obtener el año de una fecha pero no de un texto\n",
    "\n",
    "Por ejemplo, pensemos que queremos que las instituciones de origen no esten todas en mayusculas, sino solo la primera letra de la palabra.\n",
    "\n",
    "Para hacer esto seleccionaremos la columna de interes, y luego aplicaremos la función `.str.title()`. \n",
    "\n",
    "**Nota**: existen varias funciones para mayusculas y minusculas como `.upper()`, `.lower()`, `.capitalize()` y `.title()`"
   ]
  },
  {
   "cell_type": "markdown",
   "metadata": {},
   "source": [
    "Existen funciones que no se encuentran en pandas pero que pueden ser utiles. Por ejemplo, para quitar los acentos es posible con la función `unidecode()`, la cual es parte de la biblioteca `unidecode`."
   ]
  },
  {
   "cell_type": "code",
   "execution_count": 58,
   "metadata": {
    "tags": []
   },
   "outputs": [],
   "source": [
    "#!pip install unidecode"
   ]
  },
  {
   "cell_type": "code",
   "execution_count": 59,
   "metadata": {
    "tags": []
   },
   "outputs": [
    {
     "data": {
      "text/plain": [
       "'Mexico'"
      ]
     },
     "execution_count": 59,
     "metadata": {},
     "output_type": "execute_result"
    }
   ],
   "source": [
    "texto= 'México'\n",
    "from unidecode import unidecode\n",
    "unidecode('México')"
   ]
  },
  {
   "cell_type": "code",
   "execution_count": 60,
   "metadata": {
    "tags": []
   },
   "outputs": [
    {
     "data": {
      "text/plain": [
       "'Mexico'"
      ]
     },
     "execution_count": 60,
     "metadata": {},
     "output_type": "execute_result"
    }
   ],
   "source": [
    "def limpiar_texto(s):\n",
    "    # checar el tipo\n",
    "    if type(s)==str: # esto solo se ejecutará si es un string\n",
    "        ### aqui agrega tus pasos de limpieza \n",
    "        s = unidecode(s) #quitar acento\n",
    "        s = ' '.join( s.split() ) #quitar espacios extra\n",
    "        s = s.title() #primera letra en mayuscula\n",
    "    else: # esto se ejecutará si NO es un string\n",
    "        s = s #devolveremos la entrada sin modificaciones, pero puedes cambiar esto\n",
    "    return s\n",
    "    \n",
    "limpiar_texto(texto)"
   ]
  },
  {
   "cell_type": "code",
   "execution_count": 61,
   "metadata": {},
   "outputs": [
    {
     "data": {
      "text/plain": [
       "Index(['Cargables', 'Estatus_FC', 'Fecha_inhumación', 'Fecha_defunción',\n",
       "       'Fecha_exhumación', 'Restos_tipo', 'Sexo', 'Edad', 'Zona', 'Línea',\n",
       "       'Fosa', 'Nivel', 'Profundidad', 'Conocido o Desconocido', 'Nombre(s)',\n",
       "       'Apellido_paterno', 'Apellido_materno', 'Nombre_completo',\n",
       "       'Nombre_alternativa', 'C.I._AVP', 'Institución_origen',\n",
       "       'Institución_expediente', 'Folio Boleta de inhumación',\n",
       "       'Folio Certificado de muerte fetal',\n",
       "       'Carpeta en donde se ubica la información', 'Observaciones'],\n",
       "      dtype='object')"
      ]
     },
     "execution_count": 61,
     "metadata": {},
     "output_type": "execute_result"
    }
   ],
   "source": [
    "df.columns"
   ]
  },
  {
   "cell_type": "code",
   "execution_count": 62,
   "metadata": {
    "tags": []
   },
   "outputs": [],
   "source": [
    "col_lim = ['Nombre(s)', 'Apellido_paterno', 'Apellido_materno', 'Nombre_completo',\n",
    "       'Nombre_alternativa']"
   ]
  },
  {
   "cell_type": "code",
   "execution_count": 63,
   "metadata": {
    "tags": []
   },
   "outputs": [
    {
     "name": "stdout",
     "output_type": "stream",
     "text": [
      "Limpieza de texto: Nombre(s)\n",
      "Limpieza de texto: Apellido_paterno\n",
      "Limpieza de texto: Apellido_materno\n",
      "Limpieza de texto: Nombre_completo\n",
      "Limpieza de texto: Nombre_alternativa\n"
     ]
    },
    {
     "data": {
      "text/html": [
       "<div>\n",
       "<style scoped>\n",
       "    .dataframe tbody tr th:only-of-type {\n",
       "        vertical-align: middle;\n",
       "    }\n",
       "\n",
       "    .dataframe tbody tr th {\n",
       "        vertical-align: top;\n",
       "    }\n",
       "\n",
       "    .dataframe thead th {\n",
       "        text-align: right;\n",
       "    }\n",
       "</style>\n",
       "<table border=\"1\" class=\"dataframe\">\n",
       "  <thead>\n",
       "    <tr style=\"text-align: right;\">\n",
       "      <th></th>\n",
       "      <th>Cargables</th>\n",
       "      <th>Estatus_FC</th>\n",
       "      <th>Fecha_inhumación</th>\n",
       "      <th>Fecha_defunción</th>\n",
       "      <th>Fecha_exhumación</th>\n",
       "      <th>Restos_tipo</th>\n",
       "      <th>Sexo</th>\n",
       "      <th>Edad</th>\n",
       "      <th>Zona</th>\n",
       "      <th>Línea</th>\n",
       "      <th>...</th>\n",
       "      <th>Apellido_materno</th>\n",
       "      <th>Nombre_completo</th>\n",
       "      <th>Nombre_alternativa</th>\n",
       "      <th>C.I._AVP</th>\n",
       "      <th>Institución_origen</th>\n",
       "      <th>Institución_expediente</th>\n",
       "      <th>Folio Boleta de inhumación</th>\n",
       "      <th>Folio Certificado de muerte fetal</th>\n",
       "      <th>Carpeta en donde se ubica la información</th>\n",
       "      <th>Observaciones</th>\n",
       "    </tr>\n",
       "  </thead>\n",
       "  <tbody>\n",
       "    <tr>\n",
       "      <th>7062</th>\n",
       "      <td>1</td>\n",
       "      <td>Inhumación</td>\n",
       "      <td>2023-07-25 00:00:00</td>\n",
       "      <td>2023-07-05 00:00:00</td>\n",
       "      <td>NaN</td>\n",
       "      <td>Cadáver</td>\n",
       "      <td>Masculino</td>\n",
       "      <td>Se Ignora</td>\n",
       "      <td>5a clase</td>\n",
       "      <td>2</td>\n",
       "      <td>...</td>\n",
       "      <td>Diaz</td>\n",
       "      <td>Crisogono Garcia Diaz</td>\n",
       "      <td>NaN</td>\n",
       "      <td>CI-FIIZC/UAT-IZC-2/UI-1S/D/03831/07-2023</td>\n",
       "      <td>INSTITUTO DE CIENCIAS FORENSES - TRIBUNAL SUPE...</td>\n",
       "      <td>2820</td>\n",
       "      <td>422</td>\n",
       "      <td>15708</td>\n",
       "      <td></td>\n",
       "      <td>SEPSIS</td>\n",
       "    </tr>\n",
       "    <tr>\n",
       "      <th>7063</th>\n",
       "      <td>1</td>\n",
       "      <td>Inhumación</td>\n",
       "      <td>2023-07-25 00:00:00</td>\n",
       "      <td>2023-07-05 00:00:00</td>\n",
       "      <td>NaN</td>\n",
       "      <td>Cadáver</td>\n",
       "      <td>Masculino</td>\n",
       "      <td>Se Ignora</td>\n",
       "      <td>5a clase</td>\n",
       "      <td>2</td>\n",
       "      <td>...</td>\n",
       "      <td>Diaz</td>\n",
       "      <td>Ismael Cardoso Diaz</td>\n",
       "      <td>NaN</td>\n",
       "      <td>CI-FIMH/H1/UI-1S/D/00116/07-2023</td>\n",
       "      <td>INSTITUTO DE CIENCIAS FORENSES - TRIBUNAL SUPE...</td>\n",
       "      <td>2823</td>\n",
       "      <td>423</td>\n",
       "      <td>15718</td>\n",
       "      <td></td>\n",
       "      <td>NEUMONIA BILATERAL NO TRAUMATICA</td>\n",
       "    </tr>\n",
       "    <tr>\n",
       "      <th>7064</th>\n",
       "      <td>1</td>\n",
       "      <td>Inhumación</td>\n",
       "      <td>2023-07-25 00:00:00</td>\n",
       "      <td>2023-07-06 00:00:00</td>\n",
       "      <td>NaN</td>\n",
       "      <td>Cadáver</td>\n",
       "      <td>Masculino</td>\n",
       "      <td>Se Ignora</td>\n",
       "      <td>5a clase</td>\n",
       "      <td>2</td>\n",
       "      <td>...</td>\n",
       "      <td>Romero</td>\n",
       "      <td>Cristian Tadeo Perez Romero</td>\n",
       "      <td>NaN</td>\n",
       "      <td>CI-FICUH/CUH-4/UI-1S/D/00598/07-2023</td>\n",
       "      <td>INSTITUTO DE CIENCIAS FORENSES - TRIBUNAL SUPE...</td>\n",
       "      <td>2829</td>\n",
       "      <td>424</td>\n",
       "      <td>15710</td>\n",
       "      <td></td>\n",
       "      <td>SEPSIS COMPLICACION DETERMINADA POR TRAUMA OCULAR</td>\n",
       "    </tr>\n",
       "    <tr>\n",
       "      <th>7065</th>\n",
       "      <td>1</td>\n",
       "      <td>Inhumación</td>\n",
       "      <td>2023-08-02 00:00:00</td>\n",
       "      <td>2022-08-18 00:00:00</td>\n",
       "      <td>NaN</td>\n",
       "      <td>Cadáver</td>\n",
       "      <td>Masculino</td>\n",
       "      <td>67</td>\n",
       "      <td>5a clase</td>\n",
       "      <td>2 BIS</td>\n",
       "      <td>...</td>\n",
       "      <td>Lopez</td>\n",
       "      <td>Jesus Diaz Lopez</td>\n",
       "      <td>NaN</td>\n",
       "      <td>CI-FIIZC/UAT-IZC-2/UI-1S/D/04823/08-2023</td>\n",
       "      <td>UNIVERSIDAD ANÁHUAC - FACULTAD DE CIENCIAS DE ...</td>\n",
       "      <td>13/2022</td>\n",
       "      <td>10046</td>\n",
       "      <td>16589</td>\n",
       "      <td></td>\n",
       "      <td>EDEMA PULMONAR EN UN SUJETO CON CIRROSIS</td>\n",
       "    </tr>\n",
       "    <tr>\n",
       "      <th>7066</th>\n",
       "      <td>1</td>\n",
       "      <td>Inhumación</td>\n",
       "      <td>2023-08-02 00:00:00</td>\n",
       "      <td>2023-08-13 00:00:00</td>\n",
       "      <td>NaN</td>\n",
       "      <td>Cadáver</td>\n",
       "      <td>Masculino</td>\n",
       "      <td>64</td>\n",
       "      <td>5a clase</td>\n",
       "      <td>2 BIS</td>\n",
       "      <td>...</td>\n",
       "      <td></td>\n",
       "      <td>Alejandro Munoz N</td>\n",
       "      <td>NaN</td>\n",
       "      <td>CI-FIGAM/UAT-GAM-2/UI-1S/D/02462/08-2023</td>\n",
       "      <td>UNIVERSIDAD ANÁHUAC - FACULTAD DE CIENCIAS DE ...</td>\n",
       "      <td>14/2022</td>\n",
       "      <td>10054</td>\n",
       "      <td>16588</td>\n",
       "      <td></td>\n",
       "      <td>INFARTO AL MIOCARDIO</td>\n",
       "    </tr>\n",
       "  </tbody>\n",
       "</table>\n",
       "<p>5 rows × 26 columns</p>\n",
       "</div>"
      ],
      "text/plain": [
       "     Cargables  Estatus_FC     Fecha_inhumación      Fecha_defunción  \\\n",
       "7062         1  Inhumación  2023-07-25 00:00:00  2023-07-05 00:00:00   \n",
       "7063         1  Inhumación  2023-07-25 00:00:00  2023-07-05 00:00:00   \n",
       "7064         1  Inhumación  2023-07-25 00:00:00  2023-07-06 00:00:00   \n",
       "7065         1  Inhumación  2023-08-02 00:00:00  2022-08-18 00:00:00   \n",
       "7066         1  Inhumación  2023-08-02 00:00:00  2023-08-13 00:00:00   \n",
       "\n",
       "     Fecha_exhumación Restos_tipo       Sexo       Edad      Zona  Línea  ...  \\\n",
       "7062              NaN     Cadáver  Masculino  Se Ignora  5a clase      2  ...   \n",
       "7063              NaN     Cadáver  Masculino  Se Ignora  5a clase      2  ...   \n",
       "7064              NaN     Cadáver  Masculino  Se Ignora  5a clase      2  ...   \n",
       "7065              NaN     Cadáver  Masculino         67  5a clase  2 BIS  ...   \n",
       "7066              NaN     Cadáver  Masculino         64  5a clase  2 BIS  ...   \n",
       "\n",
       "     Apellido_materno              Nombre_completo Nombre_alternativa  \\\n",
       "7062             Diaz        Crisogono Garcia Diaz                NaN   \n",
       "7063             Diaz          Ismael Cardoso Diaz                NaN   \n",
       "7064           Romero  Cristian Tadeo Perez Romero                NaN   \n",
       "7065            Lopez             Jesus Diaz Lopez                NaN   \n",
       "7066                             Alejandro Munoz N                NaN   \n",
       "\n",
       "                                      C.I._AVP  \\\n",
       "7062  CI-FIIZC/UAT-IZC-2/UI-1S/D/03831/07-2023   \n",
       "7063          CI-FIMH/H1/UI-1S/D/00116/07-2023   \n",
       "7064      CI-FICUH/CUH-4/UI-1S/D/00598/07-2023   \n",
       "7065  CI-FIIZC/UAT-IZC-2/UI-1S/D/04823/08-2023   \n",
       "7066  CI-FIGAM/UAT-GAM-2/UI-1S/D/02462/08-2023   \n",
       "\n",
       "                                     Institución_origen  \\\n",
       "7062  INSTITUTO DE CIENCIAS FORENSES - TRIBUNAL SUPE...   \n",
       "7063  INSTITUTO DE CIENCIAS FORENSES - TRIBUNAL SUPE...   \n",
       "7064  INSTITUTO DE CIENCIAS FORENSES - TRIBUNAL SUPE...   \n",
       "7065  UNIVERSIDAD ANÁHUAC - FACULTAD DE CIENCIAS DE ...   \n",
       "7066  UNIVERSIDAD ANÁHUAC - FACULTAD DE CIENCIAS DE ...   \n",
       "\n",
       "     Institución_expediente Folio Boleta de inhumación  \\\n",
       "7062                   2820                        422   \n",
       "7063                   2823                        423   \n",
       "7064                   2829                        424   \n",
       "7065                13/2022                      10046   \n",
       "7066                14/2022                      10054   \n",
       "\n",
       "     Folio Certificado de muerte fetal  \\\n",
       "7062                             15708   \n",
       "7063                             15718   \n",
       "7064                             15710   \n",
       "7065                             16589   \n",
       "7066                             16588   \n",
       "\n",
       "      Carpeta en donde se ubica la información  \\\n",
       "7062                                             \n",
       "7063                                             \n",
       "7064                                             \n",
       "7065                                             \n",
       "7066                                             \n",
       "\n",
       "                                          Observaciones  \n",
       "7062                                             SEPSIS  \n",
       "7063                  NEUMONIA BILATERAL NO TRAUMATICA   \n",
       "7064  SEPSIS COMPLICACION DETERMINADA POR TRAUMA OCULAR  \n",
       "7065          EDEMA PULMONAR EN UN SUJETO CON CIRROSIS   \n",
       "7066                               INFARTO AL MIOCARDIO  \n",
       "\n",
       "[5 rows x 26 columns]"
      ]
     },
     "execution_count": 63,
     "metadata": {},
     "output_type": "execute_result"
    }
   ],
   "source": [
    "for col in col_lim:\n",
    "    print('Limpieza de texto:', col)\n",
    "    df[col] = df[col].apply( limpiar_texto )\n",
    "df.tail()"
   ]
  },
  {
   "cell_type": "code",
   "execution_count": 64,
   "metadata": {
    "tags": []
   },
   "outputs": [
    {
     "name": "stdout",
     "output_type": "stream",
     "text": [
      "Nombre(s)\n"
     ]
    },
    {
     "data": {
      "text/plain": [
       "['', 'Jose', 'Juan', 'Antonio', 'Jose Luis']"
      ]
     },
     "metadata": {},
     "output_type": "display_data"
    },
    {
     "name": "stdout",
     "output_type": "stream",
     "text": [
      "Apellido_paterno\n"
     ]
    },
    {
     "data": {
      "text/plain": [
       "['', 'Hernandez', 'Garcia', 'Martinez', 'Gonzalez']"
      ]
     },
     "metadata": {},
     "output_type": "display_data"
    },
    {
     "name": "stdout",
     "output_type": "stream",
     "text": [
      "Apellido_materno\n"
     ]
    },
    {
     "data": {
      "text/plain": [
       "['', 'Hernandez', 'Garcia', 'Lopez', 'Martinez']"
      ]
     },
     "metadata": {},
     "output_type": "display_data"
    },
    {
     "name": "stdout",
     "output_type": "stream",
     "text": [
      "Nombre_completo\n"
     ]
    },
    {
     "data": {
      "text/plain": [
       "['', 'N N N', 'Juan N N', 'Vazquez', 'Javier N N']"
      ]
     },
     "metadata": {},
     "output_type": "display_data"
    },
    {
     "name": "stdout",
     "output_type": "stream",
     "text": [
      "Nombre_alternativa\n"
     ]
    },
    {
     "data": {
      "text/plain": [
       "[nan]"
      ]
     },
     "metadata": {},
     "output_type": "display_data"
    }
   ],
   "source": [
    "for col in col_lim:\n",
    "    print(col)\n",
    "    display( df[col].value_counts(dropna=False).index.tolist()[0:5] )"
   ]
  },
  {
   "cell_type": "code",
   "execution_count": 65,
   "metadata": {},
   "outputs": [
    {
     "data": {
      "text/plain": [
       "array(['', 'Sebastian', 'Juvencio', 'Trinidad', 'Pedro', 'Adrian',\n",
       "       'Tomas', 'Perfecto', 'Miguel Angel', 'Remedios', 'Victor',\n",
       "       'Antonio', 'Ernesto David', 'Jose Alberto', 'Alfonso', 'Jose Luis',\n",
       "       'Paulino', 'Andres', 'Fermin', 'Domiongo', 'Rodolfo', 'Daniel',\n",
       "       'Gilberto', 'Edgar Antonio', 'Margarita', 'Jose Juan', 'Juan',\n",
       "       'Inocencio', 'Juan Ivan', 'Jose Ramon', 'Karla Cristina', 'Carlos',\n",
       "       'Agustin', 'Juan Carlos', 'Francisco Javier', 'Soledad',\n",
       "       'Cesar Leonardo', 'Angel', 'Juana', 'Adriana'], dtype=object)"
      ]
     },
     "execution_count": 65,
     "metadata": {},
     "output_type": "execute_result"
    }
   ],
   "source": [
    "df['Nombre(s)'].unique() [0:40]"
   ]
  },
  {
   "cell_type": "code",
   "execution_count": 66,
   "metadata": {},
   "outputs": [
    {
     "data": {
      "text/plain": [
       "array(['', 'Martinez', 'Gomez', 'Munoz', 'Hernandez', 'Contreras',\n",
       "       'Zamarripa', 'Cen', 'Sanchez', 'Perez', 'Lopez', 'Alfaro',\n",
       "       'Aguilar', 'Guerrero', 'Lorenzo', 'Cordero', 'Tirado', 'Nunez',\n",
       "       'Ron', 'Cano', 'Lucaz', 'Romano', 'Bernardez', 'Benitez', 'Reyes',\n",
       "       'Angeles', 'Labastida', 'Rivera', 'Moreno', 'Palacios', 'Vazquez',\n",
       "       'Romero', 'Rivas', 'Gonzalez', 'Anselmo', 'Salomon', 'Leyva',\n",
       "       'Del Sangel', 'Meza', 'Gallardo'], dtype=object)"
      ]
     },
     "execution_count": 66,
     "metadata": {},
     "output_type": "execute_result"
    }
   ],
   "source": [
    "df['Apellido_paterno'].unique() [0:40]"
   ]
  },
  {
   "cell_type": "code",
   "execution_count": 67,
   "metadata": {
    "tags": []
   },
   "outputs": [
    {
     "data": {
      "text/plain": [
       "array(['', 'Hernandez', 'Estrada', 'Dominguez', 'Picazo', 'Lopez',\n",
       "       'Matus', 'Castaneda', 'Raygoza', 'Celis', 'Osorio', 'Trinidad',\n",
       "       'Esquivel', 'Raya', 'Cruz', 'Garcia', 'Patino', 'Rios',\n",
       "       'Sibforiano', 'Gonzales', 'Sanchez', 'Alanis', 'Corona', 'Moreno',\n",
       "       'Morales', 'Martinez', 'Vazquez', 'Sandoval', 'Valencia',\n",
       "       'Gonzalez', 'Perez', 'Olivares', 'Santillan', 'Joaquin', 'Tornado',\n",
       "       'Montoya', 'Guevara', 'Rodriguez', 'Luzan', 'Olivar'], dtype=object)"
      ]
     },
     "execution_count": 67,
     "metadata": {},
     "output_type": "execute_result"
    }
   ],
   "source": [
    "df['Apellido_materno'].unique() [0:40]"
   ]
  },
  {
   "cell_type": "code",
   "execution_count": 68,
   "metadata": {},
   "outputs": [
    {
     "data": {
      "text/plain": [
       "array([nan])"
      ]
     },
     "execution_count": 68,
     "metadata": {},
     "output_type": "execute_result"
    }
   ],
   "source": [
    "df['Nombre_alternativa'].unique() [0:40]"
   ]
  },
  {
   "cell_type": "markdown",
   "metadata": {},
   "source": [
    "## Limpiando restos y edad"
   ]
  },
  {
   "cell_type": "code",
   "execution_count": 69,
   "metadata": {},
   "outputs": [
    {
     "data": {
      "text/plain": [
       "array(['Cadáver', 'Feto', 'Miembros', 'Restos humanos', 'Restos óseos'],\n",
       "      dtype=object)"
      ]
     },
     "execution_count": 69,
     "metadata": {},
     "output_type": "execute_result"
    }
   ],
   "source": [
    "df['Restos_tipo'].unique() [0:40]"
   ]
  },
  {
   "cell_type": "code",
   "execution_count": 70,
   "metadata": {
    "tags": []
   },
   "outputs": [
    {
     "data": {
      "text/plain": [
       "array(['45', '49', '35', '30', '48', '88', '51', '62', '67', '60', '40',\n",
       "       '55', '34', '78', '99', '85', '74', '80', '46', '36', '79', '38',\n",
       "       '53', '81', '70', '54', '42', 'Se Ignora', '42  SEMANAS ', '32',\n",
       "       '27', '17', '25', '44', '22', '77', '50', '24 SEMANAS ',\n",
       "       '38 SEMANAS ', '76', '33', '24', '15', '21', '4638', '4852',\n",
       "       '4880', '4892', '4900', '4903', '4912', '4914', '4918', '8', '10',\n",
       "       '23', '59', '71', '52', '72', '24.8 semanas', '19', '16', '28',\n",
       "       '41', '2', '39', '65', '57', '75', '20 SEMANAS ', '12', '87', '96',\n",
       "       '93', '37', '83', '86', '63', '68', '66', '64', '69', '58', '91',\n",
       "       '90', '84', '82', '22 SEMANAS', '25 SEMANAS ', '31', '3', '47',\n",
       "       '05 SEMANAS ', '21 SEMANAS ', '06 SEMANAS ', '20 SEMANA S', '20',\n",
       "       '103', '32 semanas ', '11.2 semanas ', '17  semanas ', '89', '26',\n",
       "       '94', '73', '29', '40 Semanas ', '20  Semanas ', '56', '18',\n",
       "       '23 SEMANAS ', '61', '36 SEMANAS', '38 SEMANAS', '31- SEMANAS ',\n",
       "       '98', '97', '4', '37  SEMANAS ', '21  SEMANAS ', '14  SEMANAS ',\n",
       "       '24  SEMANAS ', '22  SEMANAS ', '19 SEMANAS', '43', '28 SEMANAS ',\n",
       "       '106', '9', '14 SEMANAS', '39 SEMANAS', '15 SEMANAS', '18 SEMANAS',\n",
       "       '14 SEMANAS ', '92', '4 MESES', '26 SEMANAS', '13', '12 SEMANAS',\n",
       "       '34 SEMANAS', '24 SEMANAS', '1 dia ', '12 MESES', '7 MESES',\n",
       "       '23 SEMANAS', '33 SEMANAS ', '35  SEMANAS', '20 SEMANAS',\n",
       "       '30 SEMANAS', '35 SEMANAS', '17 SEMANAS ', '25 SEMANAS',\n",
       "       '12 SEMANAS ', '40 SEMANAS ', '95', '5', '1', '11', '26 Semanas',\n",
       "       '22 Semanas', '26  SEMANAS', '36 SEMANAS ', '13 SEMANAS ',\n",
       "       '15 SEMANAS ', '101', '29 SEMANAS', '40 SEMANAS', '6',\n",
       "       '16 SEMANAS ', '18 SEMANAS ', '26 SEMANAS ', '14', '32 SEMANAS',\n",
       "       '21 SEMANAS', '42 SEMANAS ', '9 SEMANAS', '6 SEMANAS',\n",
       "       '19 SEMANAS ', '10 SEMANAS', '13.6 SEMANAS ', '26  SEMANAS ',\n",
       "       '17 SEMANAS', nan, '29 SEMANAS ', '11 SEMANAS', '27 SEMANAS ',\n",
       "       '41 SEMANAS', '36.8 semanas', '42 semanas', '34 SEMANAS ',\n",
       "       '14.4 SEMANAS ', '110', '37 SEMANAS ', '39 SEMANAS ', '33 SEMANAS',\n",
       "       '1 HORA ', '11 SEMANAS ', '30 SEMANAS ', '28  SEMANAS ',\n",
       "       '13 SEMANAS', '8 SEMANAS ', '8 DIAS', '28 SEMANAS', '4 SEMANAS ',\n",
       "       '22 SEMANAS ', '31 SEMANAS ', '9 SEMANAS ', '1 hora', '10 semanas',\n",
       "       '06 SEMANAS', '5  DIAS ', '37 SEMANAS', '16  SEMANAS ',\n",
       "       '24 Semanas', '17 Semanas ', '14 Semanas', '23 Semanas ',\n",
       "       '27 SEMANAS', '10 SEMANAS ', '19 SEMANA S'], dtype=object)"
      ]
     },
     "execution_count": 70,
     "metadata": {},
     "output_type": "execute_result"
    }
   ],
   "source": [
    "df['Edad'].unique()"
   ]
  },
  {
   "cell_type": "code",
   "execution_count": 71,
   "metadata": {},
   "outputs": [],
   "source": [
    "def limpiar_edad(s):\n",
    "    # checar el tipo\n",
    "    if type(s)==str: # esto solo se ejecutará si es un string\n",
    "        ### aqui agrega tus pasos de limpieza \n",
    "        s = unidecode(s) #quitar acento\n",
    "        s = ' '.join( s.split() ) #quitar espacios extra\n",
    "        s = s.lower() # letras en minúsculas\n",
    "    else: # esto se ejecutará si NO es un string\n",
    "        s = s #devolveremos la entrada sin modificaciones, pero puedes cambiar esto\n",
    "    return s"
   ]
  },
  {
   "cell_type": "code",
   "execution_count": 72,
   "metadata": {},
   "outputs": [
    {
     "name": "stdout",
     "output_type": "stream",
     "text": [
      "Limpieza de texto: Edad\n"
     ]
    },
    {
     "data": {
      "text/html": [
       "<div>\n",
       "<style scoped>\n",
       "    .dataframe tbody tr th:only-of-type {\n",
       "        vertical-align: middle;\n",
       "    }\n",
       "\n",
       "    .dataframe tbody tr th {\n",
       "        vertical-align: top;\n",
       "    }\n",
       "\n",
       "    .dataframe thead th {\n",
       "        text-align: right;\n",
       "    }\n",
       "</style>\n",
       "<table border=\"1\" class=\"dataframe\">\n",
       "  <thead>\n",
       "    <tr style=\"text-align: right;\">\n",
       "      <th></th>\n",
       "      <th>Cargables</th>\n",
       "      <th>Estatus_FC</th>\n",
       "      <th>Fecha_inhumación</th>\n",
       "      <th>Fecha_defunción</th>\n",
       "      <th>Fecha_exhumación</th>\n",
       "      <th>Restos_tipo</th>\n",
       "      <th>Sexo</th>\n",
       "      <th>Edad</th>\n",
       "      <th>Zona</th>\n",
       "      <th>Línea</th>\n",
       "      <th>...</th>\n",
       "      <th>Apellido_materno</th>\n",
       "      <th>Nombre_completo</th>\n",
       "      <th>Nombre_alternativa</th>\n",
       "      <th>C.I._AVP</th>\n",
       "      <th>Institución_origen</th>\n",
       "      <th>Institución_expediente</th>\n",
       "      <th>Folio Boleta de inhumación</th>\n",
       "      <th>Folio Certificado de muerte fetal</th>\n",
       "      <th>Carpeta en donde se ubica la información</th>\n",
       "      <th>Observaciones</th>\n",
       "    </tr>\n",
       "  </thead>\n",
       "  <tbody>\n",
       "    <tr>\n",
       "      <th>7062</th>\n",
       "      <td>1</td>\n",
       "      <td>Inhumación</td>\n",
       "      <td>2023-07-25 00:00:00</td>\n",
       "      <td>2023-07-05 00:00:00</td>\n",
       "      <td>NaN</td>\n",
       "      <td>Cadáver</td>\n",
       "      <td>Masculino</td>\n",
       "      <td>se ignora</td>\n",
       "      <td>5a clase</td>\n",
       "      <td>2</td>\n",
       "      <td>...</td>\n",
       "      <td>Diaz</td>\n",
       "      <td>Crisogono Garcia Diaz</td>\n",
       "      <td>NaN</td>\n",
       "      <td>CI-FIIZC/UAT-IZC-2/UI-1S/D/03831/07-2023</td>\n",
       "      <td>INSTITUTO DE CIENCIAS FORENSES - TRIBUNAL SUPE...</td>\n",
       "      <td>2820</td>\n",
       "      <td>422</td>\n",
       "      <td>15708</td>\n",
       "      <td></td>\n",
       "      <td>SEPSIS</td>\n",
       "    </tr>\n",
       "    <tr>\n",
       "      <th>7063</th>\n",
       "      <td>1</td>\n",
       "      <td>Inhumación</td>\n",
       "      <td>2023-07-25 00:00:00</td>\n",
       "      <td>2023-07-05 00:00:00</td>\n",
       "      <td>NaN</td>\n",
       "      <td>Cadáver</td>\n",
       "      <td>Masculino</td>\n",
       "      <td>se ignora</td>\n",
       "      <td>5a clase</td>\n",
       "      <td>2</td>\n",
       "      <td>...</td>\n",
       "      <td>Diaz</td>\n",
       "      <td>Ismael Cardoso Diaz</td>\n",
       "      <td>NaN</td>\n",
       "      <td>CI-FIMH/H1/UI-1S/D/00116/07-2023</td>\n",
       "      <td>INSTITUTO DE CIENCIAS FORENSES - TRIBUNAL SUPE...</td>\n",
       "      <td>2823</td>\n",
       "      <td>423</td>\n",
       "      <td>15718</td>\n",
       "      <td></td>\n",
       "      <td>NEUMONIA BILATERAL NO TRAUMATICA</td>\n",
       "    </tr>\n",
       "    <tr>\n",
       "      <th>7064</th>\n",
       "      <td>1</td>\n",
       "      <td>Inhumación</td>\n",
       "      <td>2023-07-25 00:00:00</td>\n",
       "      <td>2023-07-06 00:00:00</td>\n",
       "      <td>NaN</td>\n",
       "      <td>Cadáver</td>\n",
       "      <td>Masculino</td>\n",
       "      <td>se ignora</td>\n",
       "      <td>5a clase</td>\n",
       "      <td>2</td>\n",
       "      <td>...</td>\n",
       "      <td>Romero</td>\n",
       "      <td>Cristian Tadeo Perez Romero</td>\n",
       "      <td>NaN</td>\n",
       "      <td>CI-FICUH/CUH-4/UI-1S/D/00598/07-2023</td>\n",
       "      <td>INSTITUTO DE CIENCIAS FORENSES - TRIBUNAL SUPE...</td>\n",
       "      <td>2829</td>\n",
       "      <td>424</td>\n",
       "      <td>15710</td>\n",
       "      <td></td>\n",
       "      <td>SEPSIS COMPLICACION DETERMINADA POR TRAUMA OCULAR</td>\n",
       "    </tr>\n",
       "    <tr>\n",
       "      <th>7065</th>\n",
       "      <td>1</td>\n",
       "      <td>Inhumación</td>\n",
       "      <td>2023-08-02 00:00:00</td>\n",
       "      <td>2022-08-18 00:00:00</td>\n",
       "      <td>NaN</td>\n",
       "      <td>Cadáver</td>\n",
       "      <td>Masculino</td>\n",
       "      <td>67</td>\n",
       "      <td>5a clase</td>\n",
       "      <td>2 BIS</td>\n",
       "      <td>...</td>\n",
       "      <td>Lopez</td>\n",
       "      <td>Jesus Diaz Lopez</td>\n",
       "      <td>NaN</td>\n",
       "      <td>CI-FIIZC/UAT-IZC-2/UI-1S/D/04823/08-2023</td>\n",
       "      <td>UNIVERSIDAD ANÁHUAC - FACULTAD DE CIENCIAS DE ...</td>\n",
       "      <td>13/2022</td>\n",
       "      <td>10046</td>\n",
       "      <td>16589</td>\n",
       "      <td></td>\n",
       "      <td>EDEMA PULMONAR EN UN SUJETO CON CIRROSIS</td>\n",
       "    </tr>\n",
       "    <tr>\n",
       "      <th>7066</th>\n",
       "      <td>1</td>\n",
       "      <td>Inhumación</td>\n",
       "      <td>2023-08-02 00:00:00</td>\n",
       "      <td>2023-08-13 00:00:00</td>\n",
       "      <td>NaN</td>\n",
       "      <td>Cadáver</td>\n",
       "      <td>Masculino</td>\n",
       "      <td>64</td>\n",
       "      <td>5a clase</td>\n",
       "      <td>2 BIS</td>\n",
       "      <td>...</td>\n",
       "      <td></td>\n",
       "      <td>Alejandro Munoz N</td>\n",
       "      <td>NaN</td>\n",
       "      <td>CI-FIGAM/UAT-GAM-2/UI-1S/D/02462/08-2023</td>\n",
       "      <td>UNIVERSIDAD ANÁHUAC - FACULTAD DE CIENCIAS DE ...</td>\n",
       "      <td>14/2022</td>\n",
       "      <td>10054</td>\n",
       "      <td>16588</td>\n",
       "      <td></td>\n",
       "      <td>INFARTO AL MIOCARDIO</td>\n",
       "    </tr>\n",
       "  </tbody>\n",
       "</table>\n",
       "<p>5 rows × 26 columns</p>\n",
       "</div>"
      ],
      "text/plain": [
       "     Cargables  Estatus_FC     Fecha_inhumación      Fecha_defunción  \\\n",
       "7062         1  Inhumación  2023-07-25 00:00:00  2023-07-05 00:00:00   \n",
       "7063         1  Inhumación  2023-07-25 00:00:00  2023-07-05 00:00:00   \n",
       "7064         1  Inhumación  2023-07-25 00:00:00  2023-07-06 00:00:00   \n",
       "7065         1  Inhumación  2023-08-02 00:00:00  2022-08-18 00:00:00   \n",
       "7066         1  Inhumación  2023-08-02 00:00:00  2023-08-13 00:00:00   \n",
       "\n",
       "     Fecha_exhumación Restos_tipo       Sexo       Edad      Zona  Línea  ...  \\\n",
       "7062              NaN     Cadáver  Masculino  se ignora  5a clase      2  ...   \n",
       "7063              NaN     Cadáver  Masculino  se ignora  5a clase      2  ...   \n",
       "7064              NaN     Cadáver  Masculino  se ignora  5a clase      2  ...   \n",
       "7065              NaN     Cadáver  Masculino         67  5a clase  2 BIS  ...   \n",
       "7066              NaN     Cadáver  Masculino         64  5a clase  2 BIS  ...   \n",
       "\n",
       "     Apellido_materno              Nombre_completo Nombre_alternativa  \\\n",
       "7062             Diaz        Crisogono Garcia Diaz                NaN   \n",
       "7063             Diaz          Ismael Cardoso Diaz                NaN   \n",
       "7064           Romero  Cristian Tadeo Perez Romero                NaN   \n",
       "7065            Lopez             Jesus Diaz Lopez                NaN   \n",
       "7066                             Alejandro Munoz N                NaN   \n",
       "\n",
       "                                      C.I._AVP  \\\n",
       "7062  CI-FIIZC/UAT-IZC-2/UI-1S/D/03831/07-2023   \n",
       "7063          CI-FIMH/H1/UI-1S/D/00116/07-2023   \n",
       "7064      CI-FICUH/CUH-4/UI-1S/D/00598/07-2023   \n",
       "7065  CI-FIIZC/UAT-IZC-2/UI-1S/D/04823/08-2023   \n",
       "7066  CI-FIGAM/UAT-GAM-2/UI-1S/D/02462/08-2023   \n",
       "\n",
       "                                     Institución_origen  \\\n",
       "7062  INSTITUTO DE CIENCIAS FORENSES - TRIBUNAL SUPE...   \n",
       "7063  INSTITUTO DE CIENCIAS FORENSES - TRIBUNAL SUPE...   \n",
       "7064  INSTITUTO DE CIENCIAS FORENSES - TRIBUNAL SUPE...   \n",
       "7065  UNIVERSIDAD ANÁHUAC - FACULTAD DE CIENCIAS DE ...   \n",
       "7066  UNIVERSIDAD ANÁHUAC - FACULTAD DE CIENCIAS DE ...   \n",
       "\n",
       "     Institución_expediente Folio Boleta de inhumación  \\\n",
       "7062                   2820                        422   \n",
       "7063                   2823                        423   \n",
       "7064                   2829                        424   \n",
       "7065                13/2022                      10046   \n",
       "7066                14/2022                      10054   \n",
       "\n",
       "     Folio Certificado de muerte fetal  \\\n",
       "7062                             15708   \n",
       "7063                             15718   \n",
       "7064                             15710   \n",
       "7065                             16589   \n",
       "7066                             16588   \n",
       "\n",
       "      Carpeta en donde se ubica la información  \\\n",
       "7062                                             \n",
       "7063                                             \n",
       "7064                                             \n",
       "7065                                             \n",
       "7066                                             \n",
       "\n",
       "                                          Observaciones  \n",
       "7062                                             SEPSIS  \n",
       "7063                  NEUMONIA BILATERAL NO TRAUMATICA   \n",
       "7064  SEPSIS COMPLICACION DETERMINADA POR TRAUMA OCULAR  \n",
       "7065          EDEMA PULMONAR EN UN SUJETO CON CIRROSIS   \n",
       "7066                               INFARTO AL MIOCARDIO  \n",
       "\n",
       "[5 rows x 26 columns]"
      ]
     },
     "execution_count": 72,
     "metadata": {},
     "output_type": "execute_result"
    }
   ],
   "source": [
    "col_edad = ['Edad']\n",
    "\n",
    "for col in col_edad:\n",
    "    print('Limpieza de texto:', col)\n",
    "    df[col] = df[col].apply( limpiar_edad )\n",
    "df.tail()"
   ]
  },
  {
   "cell_type": "code",
   "execution_count": 73,
   "metadata": {},
   "outputs": [
    {
     "data": {
      "text/plain": [
       "array(['45', '49', '35', '30', '48', '88', '51', '62', '67', '60', '40',\n",
       "       '55', '34', '78', '99', '85', '74', '80', '46', '36', '79', '38',\n",
       "       '53', '81', '70', '54', '42', 'se ignora', '42 semanas', '32',\n",
       "       '27', '17', '25', '44', '22', '77', '50', '24 semanas',\n",
       "       '38 semanas', '76', '33', '24', '15', '21', '4638', '4852', '4880',\n",
       "       '4892', '4900', '4903', '4912', '4914', '4918', '8', '10', '23',\n",
       "       '59', '71', '52', '72', '24.8 semanas', '19', '16', '28', '41',\n",
       "       '2', '39', '65', '57', '75', '20 semanas', '12', '87', '96', '93',\n",
       "       '37', '83', '86', '63', '68', '66', '64', '69', '58', '91', '90',\n",
       "       '84', '82', '22 semanas', '25 semanas', '31', '3', '47',\n",
       "       '05 semanas', '21 semanas', '06 semanas', '20 semana s', '20',\n",
       "       '103', '32 semanas', '11.2 semanas', '17 semanas', '89', '26',\n",
       "       '94', '73', '29', '40 semanas', '56', '18', '23 semanas', '61',\n",
       "       '36 semanas', '31- semanas', '98', '97', '4', '37 semanas',\n",
       "       '14 semanas', '19 semanas', '43', '28 semanas', '106', '9',\n",
       "       '39 semanas', '15 semanas', '18 semanas', '92', '4 meses',\n",
       "       '26 semanas', '13', '12 semanas', '34 semanas', '1 dia',\n",
       "       '12 meses', '7 meses', '33 semanas', '35 semanas', '30 semanas',\n",
       "       '95', '5', '1', '11', '13 semanas', '101', '29 semanas', '6',\n",
       "       '16 semanas', '14', '9 semanas', '6 semanas', '10 semanas',\n",
       "       '13.6 semanas', nan, '11 semanas', '27 semanas', '41 semanas',\n",
       "       '36.8 semanas', '14.4 semanas', '110', '1 hora', '8 semanas',\n",
       "       '8 dias', '4 semanas', '31 semanas', '5 dias', '19 semana s'],\n",
       "      dtype=object)"
      ]
     },
     "execution_count": 73,
     "metadata": {},
     "output_type": "execute_result"
    }
   ],
   "source": [
    "df['Edad'].unique()"
   ]
  },
  {
   "cell_type": "code",
   "execution_count": 74,
   "metadata": {},
   "outputs": [
    {
     "name": "stdout",
     "output_type": "stream",
     "text": [
      "Remplazando columna: Edad\n"
     ]
    },
    {
     "data": {
      "text/plain": [
       "['',\n",
       " '50',\n",
       " '40',\n",
       " '60',\n",
       " '45',\n",
       " '70',\n",
       " '30',\n",
       " '35',\n",
       " '65',\n",
       " '55',\n",
       " '25',\n",
       " '80',\n",
       " '85',\n",
       " '71',\n",
       " '69',\n",
       " '82',\n",
       " '78',\n",
       " '75',\n",
       " '77',\n",
       " '66',\n",
       " '74',\n",
       " '68',\n",
       " '64',\n",
       " '67',\n",
       " '62']"
      ]
     },
     "metadata": {},
     "output_type": "display_data"
    }
   ],
   "source": [
    "df[col_edad] = df[col_edad].fillna('')\n",
    "\n",
    "replace_edad = { 'se ignora':'',\n",
    "                '05 semanas':'5 semanas',\n",
    "                '06 semanas':'6 semanas', \n",
    "                '20 semana s':'20 semanas',\n",
    "                '31- semanas':'31 semanas',\n",
    "                '1 dia':'1 día',\n",
    "                '8 dias':'8 días',\n",
    "                '5 dias':'5 días',\n",
    "                '19 semana s':'19 semanas',\n",
    "              }\n",
    "    \n",
    "# remplazamos con un for loop columna por columna, en lugar de usar selección\n",
    "# esto es solo por ejemplo\n",
    "\n",
    "for col in col_edad:\n",
    "    print('Remplazando columna:', col)\n",
    "    df[col] = df[col].replace(replace_edad)\n",
    "    # veamos los cinco valores mas comunes de la columna despúes de la sustitución\n",
    "    display( df[col].value_counts(dropna=False).index.tolist()[0:25] )"
   ]
  },
  {
   "cell_type": "code",
   "execution_count": 75,
   "metadata": {},
   "outputs": [
    {
     "data": {
      "text/plain": [
       "array(['45', '49', '35', '30', '48', '88', '51', '62', '67', '60', '40',\n",
       "       '55', '34', '78', '99', '85', '74', '80', '46', '36', '79', '38',\n",
       "       '53', '81', '70', '54', '42', '', '42 semanas', '32', '27', '17',\n",
       "       '25', '44', '22', '77', '50', '24 semanas', '38 semanas', '76',\n",
       "       '33', '24', '15', '21', '4638', '4852', '4880', '4892', '4900',\n",
       "       '4903', '4912', '4914', '4918', '8', '10', '23', '59', '71', '52',\n",
       "       '72', '24.8 semanas', '19', '16', '28', '41', '2', '39', '65',\n",
       "       '57', '75', '20 semanas', '12', '87', '96', '93', '37', '83', '86',\n",
       "       '63', '68', '66', '64', '69', '58', '91', '90', '84', '82',\n",
       "       '22 semanas', '25 semanas', '31', '3', '47', '5 semanas',\n",
       "       '21 semanas', '6 semanas', '20', '103', '32 semanas',\n",
       "       '11.2 semanas', '17 semanas', '89', '26', '94', '73', '29',\n",
       "       '40 semanas', '56', '18', '23 semanas', '61', '36 semanas',\n",
       "       '31 semanas', '98', '97', '4', '37 semanas', '14 semanas',\n",
       "       '19 semanas', '43', '28 semanas', '106', '9', '39 semanas',\n",
       "       '15 semanas', '18 semanas', '92', '4 meses', '26 semanas', '13',\n",
       "       '12 semanas', '34 semanas', '1 día', '12 meses', '7 meses',\n",
       "       '33 semanas', '35 semanas', '30 semanas', '95', '5', '1', '11',\n",
       "       '13 semanas', '101', '29 semanas', '6', '16 semanas', '14',\n",
       "       '9 semanas', '10 semanas', '13.6 semanas', '11 semanas',\n",
       "       '27 semanas', '41 semanas', '36.8 semanas', '14.4 semanas', '110',\n",
       "       '1 hora', '8 semanas', '8 días', '4 semanas', '5 días'],\n",
       "      dtype=object)"
      ]
     },
     "execution_count": 75,
     "metadata": {},
     "output_type": "execute_result"
    }
   ],
   "source": [
    "df['Edad'].unique()"
   ]
  },
  {
   "cell_type": "code",
   "execution_count": 76,
   "metadata": {},
   "outputs": [
    {
     "data": {
      "text/plain": [
       "array(['45', '49', '35', '30', '48', '88', '51', '62', '67', '60', '40',\n",
       "       '55', '34', '78', '99', '85', '74', '80', '46', '36', '79', '38',\n",
       "       '53', '81', '70', '54', '42', '', '42 semanas', '32', '27', '17',\n",
       "       '25', '44', '22', '77', '50', '24 semanas', '38 semanas', '76',\n",
       "       '33', '24', '15', '21', '4638', '4852', '4880', '4892', '4900',\n",
       "       '4903', '4912', '4914', '4918', '8', '10', '23', '59', '71', '52',\n",
       "       '72', '24.8 semanas', '19', '16', '28', '41', '2', '39', '65',\n",
       "       '57', '75', '20 semanas', '12', '87', '96', '93', '37', '83', '86',\n",
       "       '63', '68', '66', '64', '69', '58', '91', '90', '84', '82',\n",
       "       '22 semanas', '25 semanas', '31', '3', '47', '5 semanas',\n",
       "       '21 semanas', '6 semanas', '20', '103', '32 semanas',\n",
       "       '11.2 semanas', '17 semanas', '89', '26', '94', '73', '29',\n",
       "       '40 semanas', '56', '18', '23 semanas', '61', '36 semanas',\n",
       "       '31 semanas', '98', '97', '4', '37 semanas', '14 semanas',\n",
       "       '19 semanas', '43', '28 semanas', '106', '9', '39 semanas',\n",
       "       '15 semanas', '18 semanas', '92', '4 meses', '26 semanas', '13',\n",
       "       '12 semanas', '34 semanas', '1 día', '12 meses', '7 meses',\n",
       "       '33 semanas', '35 semanas', '30 semanas', '95', '5', '1', '11',\n",
       "       '13 semanas', '101', '29 semanas', '6', '16 semanas', '14',\n",
       "       '9 semanas', '10 semanas', '13.6 semanas', '11 semanas',\n",
       "       '27 semanas', '41 semanas', '36.8 semanas', '14.4 semanas', '110',\n",
       "       '1 hora', '8 semanas', '8 días', '4 semanas', '5 días'],\n",
       "      dtype=object)"
      ]
     },
     "execution_count": 76,
     "metadata": {},
     "output_type": "execute_result"
    }
   ],
   "source": [
    "df['Edad_int'] = pd.to_numeric(df['Edad'], errors=\"ignore\")\n",
    "df['Edad_int'].unique()"
   ]
  },
  {
   "cell_type": "markdown",
   "metadata": {
    "tags": []
   },
   "source": [
    "## 3.5 Limpieza de categóricos\n",
    "\n",
    "En general se considera que un dato es categorico cuando hay pocas posibilidades definidas. Una aproximación rápida es que tenga menos de diez opciones de texto. Sin embargo esta no es una regla dura, por ejemplo el catálogo del INEGI de Estados, Municipios y Localidades tiene miles de opciones."
   ]
  },
  {
   "cell_type": "code",
   "execution_count": 77,
   "metadata": {
    "tags": []
   },
   "outputs": [
    {
     "data": {
      "text/plain": [
       "Index(['Cargables', 'Estatus_FC', 'Fecha_inhumación', 'Fecha_defunción',\n",
       "       'Fecha_exhumación', 'Restos_tipo', 'Sexo', 'Edad', 'Zona', 'Línea',\n",
       "       'Fosa', 'Nivel', 'Profundidad', 'Conocido o Desconocido', 'Nombre(s)',\n",
       "       'Apellido_paterno', 'Apellido_materno', 'Nombre_completo',\n",
       "       'Nombre_alternativa', 'C.I._AVP', 'Institución_origen',\n",
       "       'Institución_expediente', 'Folio Boleta de inhumación',\n",
       "       'Folio Certificado de muerte fetal',\n",
       "       'Carpeta en donde se ubica la información', 'Observaciones',\n",
       "       'Edad_int'],\n",
       "      dtype='object')"
      ]
     },
     "execution_count": 77,
     "metadata": {},
     "output_type": "execute_result"
    }
   ],
   "source": [
    "df.columns"
   ]
  },
  {
   "cell_type": "code",
   "execution_count": 78,
   "metadata": {
    "tags": []
   },
   "outputs": [
    {
     "name": "stdout",
     "output_type": "stream",
     "text": [
      "Estatus_FC\n"
     ]
    },
    {
     "data": {
      "text/plain": [
       "['Inhumación']"
      ]
     },
     "metadata": {},
     "output_type": "display_data"
    },
    {
     "name": "stdout",
     "output_type": "stream",
     "text": [
      "Restos_tipo\n"
     ]
    },
    {
     "data": {
      "text/plain": [
       "['Cadáver', 'Miembros', 'Feto', 'Restos humanos', 'Restos óseos']"
      ]
     },
     "metadata": {},
     "output_type": "display_data"
    },
    {
     "name": "stdout",
     "output_type": "stream",
     "text": [
      "Sexo\n"
     ]
    },
    {
     "data": {
      "text/plain": [
       "['Masculino', 'Femenino', 'Indeterminado']"
      ]
     },
     "metadata": {},
     "output_type": "display_data"
    },
    {
     "name": "stdout",
     "output_type": "stream",
     "text": [
      "Zona\n"
     ]
    },
    {
     "data": {
      "text/plain": [
       "['5a clase']"
      ]
     },
     "metadata": {},
     "output_type": "display_data"
    },
    {
     "name": "stdout",
     "output_type": "stream",
     "text": [
      "Conocido o Desconocido\n"
     ]
    },
    {
     "data": {
      "text/plain": [
       "['Conocido', '', 'Desconocido']"
      ]
     },
     "metadata": {},
     "output_type": "display_data"
    },
    {
     "name": "stdout",
     "output_type": "stream",
     "text": [
      "Institución_origen\n"
     ]
    },
    {
     "data": {
      "text/plain": [
       "['INSTITUTO DE CIENCIAS FORENSES - TRIBUNAL SUPERIOR DE JUSTICIA DE LA CIUDAD DE MÉXICO',\n",
       " 'INSTITUTO POLITÉCNICO NACIONAL - ESCUELA NACIONAL DE MEDICINA Y HOMEOPATÍA',\n",
       " 'UNIVERSIDAD NACIONAL AUTÓNOMA DE MÉXICO - FACULTAD DE MEDICINA',\n",
       " 'CENTRO CULTURAL UNIVERSITARIO JUSTO SIERRA',\n",
       " 'UNIVERSIDAD WESTHILL - FACULTAD DE MEDICINA',\n",
       " 'UNIVERSIDAD ANÁHUAC - FACULTAD DE CIENCIAS DE LA SALUD',\n",
       " 'SECRETARÍA DE LA DEFENSA NACIONAL - ESCUELA MILITAR DE MEDICINA',\n",
       " 'UNIVERSIDAD TOMINAGA NAKAMOTO S.C. ESCUELA DE MEDICINA CIENCIAS BÁSICAS',\n",
       " 'SECRETARÍA DE EDUCACIÓN PÚBLICA',\n",
       " 'UNIVERSIDAD POPULAR AUTÓNOMA DEL ESTADO DE PUEBLA',\n",
       " 'ESCUELA DE MEDICINA SAINT LUKE',\n",
       " 'INSTITUCIÓN DE ASISTENCIA PRIVADA - ESCUELA LIBRE DE HOMEOPATÍA DE MÉXICO',\n",
       " 'ESCUELA DE MEDICINA DE LA UNIVERSIDAD DE CELAYA',\n",
       " 'THE AMERICAN BRITISH COWDRAY MEDICAL CENTER LA.P.',\n",
       " 'SUBPROCURADURÍA ESPECIALIZADA EN DELINCUENCIA ORGANIZADA (SEIDO)',\n",
       " 'PROCURADURÍA GENERAL DE LA REPÚBLICA']"
      ]
     },
     "metadata": {},
     "output_type": "display_data"
    }
   ],
   "source": [
    "col_cat = ['Estatus_FC', 'Restos_tipo', 'Sexo', 'Zona', 'Conocido o Desconocido', 'Institución_origen']\n",
    "\n",
    "# este es el mismo comando que usamos para ver col_str, pero cambiamos la lista que se usará\n",
    "for col in col_cat:\n",
    "    print(col)\n",
    "    display( df[col].value_counts(dropna=False).index.tolist() )"
   ]
  },
  {
   "cell_type": "code",
   "execution_count": 79,
   "metadata": {
    "tags": []
   },
   "outputs": [],
   "source": [
    "for col in col_cat:\n",
    "    df[col] = df[col].astype(\"category\")"
   ]
  },
  {
   "cell_type": "markdown",
   "metadata": {},
   "source": [
    "Podemos ver que el tipo a cambiado"
   ]
  },
  {
   "cell_type": "code",
   "execution_count": 80,
   "metadata": {
    "tags": []
   },
   "outputs": [
    {
     "data": {
      "text/plain": [
       "Cargables                                     object\n",
       "Estatus_FC                                  category\n",
       "Fecha_inhumación                              object\n",
       "Fecha_defunción                               object\n",
       "Fecha_exhumación                              object\n",
       "Restos_tipo                                 category\n",
       "Sexo                                        category\n",
       "Edad                                          object\n",
       "Zona                                        category\n",
       "Línea                                         object\n",
       "Fosa                                          object\n",
       "Nivel                                         object\n",
       "Profundidad                                   object\n",
       "Conocido o Desconocido                      category\n",
       "Nombre(s)                                     object\n",
       "Apellido_paterno                              object\n",
       "Apellido_materno                              object\n",
       "Nombre_completo                               object\n",
       "Nombre_alternativa                           float64\n",
       "C.I._AVP                                      object\n",
       "Institución_origen                          category\n",
       "Institución_expediente                        object\n",
       "Folio Boleta de inhumación                    object\n",
       "Folio Certificado de muerte fetal             object\n",
       "Carpeta en donde se ubica la información      object\n",
       "Observaciones                                 object\n",
       "Edad_int                                      object\n",
       "dtype: object"
      ]
     },
     "execution_count": 80,
     "metadata": {},
     "output_type": "execute_result"
    }
   ],
   "source": [
    "df.dtypes"
   ]
  },
  {
   "cell_type": "markdown",
   "metadata": {},
   "source": [
    "## 3.7 Limpieza de fechas\n",
    "\n",
    "Las fechas se encuentran en formato `datetime64`, lo cual incluye, fecha y hora.\n",
    "Este formato sigue el patrón: `yyyy-mm-dd hh:mm:ss`\n",
    "\n",
    "En este conjunto las columnas de texto son:\n",
    "* 'Fecha_inhumación'\n",
    "* 'Fecha_defunción'\n",
    "* 'Marca_temporal'"
   ]
  },
  {
   "cell_type": "code",
   "execution_count": 81,
   "metadata": {
    "tags": []
   },
   "outputs": [
    {
     "data": {
      "text/plain": [
       "Index(['Cargables', 'Estatus_FC', 'Fecha_inhumación', 'Fecha_defunción',\n",
       "       'Fecha_exhumación', 'Restos_tipo', 'Sexo', 'Edad', 'Zona', 'Línea',\n",
       "       'Fosa', 'Nivel', 'Profundidad', 'Conocido o Desconocido', 'Nombre(s)',\n",
       "       'Apellido_paterno', 'Apellido_materno', 'Nombre_completo',\n",
       "       'Nombre_alternativa', 'C.I._AVP', 'Institución_origen',\n",
       "       'Institución_expediente', 'Folio Boleta de inhumación',\n",
       "       'Folio Certificado de muerte fetal',\n",
       "       'Carpeta en donde se ubica la información', 'Observaciones',\n",
       "       'Edad_int'],\n",
       "      dtype='object')"
      ]
     },
     "execution_count": 81,
     "metadata": {},
     "output_type": "execute_result"
    }
   ],
   "source": [
    "df.columns"
   ]
  },
  {
   "cell_type": "code",
   "execution_count": 82,
   "metadata": {
    "tags": []
   },
   "outputs": [
    {
     "name": "stdout",
     "output_type": "stream",
     "text": [
      "Fecha_inhumación\n"
     ]
    },
    {
     "data": {
      "text/plain": [
       "['2019-03-30 00:00:00',\n",
       " '2023-04-17 00:00:00',\n",
       " '2017-05-13 00:00:00',\n",
       " '2016-04-30 00:00:00',\n",
       " '2018-07-07 00:00:00']"
      ]
     },
     "metadata": {},
     "output_type": "display_data"
    },
    {
     "name": "stdout",
     "output_type": "stream",
     "text": [
      "Fecha_defunción\n"
     ]
    },
    {
     "data": {
      "text/plain": [
       "['2019-12-28 00:00:00',\n",
       " '2019-11-28 00:00:00',\n",
       " 'Se Ignora ',\n",
       " '2017-05-20 00:00:00',\n",
       " '2016-02-18 00:00:00']"
      ]
     },
     "metadata": {},
     "output_type": "display_data"
    },
    {
     "name": "stdout",
     "output_type": "stream",
     "text": [
      "Fecha_exhumación\n"
     ]
    },
    {
     "data": {
      "text/plain": [
       "[nan]"
      ]
     },
     "metadata": {},
     "output_type": "display_data"
    }
   ],
   "source": [
    "col_date = ['Fecha_inhumación', 'Fecha_defunción','Fecha_exhumación']\n",
    "\n",
    "for col in col_date:\n",
    "    print(col)\n",
    "    display( df[col].value_counts(dropna=False).index.tolist()[0:5] )"
   ]
  },
  {
   "cell_type": "code",
   "execution_count": 83,
   "metadata": {},
   "outputs": [
    {
     "data": {
      "text/plain": [
       "array(['2015-12-12 00:00:00', '2015-12-17 00:00:00',\n",
       "       '2015-12-19 00:00:00', '2016-01-16 00:00:00',\n",
       "       '2016-01-19 00:00:00', '2016-01-23 00:00:00',\n",
       "       '2016-02-05 00:00:00', '2016-01-27 00:00:00',\n",
       "       '2016-02-13 00:00:00', '2016-02-20 00:00:00',\n",
       "       '2016-03-03 00:00:00', '2016-03-05 00:00:00',\n",
       "       '2016-03-18 00:00:00', '2016-04-09 00:00:00',\n",
       "       '2016-04-30 00:00:00', '2016-11-06 00:00:00',\n",
       "       '2016-05-13 00:00:00', '2016-05-14 00:00:00',\n",
       "       '2016-05-19 00:00:00', '2016-05-21 00:00:00',\n",
       "       '2016-05-31 00:00:00', '2016-06-01 00:00:00',\n",
       "       '2016-06-11 00:00:00', '2016-06-18 00:00:00',\n",
       "       '2016-06-22 00:00:00', '2016-06-25 00:00:00',\n",
       "       '2016-07-02 00:00:00', '2016-07-07 00:00:00',\n",
       "       '2016-07-08 00:00:00', '2016-07-23 00:00:00',\n",
       "       '2016-07-25 00:00:00', '2016-08-08 00:00:00',\n",
       "       '2016-08-26 00:00:00', '2016-08-27 00:00:00',\n",
       "       '2016-09-03 00:00:00', '2016-09-10 00:00:00',\n",
       "       '2016-09-21 00:00:00', '2016-10-01 00:00:00',\n",
       "       '2016-10-10 00:00:00', '2016-10-29 00:00:00',\n",
       "       '2016-11-12 00:00:00', '2016-11-16 00:00:00',\n",
       "       '2016-11-18 00:00:00', '2016-11-26 00:00:00',\n",
       "       '2016-12-16 00:00:00', '2016-12-03 00:00:00',\n",
       "       '2016-12-10 00:00:00', '2016-12-13 00:00:00',\n",
       "       '2016-12-17 00:00:00', '2016-12-21 00:00:00',\n",
       "       '2017-01-14 00:00:00', '2017-01-21 00:00:00',\n",
       "       '2017-01-25 00:00:00', '2017-02-04 00:00:00',\n",
       "       '2017-02-11 00:00:00', '2017-02-15 00:00:00',\n",
       "       '2017-02-18 00:00:00', '2017-02-25 00:00:00',\n",
       "       '2017-03-04 00:00:00', '2017-03-11 00:00:00',\n",
       "       '2017-04-01 00:00:00', '2017-04-08 00:00:00',\n",
       "       '2017-04-29 00:00:00', '2017-05-05 00:00:00',\n",
       "       '2017-05-13 00:00:00', '2017-05-18 00:00:00',\n",
       "       '2017-05-20 00:00:00', '2017-05-29 00:00:00',\n",
       "       '2017-05-31 00:00:00', '2017-05-30 00:00:00',\n",
       "       '2017-06-03 00:00:00', '2017-06-10 00:00:00',\n",
       "       '2017-06-24 00:00:00', '2017-06-09 00:00:00',\n",
       "       '2017-07-14 00:00:00', '2017-07-17 00:00:00',\n",
       "       '2017-06-17 00:00:00', '2017-07-28 00:00:00',\n",
       "       '2017-08-05 00:00:00', '2017-08-20 00:00:00',\n",
       "       '2017-08-17 00:00:00', '2017-08-23 00:00:00',\n",
       "       '2017-08-19 00:00:00', '2017-09-02 00:00:00',\n",
       "       '2017-09-09 00:00:00', '2017-10-06 00:00:00',\n",
       "       '2017-10-07 00:00:00', '2017-11-10 00:00:00',\n",
       "       '2017-10-14 00:00:00', '2017-10-21 00:00:00',\n",
       "       '2017-10-25 00:00:00', '2017-11-11 00:00:00',\n",
       "       '2017-11-24 00:00:00', '2017-11-25 00:00:00',\n",
       "       '2017-12-07 00:00:00', '2017-12-09 00:00:00',\n",
       "       '2017-12-15 00:00:00', '2017-12-16 00:00:00',\n",
       "       '2017-12-21 00:00:00', '2017-12-30 00:00:00',\n",
       "       '2018-01-05 00:00:00', '2018-01-11 00:00:00',\n",
       "       '2018-01-20 00:00:00', '2018-01-27 00:00:00',\n",
       "       '2018-02-03 00:00:00', '2018-02-06 00:00:00',\n",
       "       '2018-02-10 00:00:00', '2018-02-13 00:00:00',\n",
       "       '2018-02-17 00:00:00', '2018-02-24 00:00:00',\n",
       "       '2018-03-03 00:00:00', '2018-04-06 00:00:00',\n",
       "       '2018-04-17 00:00:00', '2018-04-21 00:00:00',\n",
       "       '2018-04-28 00:00:00', '2018-05-03 00:00:00',\n",
       "       '2018-05-05 00:00:00', '2018-05-12 00:00:00',\n",
       "       '2018-05-15 00:00:00', '2018-05-19 00:00:00',\n",
       "       '2018-04-16 00:00:00', '2018-06-02 00:00:00',\n",
       "       '2018-06-16 00:00:00', '2018-06-20 00:00:00',\n",
       "       '2018-06-25 00:00:00', '2018-06-29 00:00:00',\n",
       "       '2017-06-30 00:00:00', '2018-07-07 00:00:00',\n",
       "       '2018-07-14 00:00:00', '2018-07-17 00:00:00',\n",
       "       '2018-07-18 00:00:00', '2018-07-25 00:00:00',\n",
       "       '2018-08-11 00:00:00', '2018-08-25 00:00:00',\n",
       "       '2018-09-01 00:00:00', '2018-09-22 00:00:00',\n",
       "       '2018-09-29 00:00:00', '2018-10-14 00:00:00',\n",
       "       '2018-10-20 00:00:00', '2018-10-25 00:00:00',\n",
       "       '2018-10-27 00:00:00', '2018-11-17 00:00:00',\n",
       "       '2018-11-24 00:00:00', '2010-11-30 00:00:00',\n",
       "       '2018-12-01 00:00:00', '2018-12-05 00:00:00',\n",
       "       '2018-12-07 00:00:00', '2018-12-08 00:00:00',\n",
       "       '2018-12-14 00:00:00', '2019-01-02 00:00:00',\n",
       "       '2019-01-12 00:00:00', '2019-01-16 00:00:00',\n",
       "       '2019-01-19 00:00:00', '2019-01-26 00:00:00',\n",
       "       '2019-01-30 00:00:00', '2019-02-02 00:00:00',\n",
       "       '2019-02-05 00:00:00', '2019-02-16 00:00:00',\n",
       "       '2019-02-19 00:00:00', '2019-03-02 00:00:00',\n",
       "       '2019-03-16 00:00:00', '2019-03-30 00:00:00',\n",
       "       '2019-04-06 00:00:00', '2019-04-13 00:00:00',\n",
       "       '2019-04-17 00:00:00', '2019-05-04 00:00:00',\n",
       "       '2019-05-09 00:00:00', '2019-05-16 00:00:00',\n",
       "       '2019-05-18 00:00:00', '2019-05-20 00:00:00',\n",
       "       '2019-05-25 00:00:00', '2019-04-25 00:00:00',\n",
       "       '2019-05-28 00:00:00', '2019-06-01 00:00:00',\n",
       "       '2019-06-08 00:00:00', '2019-06-12 00:00:00',\n",
       "       '2019-06-15 00:00:00', '2019-06-21 00:00:00',\n",
       "       '2019-06-22 00:00:00', '2019-07-05 00:00:00',\n",
       "       '2019-07-06 00:00:00', '2019-07-15 00:00:00',\n",
       "       '2019-07-19 00:00:00', '2019-07-27 00:00:00',\n",
       "       '2019-08-03 00:00:00', '2019-08-10 00:00:00',\n",
       "       '2019-08-17 00:00:00', '2019-08-24 00:00:00',\n",
       "       '2019-08-27 00:00:00', '2019-08-31 00:00:00',\n",
       "       '2019-09-07 00:00:00', '2019-09-14 00:00:00',\n",
       "       '2019-09-28 00:00:00', '2019-10-12 00:00:00',\n",
       "       '2019-10-18 00:00:00', '2019-10-26 00:00:00',\n",
       "       '2019-11-09 00:00:00', '2019-11-22 00:00:00',\n",
       "       '2019-11-29 00:00:00', '2019-11-30 00:00:00',\n",
       "       '2019-12-07 00:00:00', '2019-12-17 00:00:00',\n",
       "       '2019-12-23 00:00:00', '2020-01-18 00:00:00',\n",
       "       '2020-02-01 00:00:00', '2020-02-08 00:00:00',\n",
       "       '2020-02-22 00:00:00', '2020-02-24 00:00:00',\n",
       "       '2020-02-25 00:00:00', '2020-02-26 00:00:00',\n",
       "       '2020-02-29 00:00:00', '2020-03-08 00:00:00',\n",
       "       '2020-03-12 00:00:00', '2020-03-14 00:00:00',\n",
       "       '2020-03-28 00:00:00', '2020-04-04 00:00:00',\n",
       "       '2020-04-17 00:00:00', '2020-04-18 00:00:00',\n",
       "       '2020-04-23 00:00:00', '2020-04-25 00:00:00',\n",
       "       '2020-04-29 00:00:00', '2020-05-02 00:00:00',\n",
       "       '2020-05-07 00:00:00', '2020-05-16 00:00:00',\n",
       "       '2020-05-23 00:00:00', '2020-05-26 00:00:00',\n",
       "       '2020-05-28 00:00:00', '2020-06-01 00:00:00',\n",
       "       '2020-06-04 00:00:00', '2020-06-06 00:00:00',\n",
       "       '2020-06-13 00:00:00', '2020-07-28 00:00:00',\n",
       "       '2020-07-31 00:00:00', '2020-08-07 00:00:00',\n",
       "       '2020-08-08 00:00:00', '2020-08-12 00:00:00',\n",
       "       '2020-08-21 00:00:00', '2020-08-28 00:00:00',\n",
       "       '2020-09-05 00:00:00', '2020-09-12 00:00:00',\n",
       "       '2020-09-23 00:00:00', '2020-09-26 00:00:00',\n",
       "       '2020-10-02 00:00:00', '2006-10-10 00:00:00',\n",
       "       '2020-10-17 00:00:00', '2020-10-24 00:00:00',\n",
       "       '2020-10-29 00:00:00', '2020-10-31 00:00:00',\n",
       "       '2020-11-07 00:00:00', '2020-11-14 00:00:00',\n",
       "       '2020-11-21 00:00:00', '2020-11-28 00:00:00',\n",
       "       '2020-12-05 00:00:00', '2020-12-07 00:00:00',\n",
       "       '2020-12-18 00:00:00', '2020-12-19 00:00:00',\n",
       "       '2020-12-23 00:00:00', '2020-12-29 00:00:00',\n",
       "       '2021-01-08 00:00:00', '2021-01-09 00:00:00',\n",
       "       '2021-01-15 00:00:00', '2021-01-18 00:00:00',\n",
       "       '2021-01-26 00:00:00', '2021-01-29 00:00:00',\n",
       "       '2021-01-30 00:00:00', '2021-02-06 00:00:00',\n",
       "       '2021-02-10 00:00:00', '2021-02-13 00:00:00',\n",
       "       '2021-02-20 00:00:00', '2021-03-03 00:00:00',\n",
       "       '2021-03-06 00:00:00', '2021-03-13 00:00:00',\n",
       "       '2021-03-20 00:00:00', '2021-03-27 00:00:00',\n",
       "       '2021-04-16 00:00:00', '2021-04-23 00:00:00',\n",
       "       '2021-05-01 00:00:00', '2021-05-07 00:00:00',\n",
       "       '2021-05-14 00:00:00', '2021-05-21 00:00:00',\n",
       "       '2021-05-29 00:00:00', '2021-06-04 00:00:00',\n",
       "       '2021-06-05 00:00:00', '2021-06-12 00:00:00',\n",
       "       '2021-06-18 00:00:00', '2021-06-25 00:00:00',\n",
       "       '2021-07-02 00:00:00', '2021-07-09 00:00:00',\n",
       "       '2021-07-16 00:00:00', '2021-07-17 00:00:00',\n",
       "       '2021-07-19 00:00:00', '2021-07-23 00:00:00',\n",
       "       '2021-07-26 00:00:00', '2021-07-27 00:00:00',\n",
       "       '2021-07-30 00:00:00', '2021-08-07 00:00:00',\n",
       "       '2021-08-14 00:00:00', '2021-08-20 00:00:00',\n",
       "       '2021-08-21 00:00:00', '2021-08-27 00:00:00',\n",
       "       '2021-09-03 00:00:00', '2021-09-11 00:00:00',\n",
       "       '2021-09-24 00:00:00', '2021-09-25 00:00:00',\n",
       "       '2021-10-01 00:00:00', '2021-10-08 00:00:00',\n",
       "       '2021-10-15 00:00:00', '2021-10-22 00:00:00',\n",
       "       '2021-10-29 00:00:00', '2021-11-12 00:00:00',\n",
       "       '2021-11-19 00:00:00', '2021-11-20 00:00:00',\n",
       "       '2021-11-26 00:00:00', '2021-12-04 00:00:00',\n",
       "       '2021-12-18 00:00:00', '2022-01-05 00:00:00',\n",
       "       '2022-01-08 00:00:00', '2022-02-05 00:00:00',\n",
       "       '2022-02-12 00:00:00', '2022-02-26 00:00:00',\n",
       "       '2022-03-07 00:00:00', '2022-03-11 00:00:00',\n",
       "       '2022-03-19 00:00:00', '2022-04-02 00:00:00',\n",
       "       '2022-04-09 00:00:00', '2022-05-04 00:00:00',\n",
       "       '2022-05-07 00:00:00', '2022-06-04 00:00:00',\n",
       "       '2022-06-11 00:00:00', '2022-06-13 00:00:00',\n",
       "       '2022-06-16 00:00:00', '2022-06-17 00:00:00',\n",
       "       '2022-06-23 00:00:00', '2022-06-30 00:00:00',\n",
       "       '2022-07-08 00:00:00', '2022-07-14 00:00:00',\n",
       "       '2022-07-25 00:00:00', '2022-07-27 00:00:00',\n",
       "       '2022-07-29 00:00:00', '2022-08-13 00:00:00',\n",
       "       '2022-08-19 00:00:00', '2022-08-31 00:00:00',\n",
       "       '2022-09-10 00:00:00', '2022-09-21 00:00:00',\n",
       "       '2022-09-30 00:00:00', '2022-10-19 00:00:00',\n",
       "       '2022-10-22 00:00:00', '2022-10-28 00:00:00',\n",
       "       '2022-12-03 00:00:00', '2022-12-05 00:00:00',\n",
       "       '2022-12-07 00:00:00', '2022-12-12 00:00:00',\n",
       "       '2022-12-19 00:00:00', '2023-01-09 00:00:00',\n",
       "       '2023-01-16 00:00:00', '2023-01-20 00:00:00',\n",
       "       '2023-01-23 00:00:00', '2023-01-30 00:00:00',\n",
       "       '2023-02-03 00:00:00', '2023-02-06 00:00:00',\n",
       "       '2023-02-13 00:00:00', '2023-02-17 00:00:00',\n",
       "       '2023-02-20 00:00:00', '2023-02-27 00:00:00',\n",
       "       '2023-03-06 00:00:00', '2023-03-13 00:00:00',\n",
       "       '2023-03-23 00:00:00', '2023-03-24 00:00:00',\n",
       "       '2023-09-24 00:00:00', '2023-03-27 00:00:00',\n",
       "       '2023-03-29 00:00:00', '2023-03-31 00:00:00',\n",
       "       '2023-04-01 00:00:00', '2023-04-17 00:00:00',\n",
       "       '2023-04-24 00:00:00', '2023-05-02 00:00:00',\n",
       "       '2023-05-08 00:00:00', '2023-05-11 00:00:00',\n",
       "       '2023-05-19 00:00:00', '2023-05-22 00:00:00',\n",
       "       '2023-05-26 00:00:00', '2023-05-29 00:00:00',\n",
       "       '2023-05-31 00:00:00', '2023-06-10 00:00:00',\n",
       "       '2023-06-15 00:00:00', '2023-06-19 00:00:00',\n",
       "       '2023-06-26 00:00:00', '2023-06-28 00:00:00',\n",
       "       '2023-07-03 00:00:00', '2023-07-11 00:00:00',\n",
       "       '2023-07-18 00:00:00', '2023-07-25 00:00:00',\n",
       "       '2023-08-02 00:00:00'], dtype=object)"
      ]
     },
     "execution_count": 83,
     "metadata": {},
     "output_type": "execute_result"
    }
   ],
   "source": [
    "df['Fecha_inhumación'].unique()"
   ]
  },
  {
   "cell_type": "code",
   "execution_count": 84,
   "metadata": {},
   "outputs": [
    {
     "data": {
      "text/plain": [
       "array(['2015-12-05 00:00:00', '2014-10-20 00:00:00',\n",
       "       '2014-10-21 00:00:00', ..., '2023-06-30 00:00:00',\n",
       "       '2023-07-02 00:00:00', '2023-08-13 00:00:00'], dtype=object)"
      ]
     },
     "execution_count": 84,
     "metadata": {},
     "output_type": "execute_result"
    }
   ],
   "source": [
    "df['Fecha_defunción'].unique()"
   ]
  },
  {
   "cell_type": "code",
   "execution_count": 85,
   "metadata": {},
   "outputs": [
    {
     "name": "stdout",
     "output_type": "stream",
     "text": [
      "Remplazando columna: Fecha_defunción\n"
     ]
    },
    {
     "data": {
      "text/plain": [
       "['2019-12-28 00:00:00',\n",
       " '',\n",
       " '2019-11-28 00:00:00',\n",
       " '2017-05-20 00:00:00',\n",
       " '2016-02-18 00:00:00',\n",
       " '2015-12-05 00:00:00',\n",
       " '2015-11-21 00:00:00',\n",
       " '2016-01-13 00:00:00',\n",
       " '2016-05-21 00:00:00',\n",
       " '2017-05-29 00:00:00',\n",
       " '2015-12-25 00:00:00',\n",
       " '2015-08-29 00:00:00',\n",
       " '2016-02-21 00:00:00',\n",
       " '2015-05-13 00:00:00',\n",
       " '2018-01-17 00:00:00',\n",
       " '2015-12-31 00:00:00',\n",
       " '2021-02-06 00:00:00',\n",
       " '2021-08-11 00:00:00',\n",
       " '2016-10-24 00:00:00',\n",
       " '2016-06-29 00:00:00',\n",
       " '2022-01-31 00:00:00',\n",
       " '2015-11-06 00:00:00',\n",
       " '2015-05-28 00:00:00',\n",
       " '2022-04-09 00:00:00',\n",
       " '2022-01-06 00:00:00']"
      ]
     },
     "metadata": {},
     "output_type": "display_data"
    },
    {
     "name": "stdout",
     "output_type": "stream",
     "text": [
      "Remplazando columna: Fecha_inhumación\n"
     ]
    },
    {
     "data": {
      "text/plain": [
       "['2019-03-30 00:00:00',\n",
       " '2023-04-17 00:00:00',\n",
       " '2017-05-13 00:00:00',\n",
       " '2016-04-30 00:00:00',\n",
       " '2018-07-07 00:00:00',\n",
       " '2023-01-30 00:00:00',\n",
       " '2018-06-16 00:00:00',\n",
       " '2023-03-24 00:00:00',\n",
       " '2021-02-06 00:00:00',\n",
       " '2022-08-13 00:00:00',\n",
       " '2022-07-25 00:00:00',\n",
       " '2022-08-19 00:00:00',\n",
       " '2016-06-11 00:00:00',\n",
       " '2022-02-05 00:00:00',\n",
       " '2018-05-19 00:00:00',\n",
       " '2022-09-30 00:00:00',\n",
       " '2022-07-29 00:00:00',\n",
       " '2022-05-07 00:00:00',\n",
       " '2019-05-04 00:00:00',\n",
       " '2017-10-14 00:00:00',\n",
       " '2021-03-13 00:00:00',\n",
       " '2023-05-22 00:00:00',\n",
       " '2022-06-11 00:00:00',\n",
       " '2022-02-26 00:00:00',\n",
       " '2022-06-13 00:00:00']"
      ]
     },
     "metadata": {},
     "output_type": "display_data"
    },
    {
     "name": "stdout",
     "output_type": "stream",
     "text": [
      "Remplazando columna: Fecha_exhumación\n"
     ]
    },
    {
     "data": {
      "text/plain": [
       "['']"
      ]
     },
     "metadata": {},
     "output_type": "display_data"
    }
   ],
   "source": [
    "col_fechadef = ['Fecha_defunción', 'Fecha_inhumación', 'Fecha_exhumación']\n",
    "\n",
    "df[col_fechadef] = df[col_fechadef].fillna('')\n",
    "\n",
    "replace_fechadef= { 'Se Ignora ':'',\n",
    "                   'Se Ignora':'',\n",
    "                   'S/F':'',\n",
    "                   '?':'',\n",
    "                   '24/11/207':'24/11/2007',\n",
    "                   '23/17/2017':'23/07/2017',\n",
    "                   '149/12/2017':'14/12/2017',\n",
    "                   '20/22/2017':'20/12/2017',\n",
    "                   '28-023-18':'28/02/2018',\n",
    "                   'Se ignora':'',\n",
    "                   'Deconocida':'',\n",
    "                   'Se desconoce':'',\n",
    "                   'Se ignora':'',\n",
    "                   'Se ignora':'',\n",
    "              }\n",
    "    \n",
    "# remplazamos con un for loop columna por columna, en lugar de usar selección\n",
    "# esto es solo por ejemplo\n",
    "\n",
    "for col in col_fechadef:\n",
    "    print('Remplazando columna:', col)\n",
    "    df[col] = df[col].replace(replace_fechadef)\n",
    "    # veamos los cinco valores mas comunes de la columna despúes de la sustitución\n",
    "    display( df[col].value_counts(dropna=False).index.tolist()[0:25] )"
   ]
  },
  {
   "cell_type": "markdown",
   "metadata": {},
   "source": [
    "Convertiremos las fechas a datetime con `to_datetime()` y veremos en que casos fracasa la función.\n",
    "Guardaremos el resultado en una columna con el sufijo `_date`.\n",
    "\n",
    "**Nota:** Para entender esta función es muy importante ver en donde se agrega el modificador que indica una nueva columna"
   ]
  },
  {
   "cell_type": "code",
   "execution_count": 86,
   "metadata": {
    "tags": []
   },
   "outputs": [
    {
     "name": "stdout",
     "output_type": "stream",
     "text": [
      "Convirtiendo columna:Fecha_inhumación\n"
     ]
    },
    {
     "data": {
      "text/html": [
       "<div>\n",
       "<style scoped>\n",
       "    .dataframe tbody tr th:only-of-type {\n",
       "        vertical-align: middle;\n",
       "    }\n",
       "\n",
       "    .dataframe tbody tr th {\n",
       "        vertical-align: top;\n",
       "    }\n",
       "\n",
       "    .dataframe thead th {\n",
       "        text-align: right;\n",
       "    }\n",
       "</style>\n",
       "<table border=\"1\" class=\"dataframe\">\n",
       "  <thead>\n",
       "    <tr style=\"text-align: right;\">\n",
       "      <th></th>\n",
       "      <th>Fecha_inhumación</th>\n",
       "      <th>Fecha_inhumación_date</th>\n",
       "    </tr>\n",
       "  </thead>\n",
       "  <tbody>\n",
       "  </tbody>\n",
       "</table>\n",
       "</div>"
      ],
      "text/plain": [
       "Empty DataFrame\n",
       "Columns: [Fecha_inhumación, Fecha_inhumación_date]\n",
       "Index: []"
      ]
     },
     "metadata": {},
     "output_type": "display_data"
    },
    {
     "name": "stdout",
     "output_type": "stream",
     "text": [
      "Convirtiendo columna:Fecha_defunción\n"
     ]
    },
    {
     "name": "stderr",
     "output_type": "stream",
     "text": [
      "/Users/zacniteminor/opt/anaconda3/lib/python3.9/site-packages/pandas/core/tools/datetimes.py:1047: UserWarning: Parsing '24/11/2007' in DD/MM/YYYY format. Provide format or specify infer_datetime_format=True for consistent parsing.\n",
      "  cache_array = _maybe_cache(arg, format, cache, convert_listlike)\n",
      "/Users/zacniteminor/opt/anaconda3/lib/python3.9/site-packages/pandas/core/tools/datetimes.py:1047: UserWarning: Parsing '23/07/2017' in DD/MM/YYYY format. Provide format or specify infer_datetime_format=True for consistent parsing.\n",
      "  cache_array = _maybe_cache(arg, format, cache, convert_listlike)\n",
      "/Users/zacniteminor/opt/anaconda3/lib/python3.9/site-packages/pandas/core/tools/datetimes.py:1047: UserWarning: Parsing '14/12/2017' in DD/MM/YYYY format. Provide format or specify infer_datetime_format=True for consistent parsing.\n",
      "  cache_array = _maybe_cache(arg, format, cache, convert_listlike)\n",
      "/Users/zacniteminor/opt/anaconda3/lib/python3.9/site-packages/pandas/core/tools/datetimes.py:1047: UserWarning: Parsing '20/12/2017' in DD/MM/YYYY format. Provide format or specify infer_datetime_format=True for consistent parsing.\n",
      "  cache_array = _maybe_cache(arg, format, cache, convert_listlike)\n",
      "/Users/zacniteminor/opt/anaconda3/lib/python3.9/site-packages/pandas/core/tools/datetimes.py:1047: UserWarning: Parsing '28/02/2018' in DD/MM/YYYY format. Provide format or specify infer_datetime_format=True for consistent parsing.\n",
      "  cache_array = _maybe_cache(arg, format, cache, convert_listlike)\n"
     ]
    },
    {
     "data": {
      "text/html": [
       "<div>\n",
       "<style scoped>\n",
       "    .dataframe tbody tr th:only-of-type {\n",
       "        vertical-align: middle;\n",
       "    }\n",
       "\n",
       "    .dataframe tbody tr th {\n",
       "        vertical-align: top;\n",
       "    }\n",
       "\n",
       "    .dataframe thead th {\n",
       "        text-align: right;\n",
       "    }\n",
       "</style>\n",
       "<table border=\"1\" class=\"dataframe\">\n",
       "  <thead>\n",
       "    <tr style=\"text-align: right;\">\n",
       "      <th></th>\n",
       "      <th>Fecha_defunción</th>\n",
       "      <th>Fecha_defunción_date</th>\n",
       "    </tr>\n",
       "  </thead>\n",
       "  <tbody>\n",
       "    <tr>\n",
       "      <th>407</th>\n",
       "      <td></td>\n",
       "      <td>NaT</td>\n",
       "    </tr>\n",
       "    <tr>\n",
       "      <th>4393</th>\n",
       "      <td>Se ignora</td>\n",
       "      <td>NaT</td>\n",
       "    </tr>\n",
       "  </tbody>\n",
       "</table>\n",
       "</div>"
      ],
      "text/plain": [
       "     Fecha_defunción Fecha_defunción_date\n",
       "407                                   NaT\n",
       "4393      Se ignora                   NaT"
      ]
     },
     "metadata": {},
     "output_type": "display_data"
    },
    {
     "name": "stdout",
     "output_type": "stream",
     "text": [
      "Convirtiendo columna:Fecha_exhumación\n"
     ]
    },
    {
     "data": {
      "text/html": [
       "<div>\n",
       "<style scoped>\n",
       "    .dataframe tbody tr th:only-of-type {\n",
       "        vertical-align: middle;\n",
       "    }\n",
       "\n",
       "    .dataframe tbody tr th {\n",
       "        vertical-align: top;\n",
       "    }\n",
       "\n",
       "    .dataframe thead th {\n",
       "        text-align: right;\n",
       "    }\n",
       "</style>\n",
       "<table border=\"1\" class=\"dataframe\">\n",
       "  <thead>\n",
       "    <tr style=\"text-align: right;\">\n",
       "      <th></th>\n",
       "      <th>Fecha_exhumación</th>\n",
       "      <th>Fecha_exhumación_date</th>\n",
       "    </tr>\n",
       "  </thead>\n",
       "  <tbody>\n",
       "    <tr>\n",
       "      <th>0</th>\n",
       "      <td></td>\n",
       "      <td>NaT</td>\n",
       "    </tr>\n",
       "  </tbody>\n",
       "</table>\n",
       "</div>"
      ],
      "text/plain": [
       "  Fecha_exhumación Fecha_exhumación_date\n",
       "0                                    NaT"
      ]
     },
     "metadata": {},
     "output_type": "display_data"
    }
   ],
   "source": [
    "for col in col_date:\n",
    "    print('Convirtiendo columna:' + col)\n",
    "    df[col+'_date'] = pd.to_datetime(df[col], errors='coerce')\n",
    "    display(df.loc[ (df[col].notna()) & (df[col+'_date'].isna()), [col, col+'_date'] ].drop_duplicates())"
   ]
  },
  {
   "cell_type": "markdown",
   "metadata": {},
   "source": [
    "## 3.8 Ordenar y guardar datos\n",
    "\n",
    "Antes de guardar los datos veamos las columnas, esto nos dará una idea de que hemos hecho."
   ]
  },
  {
   "cell_type": "code",
   "execution_count": 90,
   "metadata": {},
   "outputs": [
    {
     "data": {
      "text/html": [
       "<div>\n",
       "<style scoped>\n",
       "    .dataframe tbody tr th:only-of-type {\n",
       "        vertical-align: middle;\n",
       "    }\n",
       "\n",
       "    .dataframe tbody tr th {\n",
       "        vertical-align: top;\n",
       "    }\n",
       "\n",
       "    .dataframe thead th {\n",
       "        text-align: right;\n",
       "    }\n",
       "</style>\n",
       "<table border=\"1\" class=\"dataframe\">\n",
       "  <thead>\n",
       "    <tr style=\"text-align: right;\">\n",
       "      <th></th>\n",
       "      <th>Cargables</th>\n",
       "      <th>Estatus_FC</th>\n",
       "      <th>Fecha_inhumación</th>\n",
       "      <th>Fecha_defunción</th>\n",
       "      <th>Fecha_exhumación</th>\n",
       "      <th>Restos_tipo</th>\n",
       "      <th>Sexo</th>\n",
       "      <th>Edad</th>\n",
       "      <th>Zona</th>\n",
       "      <th>Línea</th>\n",
       "      <th>...</th>\n",
       "      <th>Institución_origen</th>\n",
       "      <th>Institución_expediente</th>\n",
       "      <th>Folio Boleta de inhumación</th>\n",
       "      <th>Folio Certificado de muerte fetal</th>\n",
       "      <th>Carpeta en donde se ubica la información</th>\n",
       "      <th>Observaciones</th>\n",
       "      <th>Edad_int</th>\n",
       "      <th>Fecha_inhumación_date</th>\n",
       "      <th>Fecha_defunción_date</th>\n",
       "      <th>Fecha_exhumación_date</th>\n",
       "    </tr>\n",
       "  </thead>\n",
       "  <tbody>\n",
       "    <tr>\n",
       "      <th>0</th>\n",
       "      <td>NaN</td>\n",
       "      <td>Inhumación</td>\n",
       "      <td>2015-12-12 00:00:00</td>\n",
       "      <td>2015-12-05 00:00:00</td>\n",
       "      <td></td>\n",
       "      <td>Cadáver</td>\n",
       "      <td>Masculino</td>\n",
       "      <td>45</td>\n",
       "      <td>5a clase</td>\n",
       "      <td>1</td>\n",
       "      <td>...</td>\n",
       "      <td>UNIVERSIDAD NACIONAL AUTÓNOMA DE MÉXICO - FACU...</td>\n",
       "      <td>10*15</td>\n",
       "      <td>4270</td>\n",
       "      <td>4856</td>\n",
       "      <td>30</td>\n",
       "      <td>NaN</td>\n",
       "      <td>45</td>\n",
       "      <td>2015-12-12</td>\n",
       "      <td>2015-12-05</td>\n",
       "      <td>NaT</td>\n",
       "    </tr>\n",
       "    <tr>\n",
       "      <th>1</th>\n",
       "      <td>NaN</td>\n",
       "      <td>Inhumación</td>\n",
       "      <td>2015-12-12 00:00:00</td>\n",
       "      <td>2015-12-05 00:00:00</td>\n",
       "      <td></td>\n",
       "      <td>Cadáver</td>\n",
       "      <td>Masculino</td>\n",
       "      <td>49</td>\n",
       "      <td>5a clase</td>\n",
       "      <td>1</td>\n",
       "      <td>...</td>\n",
       "      <td>UNIVERSIDAD NACIONAL AUTÓNOMA DE MÉXICO - FACU...</td>\n",
       "      <td>11*15</td>\n",
       "      <td>4271</td>\n",
       "      <td>4858</td>\n",
       "      <td>30</td>\n",
       "      <td>NaN</td>\n",
       "      <td>49</td>\n",
       "      <td>2015-12-12</td>\n",
       "      <td>2015-12-05</td>\n",
       "      <td>NaT</td>\n",
       "    </tr>\n",
       "    <tr>\n",
       "      <th>2</th>\n",
       "      <td>NaN</td>\n",
       "      <td>Inhumación</td>\n",
       "      <td>2015-12-12 00:00:00</td>\n",
       "      <td>2015-12-05 00:00:00</td>\n",
       "      <td></td>\n",
       "      <td>Cadáver</td>\n",
       "      <td>Masculino</td>\n",
       "      <td>35</td>\n",
       "      <td>5a clase</td>\n",
       "      <td>1</td>\n",
       "      <td>...</td>\n",
       "      <td>UNIVERSIDAD NACIONAL AUTÓNOMA DE MÉXICO - FACU...</td>\n",
       "      <td>12*15</td>\n",
       "      <td>4272</td>\n",
       "      <td>4860</td>\n",
       "      <td>30</td>\n",
       "      <td>NaN</td>\n",
       "      <td>35</td>\n",
       "      <td>2015-12-12</td>\n",
       "      <td>2015-12-05</td>\n",
       "      <td>NaT</td>\n",
       "    </tr>\n",
       "    <tr>\n",
       "      <th>3</th>\n",
       "      <td>NaN</td>\n",
       "      <td>Inhumación</td>\n",
       "      <td>2015-12-12 00:00:00</td>\n",
       "      <td>2015-12-05 00:00:00</td>\n",
       "      <td></td>\n",
       "      <td>Cadáver</td>\n",
       "      <td>Masculino</td>\n",
       "      <td>30</td>\n",
       "      <td>5a clase</td>\n",
       "      <td>1</td>\n",
       "      <td>...</td>\n",
       "      <td>UNIVERSIDAD NACIONAL AUTÓNOMA DE MÉXICO - FACU...</td>\n",
       "      <td>24*15</td>\n",
       "      <td>4273</td>\n",
       "      <td>4862</td>\n",
       "      <td>30</td>\n",
       "      <td>NaN</td>\n",
       "      <td>30</td>\n",
       "      <td>2015-12-12</td>\n",
       "      <td>2015-12-05</td>\n",
       "      <td>NaT</td>\n",
       "    </tr>\n",
       "    <tr>\n",
       "      <th>4</th>\n",
       "      <td>NaN</td>\n",
       "      <td>Inhumación</td>\n",
       "      <td>2015-12-12 00:00:00</td>\n",
       "      <td>2015-12-05 00:00:00</td>\n",
       "      <td></td>\n",
       "      <td>Cadáver</td>\n",
       "      <td>Masculino</td>\n",
       "      <td>48</td>\n",
       "      <td>5a clase</td>\n",
       "      <td>1</td>\n",
       "      <td>...</td>\n",
       "      <td>UNIVERSIDAD NACIONAL AUTÓNOMA DE MÉXICO - FACU...</td>\n",
       "      <td>25*15</td>\n",
       "      <td>4274</td>\n",
       "      <td>4864</td>\n",
       "      <td>30</td>\n",
       "      <td>NaN</td>\n",
       "      <td>48</td>\n",
       "      <td>2015-12-12</td>\n",
       "      <td>2015-12-05</td>\n",
       "      <td>NaT</td>\n",
       "    </tr>\n",
       "  </tbody>\n",
       "</table>\n",
       "<p>5 rows × 30 columns</p>\n",
       "</div>"
      ],
      "text/plain": [
       "  Cargables  Estatus_FC     Fecha_inhumación      Fecha_defunción  \\\n",
       "0       NaN  Inhumación  2015-12-12 00:00:00  2015-12-05 00:00:00   \n",
       "1       NaN  Inhumación  2015-12-12 00:00:00  2015-12-05 00:00:00   \n",
       "2       NaN  Inhumación  2015-12-12 00:00:00  2015-12-05 00:00:00   \n",
       "3       NaN  Inhumación  2015-12-12 00:00:00  2015-12-05 00:00:00   \n",
       "4       NaN  Inhumación  2015-12-12 00:00:00  2015-12-05 00:00:00   \n",
       "\n",
       "  Fecha_exhumación Restos_tipo       Sexo Edad      Zona Línea  ...  \\\n",
       "0                      Cadáver  Masculino   45  5a clase     1  ...   \n",
       "1                      Cadáver  Masculino   49  5a clase     1  ...   \n",
       "2                      Cadáver  Masculino   35  5a clase     1  ...   \n",
       "3                      Cadáver  Masculino   30  5a clase     1  ...   \n",
       "4                      Cadáver  Masculino   48  5a clase     1  ...   \n",
       "\n",
       "                                  Institución_origen Institución_expediente  \\\n",
       "0  UNIVERSIDAD NACIONAL AUTÓNOMA DE MÉXICO - FACU...                  10*15   \n",
       "1  UNIVERSIDAD NACIONAL AUTÓNOMA DE MÉXICO - FACU...                  11*15   \n",
       "2  UNIVERSIDAD NACIONAL AUTÓNOMA DE MÉXICO - FACU...                  12*15   \n",
       "3  UNIVERSIDAD NACIONAL AUTÓNOMA DE MÉXICO - FACU...                  24*15   \n",
       "4  UNIVERSIDAD NACIONAL AUTÓNOMA DE MÉXICO - FACU...                  25*15   \n",
       "\n",
       "  Folio Boleta de inhumación Folio Certificado de muerte fetal  \\\n",
       "0                       4270                              4856   \n",
       "1                       4271                              4858   \n",
       "2                       4272                              4860   \n",
       "3                       4273                              4862   \n",
       "4                       4274                              4864   \n",
       "\n",
       "  Carpeta en donde se ubica la información Observaciones Edad_int  \\\n",
       "0                                       30           NaN       45   \n",
       "1                                       30           NaN       49   \n",
       "2                                       30           NaN       35   \n",
       "3                                       30           NaN       30   \n",
       "4                                       30           NaN       48   \n",
       "\n",
       "  Fecha_inhumación_date  Fecha_defunción_date Fecha_exhumación_date  \n",
       "0            2015-12-12            2015-12-05                   NaT  \n",
       "1            2015-12-12            2015-12-05                   NaT  \n",
       "2            2015-12-12            2015-12-05                   NaT  \n",
       "3            2015-12-12            2015-12-05                   NaT  \n",
       "4            2015-12-12            2015-12-05                   NaT  \n",
       "\n",
       "[5 rows x 30 columns]"
      ]
     },
     "execution_count": 90,
     "metadata": {},
     "output_type": "execute_result"
    }
   ],
   "source": [
    "df.head()"
   ]
  },
  {
   "cell_type": "code",
   "execution_count": 91,
   "metadata": {},
   "outputs": [
    {
     "data": {
      "text/plain": [
       "Index(['Cargables', 'Estatus_FC', 'Fecha_inhumación', 'Fecha_defunción',\n",
       "       'Fecha_exhumación', 'Restos_tipo', 'Sexo', 'Edad', 'Zona', 'Línea',\n",
       "       'Fosa', 'Nivel', 'Profundidad', 'Conocido o Desconocido', 'Nombre(s)',\n",
       "       'Apellido_paterno', 'Apellido_materno', 'Nombre_completo',\n",
       "       'Nombre_alternativa', 'C.I._AVP', 'Institución_origen',\n",
       "       'Institución_expediente', 'Folio Boleta de inhumación',\n",
       "       'Folio Certificado de muerte fetal',\n",
       "       'Carpeta en donde se ubica la información', 'Observaciones', 'Edad_int',\n",
       "       'Fecha_inhumación_date', 'Fecha_defunción_date',\n",
       "       'Fecha_exhumación_date'],\n",
       "      dtype='object')"
      ]
     },
     "execution_count": 91,
     "metadata": {},
     "output_type": "execute_result"
    }
   ],
   "source": [
    "df.columns"
   ]
  },
  {
   "cell_type": "markdown",
   "metadata": {},
   "source": [
    "Al agregar columnas estas se ponen al final, por lo que sería bueno ordenarlas. Además, las columnas de fecha originales se parecen mucho a las procesadas, excepto por el cambio de formato. Entonces, podríamos quitar las originales para hacer mas pequeña la tabla. Este también es un buen momento para arrepentirse, por ejemplo quitaremos las columnas de 'diaaño'.\n",
    "\n",
    "Dependiendo del análisis podemos quitar columnas. Por ejemplo, la columna de `Marca_temporal` y sus columnas derivadas describen cuando se hizo la captura de la información del panteón al MFC. Esto es útil si nos interesa la información administrativa del Módulo, pero no si estamos interesados en los datos demográficos de los restos en Fosa común. Por lo tanto en este caso quitaremos estas columnas.\n"
   ]
  },
  {
   "cell_type": "code",
   "execution_count": 95,
   "metadata": {
    "tags": []
   },
   "outputs": [
    {
     "data": {
      "text/html": [
       "<div>\n",
       "<style scoped>\n",
       "    .dataframe tbody tr th:only-of-type {\n",
       "        vertical-align: middle;\n",
       "    }\n",
       "\n",
       "    .dataframe tbody tr th {\n",
       "        vertical-align: top;\n",
       "    }\n",
       "\n",
       "    .dataframe thead th {\n",
       "        text-align: right;\n",
       "    }\n",
       "</style>\n",
       "<table border=\"1\" class=\"dataframe\">\n",
       "  <thead>\n",
       "    <tr style=\"text-align: right;\">\n",
       "      <th></th>\n",
       "      <th>Cargables</th>\n",
       "      <th>Estatus_FC</th>\n",
       "      <th>Fecha_inhumación_date</th>\n",
       "      <th>Fecha_defunción_date</th>\n",
       "      <th>Fecha_exhumación_date</th>\n",
       "      <th>Restos_tipo</th>\n",
       "      <th>Sexo</th>\n",
       "      <th>Edad</th>\n",
       "      <th>Edad_int</th>\n",
       "      <th>Zona</th>\n",
       "      <th>...</th>\n",
       "      <th>Nombre(s)</th>\n",
       "      <th>Nombre_completo</th>\n",
       "      <th>Nombre_alternativa</th>\n",
       "      <th>Institución_origen</th>\n",
       "      <th>C.I._AVP</th>\n",
       "      <th>Institución_expediente</th>\n",
       "      <th>Folio Boleta de inhumación</th>\n",
       "      <th>Folio Certificado de muerte fetal</th>\n",
       "      <th>Carpeta en donde se ubica la información</th>\n",
       "      <th>Observaciones</th>\n",
       "    </tr>\n",
       "  </thead>\n",
       "  <tbody>\n",
       "    <tr>\n",
       "      <th>7062</th>\n",
       "      <td>1</td>\n",
       "      <td>Inhumación</td>\n",
       "      <td>2023-07-25</td>\n",
       "      <td>2023-07-05</td>\n",
       "      <td>NaT</td>\n",
       "      <td>Cadáver</td>\n",
       "      <td>Masculino</td>\n",
       "      <td></td>\n",
       "      <td></td>\n",
       "      <td>5a clase</td>\n",
       "      <td>...</td>\n",
       "      <td>Crisogono</td>\n",
       "      <td>Crisogono Garcia Diaz</td>\n",
       "      <td>NaN</td>\n",
       "      <td>INSTITUTO DE CIENCIAS FORENSES - TRIBUNAL SUPE...</td>\n",
       "      <td>CI-FIIZC/UAT-IZC-2/UI-1S/D/03831/07-2023</td>\n",
       "      <td>2820</td>\n",
       "      <td>422</td>\n",
       "      <td>15708</td>\n",
       "      <td></td>\n",
       "      <td>SEPSIS</td>\n",
       "    </tr>\n",
       "    <tr>\n",
       "      <th>7063</th>\n",
       "      <td>1</td>\n",
       "      <td>Inhumación</td>\n",
       "      <td>2023-07-25</td>\n",
       "      <td>2023-07-05</td>\n",
       "      <td>NaT</td>\n",
       "      <td>Cadáver</td>\n",
       "      <td>Masculino</td>\n",
       "      <td></td>\n",
       "      <td></td>\n",
       "      <td>5a clase</td>\n",
       "      <td>...</td>\n",
       "      <td>Ismael</td>\n",
       "      <td>Ismael Cardoso Diaz</td>\n",
       "      <td>NaN</td>\n",
       "      <td>INSTITUTO DE CIENCIAS FORENSES - TRIBUNAL SUPE...</td>\n",
       "      <td>CI-FIMH/H1/UI-1S/D/00116/07-2023</td>\n",
       "      <td>2823</td>\n",
       "      <td>423</td>\n",
       "      <td>15718</td>\n",
       "      <td></td>\n",
       "      <td>NEUMONIA BILATERAL NO TRAUMATICA</td>\n",
       "    </tr>\n",
       "    <tr>\n",
       "      <th>7064</th>\n",
       "      <td>1</td>\n",
       "      <td>Inhumación</td>\n",
       "      <td>2023-07-25</td>\n",
       "      <td>2023-07-06</td>\n",
       "      <td>NaT</td>\n",
       "      <td>Cadáver</td>\n",
       "      <td>Masculino</td>\n",
       "      <td></td>\n",
       "      <td></td>\n",
       "      <td>5a clase</td>\n",
       "      <td>...</td>\n",
       "      <td>Cristian Tadeo</td>\n",
       "      <td>Cristian Tadeo Perez Romero</td>\n",
       "      <td>NaN</td>\n",
       "      <td>INSTITUTO DE CIENCIAS FORENSES - TRIBUNAL SUPE...</td>\n",
       "      <td>CI-FICUH/CUH-4/UI-1S/D/00598/07-2023</td>\n",
       "      <td>2829</td>\n",
       "      <td>424</td>\n",
       "      <td>15710</td>\n",
       "      <td></td>\n",
       "      <td>SEPSIS COMPLICACION DETERMINADA POR TRAUMA OCULAR</td>\n",
       "    </tr>\n",
       "    <tr>\n",
       "      <th>7065</th>\n",
       "      <td>1</td>\n",
       "      <td>Inhumación</td>\n",
       "      <td>2023-08-02</td>\n",
       "      <td>2022-08-18</td>\n",
       "      <td>NaT</td>\n",
       "      <td>Cadáver</td>\n",
       "      <td>Masculino</td>\n",
       "      <td>67</td>\n",
       "      <td>67</td>\n",
       "      <td>5a clase</td>\n",
       "      <td>...</td>\n",
       "      <td>Jesus</td>\n",
       "      <td>Jesus Diaz Lopez</td>\n",
       "      <td>NaN</td>\n",
       "      <td>UNIVERSIDAD ANÁHUAC - FACULTAD DE CIENCIAS DE ...</td>\n",
       "      <td>CI-FIIZC/UAT-IZC-2/UI-1S/D/04823/08-2023</td>\n",
       "      <td>13/2022</td>\n",
       "      <td>10046</td>\n",
       "      <td>16589</td>\n",
       "      <td></td>\n",
       "      <td>EDEMA PULMONAR EN UN SUJETO CON CIRROSIS</td>\n",
       "    </tr>\n",
       "    <tr>\n",
       "      <th>7066</th>\n",
       "      <td>1</td>\n",
       "      <td>Inhumación</td>\n",
       "      <td>2023-08-02</td>\n",
       "      <td>2023-08-13</td>\n",
       "      <td>NaT</td>\n",
       "      <td>Cadáver</td>\n",
       "      <td>Masculino</td>\n",
       "      <td>64</td>\n",
       "      <td>64</td>\n",
       "      <td>5a clase</td>\n",
       "      <td>...</td>\n",
       "      <td>Alejandro</td>\n",
       "      <td>Alejandro Munoz N</td>\n",
       "      <td>NaN</td>\n",
       "      <td>UNIVERSIDAD ANÁHUAC - FACULTAD DE CIENCIAS DE ...</td>\n",
       "      <td>CI-FIGAM/UAT-GAM-2/UI-1S/D/02462/08-2023</td>\n",
       "      <td>14/2022</td>\n",
       "      <td>10054</td>\n",
       "      <td>16588</td>\n",
       "      <td></td>\n",
       "      <td>INFARTO AL MIOCARDIO</td>\n",
       "    </tr>\n",
       "  </tbody>\n",
       "</table>\n",
       "<p>5 rows × 27 columns</p>\n",
       "</div>"
      ],
      "text/plain": [
       "     Cargables  Estatus_FC Fecha_inhumación_date Fecha_defunción_date  \\\n",
       "7062         1  Inhumación            2023-07-25           2023-07-05   \n",
       "7063         1  Inhumación            2023-07-25           2023-07-05   \n",
       "7064         1  Inhumación            2023-07-25           2023-07-06   \n",
       "7065         1  Inhumación            2023-08-02           2022-08-18   \n",
       "7066         1  Inhumación            2023-08-02           2023-08-13   \n",
       "\n",
       "     Fecha_exhumación_date Restos_tipo       Sexo Edad Edad_int      Zona  \\\n",
       "7062                   NaT     Cadáver  Masculino                5a clase   \n",
       "7063                   NaT     Cadáver  Masculino                5a clase   \n",
       "7064                   NaT     Cadáver  Masculino                5a clase   \n",
       "7065                   NaT     Cadáver  Masculino   67       67  5a clase   \n",
       "7066                   NaT     Cadáver  Masculino   64       64  5a clase   \n",
       "\n",
       "      ...       Nombre(s)              Nombre_completo Nombre_alternativa  \\\n",
       "7062  ...       Crisogono        Crisogono Garcia Diaz                NaN   \n",
       "7063  ...          Ismael          Ismael Cardoso Diaz                NaN   \n",
       "7064  ...  Cristian Tadeo  Cristian Tadeo Perez Romero                NaN   \n",
       "7065  ...           Jesus             Jesus Diaz Lopez                NaN   \n",
       "7066  ...       Alejandro            Alejandro Munoz N                NaN   \n",
       "\n",
       "                                     Institución_origen  \\\n",
       "7062  INSTITUTO DE CIENCIAS FORENSES - TRIBUNAL SUPE...   \n",
       "7063  INSTITUTO DE CIENCIAS FORENSES - TRIBUNAL SUPE...   \n",
       "7064  INSTITUTO DE CIENCIAS FORENSES - TRIBUNAL SUPE...   \n",
       "7065  UNIVERSIDAD ANÁHUAC - FACULTAD DE CIENCIAS DE ...   \n",
       "7066  UNIVERSIDAD ANÁHUAC - FACULTAD DE CIENCIAS DE ...   \n",
       "\n",
       "                                      C.I._AVP Institución_expediente  \\\n",
       "7062  CI-FIIZC/UAT-IZC-2/UI-1S/D/03831/07-2023                   2820   \n",
       "7063          CI-FIMH/H1/UI-1S/D/00116/07-2023                   2823   \n",
       "7064      CI-FICUH/CUH-4/UI-1S/D/00598/07-2023                   2829   \n",
       "7065  CI-FIIZC/UAT-IZC-2/UI-1S/D/04823/08-2023                13/2022   \n",
       "7066  CI-FIGAM/UAT-GAM-2/UI-1S/D/02462/08-2023                14/2022   \n",
       "\n",
       "     Folio Boleta de inhumación Folio Certificado de muerte fetal  \\\n",
       "7062                        422                             15708   \n",
       "7063                        423                             15718   \n",
       "7064                        424                             15710   \n",
       "7065                      10046                             16589   \n",
       "7066                      10054                             16588   \n",
       "\n",
       "     Carpeta en donde se ubica la información  \\\n",
       "7062                                            \n",
       "7063                                            \n",
       "7064                                            \n",
       "7065                                            \n",
       "7066                                            \n",
       "\n",
       "                                          Observaciones  \n",
       "7062                                             SEPSIS  \n",
       "7063                  NEUMONIA BILATERAL NO TRAUMATICA   \n",
       "7064  SEPSIS COMPLICACION DETERMINADA POR TRAUMA OCULAR  \n",
       "7065          EDEMA PULMONAR EN UN SUJETO CON CIRROSIS   \n",
       "7066                               INFARTO AL MIOCARDIO  \n",
       "\n",
       "[5 rows x 27 columns]"
      ]
     },
     "execution_count": 95,
     "metadata": {},
     "output_type": "execute_result"
    }
   ],
   "source": [
    "df = df[['Cargables', 'Estatus_FC', 'Fecha_inhumación_date', 'Fecha_defunción_date',\n",
    "       'Fecha_exhumación_date', 'Restos_tipo', 'Sexo', 'Edad', 'Edad_int', 'Zona', 'Línea',\n",
    "       'Fosa', 'Nivel', 'Profundidad', 'Conocido o Desconocido', \n",
    "       'Apellido_paterno', 'Apellido_materno','Nombre(s)', 'Nombre_completo',\n",
    "       'Nombre_alternativa',  'Institución_origen', 'C.I._AVP',\n",
    "       'Institución_expediente', 'Folio Boleta de inhumación',\n",
    "       'Folio Certificado de muerte fetal',\n",
    "       'Carpeta en donde se ubica la información', 'Observaciones']]\n",
    "df.tail()"
   ]
  },
  {
   "cell_type": "code",
   "execution_count": 97,
   "metadata": {
    "tags": []
   },
   "outputs": [
    {
     "data": {
      "application/vnd.jupyter.widget-view+json": {
       "model_id": "8d1ec586b9504cd6b246330d13e439b9",
       "version_major": 2,
       "version_minor": 0
      },
      "text/plain": [
       "Summarize dataset:   0%|          | 0/5 [00:00<?, ?it/s]"
      ]
     },
     "metadata": {},
     "output_type": "display_data"
    },
    {
     "data": {
      "application/vnd.jupyter.widget-view+json": {
       "model_id": "357d78667bb14bc6846ff0085eabf110",
       "version_major": 2,
       "version_minor": 0
      },
      "text/plain": [
       "Generate report structure:   0%|          | 0/1 [00:00<?, ?it/s]"
      ]
     },
     "metadata": {},
     "output_type": "display_data"
    },
    {
     "data": {
      "application/vnd.jupyter.widget-view+json": {
       "model_id": "c46b36c23e80447795ead3c940ebd52e",
       "version_major": 2,
       "version_minor": 0
      },
      "text/plain": [
       "Render HTML:   0%|          | 0/1 [00:00<?, ?it/s]"
      ]
     },
     "metadata": {},
     "output_type": "display_data"
    },
    {
     "data": {
      "application/vnd.jupyter.widget-view+json": {
       "model_id": "e9a71e77de6749f5a8c36b021b02f752",
       "version_major": 2,
       "version_minor": 0
      },
      "text/plain": [
       "Export report to file:   0%|          | 0/1 [00:00<?, ?it/s]"
      ]
     },
     "metadata": {},
     "output_type": "display_data"
    }
   ],
   "source": [
    "#!pip install ydata_profiling\n",
    "\n",
    "from ydata_profiling import ProfileReport\n",
    "\n",
    "file_profile = \"profiles/MFC_profile_clean.html\"\n",
    "prof = ProfileReport(df, minimal=True) \n",
    "prof.to_file(output_file=file_profile)"
   ]
  },
  {
   "cell_type": "code",
   "execution_count": 98,
   "metadata": {},
   "outputs": [],
   "source": [
    "file_out = \"data_clean/MFC_ActualizacionJul2024-vf_clean.csv\"\n",
    "df.to_csv(file_out)"
   ]
  },
  {
   "cell_type": "code",
   "execution_count": 99,
   "metadata": {},
   "outputs": [],
   "source": [
    "from joblib import dump\n",
    "\n",
    "file_out_pickle = \"data_clean/MFC_ActualizacionJul2024-vf_clean.pkl\"\n",
    "\n",
    "with open(file_out_pickle, 'wb') as f:\n",
    "    dump(df, f)"
   ]
  },
  {
   "cell_type": "code",
   "execution_count": 101,
   "metadata": {
    "tags": []
   },
   "outputs": [
    {
     "name": "stdout",
     "output_type": "stream",
     "text": [
      "Collecting xlwt\n",
      "  Using cached xlwt-1.3.0-py2.py3-none-any.whl (99 kB)\n",
      "Installing collected packages: xlwt\n",
      "Successfully installed xlwt-1.3.0\n"
     ]
    }
   ],
   "source": [
    "#!pip install xlwt"
   ]
  },
  {
   "cell_type": "code",
   "execution_count": 102,
   "metadata": {
    "tags": []
   },
   "outputs": [
    {
     "name": "stderr",
     "output_type": "stream",
     "text": [
      "/var/folders/hq/9qpfjmhn1b9fzwqnv37533140000gn/T/ipykernel_53302/4097981470.py:2: FutureWarning: As the xlwt package is no longer maintained, the xlwt engine will be removed in a future version of pandas. This is the only engine in pandas that supports writing in the xls format. Install openpyxl and write to an xlsx file instead. You can set the option io.excel.xls.writer to 'xlwt' to silence this warning. While this option is deprecated and will also raise a warning, it can be globally set and the warning suppressed.\n",
      "  df.to_excel(file_out)\n"
     ]
    }
   ],
   "source": [
    "file_out = \"data_clean/MFC_ActualizacionJul2024-vf_clean.xls\"\n",
    "df.to_excel(file_out)"
   ]
  }
 ],
 "metadata": {
  "kernelspec": {
   "display_name": "Python 3 (ipykernel)",
   "language": "python",
   "name": "python3"
  },
  "language_info": {
   "codemirror_mode": {
    "name": "ipython",
    "version": 3
   },
   "file_extension": ".py",
   "mimetype": "text/x-python",
   "name": "python",
   "nbconvert_exporter": "python",
   "pygments_lexer": "ipython3",
   "version": "3.9.13"
  }
 },
 "nbformat": 4,
 "nbformat_minor": 4
}
